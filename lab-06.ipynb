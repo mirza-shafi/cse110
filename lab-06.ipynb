{
 "cells": [
  {
   "cell_type": "code",
   "execution_count": 2,
   "metadata": {},
   "outputs": [
    {
     "name": "stdout",
     "output_type": "stream",
     "text": [
      "Even!!\n"
     ]
    }
   ],
   "source": [
    "#task -01\n",
    "def even_checker(num):\n",
    "    if num%2==0:\n",
    "        print('Even!!')\n",
    "    else:\n",
    "        print('Odd!!')\n",
    "even_checker(2)"
   ]
  },
  {
   "cell_type": "code",
   "execution_count": 3,
   "metadata": {},
   "outputs": [
    {
     "name": "stdout",
     "output_type": "stream",
     "text": [
      "0 1 1 2 3 5 8 "
     ]
    }
   ],
   "source": [
    "#task-02\n",
    "def fibonacci(num):\n",
    "    zero = 0\n",
    "    one = 1\n",
    "    if num == 1:\n",
    "       print(zero)\n",
    "    else:\n",
    "       print(zero, end= ' ')\n",
    "       print(one, end = ' ')\n",
    "    for i in range(2, num+1):\n",
    "       two = zero+one\n",
    "       zero = one\n",
    "       one = two\n",
    "       if two>num:\n",
    "          break\n",
    "       print(two, end = ' ')\n",
    "fibonacci(10)"
   ]
  },
  {
   "cell_type": "code",
   "execution_count": 3,
   "metadata": {},
   "outputs": [
    {
     "name": "stdout",
     "output_type": "stream",
     "text": [
      "FooMoo\n"
     ]
    }
   ],
   "source": [
    "#task-03\n",
    "def foo_moo(num):\n",
    "    if num%2==0 and num%3==0:\n",
    "        print(\"FooMoo\")\n",
    "    elif num%3==0:\n",
    "        print(\"Moo\")\n",
    "    elif num%2==0:\n",
    "        print('Foo')\n",
    "    else:\n",
    "        print(\"Boo\")\n",
    "foo_moo(6)"
   ]
  },
  {
   "cell_type": "code",
   "execution_count": null,
   "metadata": {},
   "outputs": [],
   "source": [
    "#task-04\n",
    "def fun(name):\n",
    "    count = 0\n",
    "    countt = 0\n",
    "    for i in name:\n",
    "        if 'A'<=i<='Z':\n",
    "            count+=1\n",
    "        elif 'a'<=i<='z':\n",
    "            countt+=1\n",
    "    return count,countt\n",
    "fun('The quick Sand Man')"
   ]
  },
  {
   "cell_type": "code",
   "execution_count": 1,
   "metadata": {},
   "outputs": [
    {
     "name": "stdout",
     "output_type": "stream",
     "text": [
      "No. of Uppercase characters: 5\n",
      "No. of Lowercase Characters: 6\n"
     ]
    }
   ],
   "source": [
    "#task-04\n",
    "def function_name(str):\n",
    "    temp=0\n",
    "    count=0\n",
    "    for i in str:\n",
    "        if ord(i) in range (65, 91) :\n",
    "            count+=1\n",
    "    print (\"No. of Uppercase characters:\", count)\n",
    "    for j in str:\n",
    "        if ord(j) in range (97,123) :\n",
    "            temp+=1\n",
    "    print(\"No. of Lowercase Characters:\", temp)\n",
    "function_name ('HaRRy PotteR')"
   ]
  },
  {
   "cell_type": "code",
   "execution_count": 4,
   "metadata": {},
   "outputs": [
    {
     "name": "stdout",
     "output_type": "stream",
     "text": [
      "0\n"
     ]
    }
   ],
   "source": [
    "#task-05\n",
    "def calculate_tax(a,b,c):\n",
    "\n",
    "    if a<18:\n",
    "        print(\"0\")\n",
    "    elif c==\"president\":\n",
    "        print(\"0\")\n",
    "    elif b<10000:\n",
    "        print(\"0\")\n",
    "    elif 10000<=b<=20000:\n",
    "        sum=b*(5/100)\n",
    "        print(sum)\n",
    "    elif b>20000:\n",
    "        sum1=b*(10/100)\n",
    "        print(sum1)\n",
    "a=int(input(\"Enter your age:\"))\n",
    "b=int(input(\"Enter your age:\"))\n",
    "c=input(\"Enter your name:\")\n",
    "calculate_tax(a,b,c)"
   ]
  },
  {
   "cell_type": "code",
   "execution_count": 15,
   "metadata": {},
   "outputs": [
    {
     "name": "stdout",
     "output_type": "stream",
     "text": [
      "11 years, 10 months and 15 days\n"
     ]
    }
   ],
   "source": [
    "#task-06\n",
    "def function_name(num):\n",
    "    year = num//365\n",
    "    num%=365\n",
    "    month = num//30\n",
    "    num%=30\n",
    "    day = num\n",
    "    print (year, \"years,\",month, \"months and\", day, \"days\")\n",
    "num = int(input())\n",
    "function_name(num)"
   ]
  },
  {
   "cell_type": "code",
   "execution_count": null,
   "metadata": {},
   "outputs": [],
   "source": [
    "#task-07\n",
    "u = int(input())\n",
    "for i in range(1,u+1):\n",
    "    print(i, end = '')\n",
    "for j in range(u-1,0,-1):\n",
    "    print(j, end = '')"
   ]
  },
  {
   "cell_type": "code",
   "execution_count": 5,
   "metadata": {},
   "outputs": [
    {
     "name": "stdout",
     "output_type": "stream",
     "text": [
      "1234321"
     ]
    }
   ],
   "source": [
    "#task-07\n",
    "num = int(input(\"show_palindrome: \"))\n",
    "for i in range(1,num+1):\n",
    "    print(i, end = '')\n",
    "for j in range(num-1,0,-1):\n",
    "    print(j, end = '')"
   ]
  },
  {
   "cell_type": "code",
   "execution_count": 30,
   "metadata": {},
   "outputs": [
    {
     "name": "stdout",
     "output_type": "stream",
     "text": [
      "          1 \n",
      "        1 2 1 \n",
      "      1 2 3 2 1 \n",
      "    1 2 3 4 3 2 1 \n",
      "  1 2 3 4 5 4 3 2 1 \n",
      "1 2 3 4 5 6 5 4 3 2 1 \n"
     ]
    }
   ],
   "source": [
    "#task-08\n",
    "def show_palindromic_triangle(n):\n",
    "    num1=1\n",
    "    space1=n-1\n",
    "    for x in range(1,n+1):\n",
    "        k=0\n",
    "        for y in range(1,space1+1):\n",
    "            print(\" \",end=\" \")\n",
    "        for y in range(1,num1+1):\n",
    "            if (y<=x):\n",
    "                k+=1\n",
    "            else:\n",
    "                k-=1\n",
    "            print(k,end=\" \")\n",
    "        print()\n",
    "        num1+=2\n",
    "        space1-=1\n",
    "\n",
    "show_palindromic_triangle(6)"
   ]
  },
  {
   "cell_type": "code",
   "execution_count": 31,
   "metadata": {},
   "outputs": [
    {
     "name": "stdout",
     "output_type": "stream",
     "text": [
      "Area of the circle is 19.634954084936208 circumference is 15.707963267948966\n"
     ]
    }
   ],
   "source": [
    "#task-09\n",
    "import math\n",
    "r= float(input('Enter a number: '))\n",
    "def area_circumference_generator(r):\n",
    "    tup  = (math.pi*(r**2),2*math.pi*r)\n",
    "    return tup\n",
    "a,b=area_circumference_generator(r)\n",
    "print('Area of the circle is',a,'circumference is',b)"
   ]
  },
  {
   "cell_type": "code",
   "execution_count": 35,
   "metadata": {},
   "outputs": [
    {
     "name": "stdout",
     "output_type": "stream",
     "text": [
      "{1: 1, 2: 4, 3: 9}\n"
     ]
    }
   ],
   "source": [
    "#task-10\n",
    "def make_square(x):\n",
    "    dict1={}\n",
    "    for y in range(x[0],x[-1]+1):\n",
    "        n=y*y\n",
    "        dict1[y]=n\n",
    "    print(dict1)\n",
    "make_square((1,3))"
   ]
  },
  {
   "cell_type": "code",
   "execution_count": 36,
   "metadata": {},
   "outputs": [
    {
     "name": "stdout",
     "output_type": "stream",
     "text": [
      "('Hi', 1, 2, 3, 'a', [1, 2])\n"
     ]
    }
   ],
   "source": [
    "#task-11\n",
    "def rem_duplicate(duplicate_list):\n",
    "    removed_list = []\n",
    "    for i in duplicate_list:\n",
    "        if i not in removed_list:\n",
    "            removed_list.append(i)\n",
    "    return tuple(removed_list)\n",
    "print(rem_duplicate((\"Hi\", 1, 2, 3, 3, \"Hi\",'a', 'a', [1,2])))"
   ]
  },
  {
   "cell_type": "code",
   "execution_count": 37,
   "metadata": {},
   "outputs": [
    {
     "name": "stdout",
     "output_type": "stream",
     "text": [
      "Removed: 2\n",
      "[1, 2, 3, 3, 4, 5, 8, 8]\n"
     ]
    }
   ],
   "source": [
    "#task-12\n",
    "def function_name(list1):\n",
    "    list_name1=[]\n",
    "    for i in list1:\n",
    "        if list_name1.count(i) < 2:\n",
    "            list_name1.append(i)\n",
    "    x=len(list1)-len(list_name1)\n",
    "    print('Removed:',x)\n",
    "    print(list_name1)\n",
    "function_name([1, 2, 3, 3, 3, 3, 4, 5, 8, 8])"
   ]
  },
  {
   "cell_type": "code",
   "execution_count": 55,
   "metadata": {},
   "outputs": [
    {
     "name": "stdout",
     "output_type": "stream",
     "text": [
      "30.0\n"
     ]
    }
   ],
   "source": [
    "#task-13\n",
    "def funtion(a,b,c):\n",
    "    if a== '+':\n",
    "        print(b+c)\n",
    "    elif a == '-':\n",
    "        print(abs(b-c))\n",
    "    elif a == '*':\n",
    "        print(b*c)\n",
    "    elif a =='/':\n",
    "        print(b/c)    \n",
    "a = input()\n",
    "b = float(input())\n",
    "c = float(input())\n",
    "funtion(a,b,c)"
   ]
  },
  {
   "cell_type": "code",
   "execution_count": 1,
   "metadata": {},
   "outputs": [
    {
     "name": "stdout",
     "output_type": "stream",
     "text": [
      "I lveprgrmmngo oai"
     ]
    }
   ],
   "source": [
    "#task-14\n",
    "def funtion(name,num):\n",
    "    print(name[0], end = '')\n",
    "    for i in range(1,len(name)):\n",
    "        if i%num!=0:\n",
    "          print(name[i], end = '')\n",
    "    for i in range(1,len(name)-1):\n",
    "        if i%num==0:\n",
    "          print(name[i], end = '')\n",
    "name = input()\n",
    "num = int(input())\n",
    "funtion(name,num)"
   ]
  },
  {
   "cell_type": "code",
   "execution_count": 107,
   "metadata": {},
   "outputs": [
    {
     "name": "stdout",
     "output_type": "stream",
     "text": [
      "\"Rice\"\n",
      " \"Beef\"\n",
      " \"Rice\"\n"
     ]
    }
   ],
   "source": [
    "#task-15\n",
    "def funtion(lst,location):\n",
    "    Rice = 105\n",
    "    sum = 0\n",
    "    for i in lst1:\n",
    "        print(i)\n",
    "        if \"Rice\" in lst1:\n",
    "            print(Rice)\n",
    "Rice = 105\n",
    "sum = 0\n",
    "lst = input()\n",
    "lst = lst[1:-1]\n",
    "lst = lst.split('\", \"')\n",
    "lst1 = list(lst)\n",
    "location = input()\n",
    "funtion(lst1,location)"
   ]
  },
  {
   "cell_type": "code",
   "execution_count": 93,
   "metadata": {},
   "outputs": [
    {
     "name": "stdout",
     "output_type": "stream",
     "text": [
      "['\"Rice\"', ' \"Beef\"', ' \"Rice\"']\n"
     ]
    }
   ],
   "source": [
    "lst = input()\n",
    "lst = lst[1:-1]\n",
    "lst = lst.split(',')\n",
    "lst1 = list(lst)\n",
    "print(lst1)"
   ]
  },
  {
   "cell_type": "code",
   "execution_count": 38,
   "metadata": {},
   "outputs": [
    {
     "name": "stdout",
     "output_type": "stream",
     "text": [
      "['Rice', 'Beef', 'Rice']\n",
      "Rice\n",
      "Beef\n",
      "Rice\n"
     ]
    }
   ],
   "source": [
    "lst = input()\n",
    "lst = lst[2:-2]\n",
    "lst = lst.split('\", \"')\n",
    "print(lst)\n",
    "for i in lst:\n",
    "    print(i)"
   ]
  },
  {
   "cell_type": "code",
   "execution_count": 46,
   "metadata": {},
   "outputs": [
    {
     "name": "stdout",
     "output_type": "stream",
     "text": [
      "720\n"
     ]
    }
   ],
   "source": [
    "#task-15\n",
    "def funtion(lst,location = 'Dhanmondi'):\n",
    "    Rice = 105\n",
    "    Potato =  20\n",
    "    Chicken = 250\n",
    "    Beef = 510 \n",
    "    Oil = 85\n",
    "    sum = 0\n",
    "    for i in lst:\n",
    "        if 'Rice' == i:\n",
    "            sum+=Rice\n",
    "        elif 'Potato'==i:\n",
    "            sum+=Potato\n",
    "        elif 'Chicken'==i:\n",
    "            sum+=Chicken\n",
    "        elif 'Beef'==i:\n",
    "            sum+=Beef\n",
    "        elif 'Oil'==i:\n",
    "            sum+=Oil\n",
    "    if 'Dhanmondi' == location:\n",
    "        sum+=30\n",
    "    else:\n",
    "        sum+=70\n",
    "    print(sum)\n",
    "lst = input()\n",
    "lst = lst[2:-2]\n",
    "lst = lst.split('\", \"')\n",
    "location = input()\n",
    "funtion(lst,location)"
   ]
  },
  {
   "cell_type": "code",
   "execution_count": 8,
   "metadata": {},
   "outputs": [
    {
     "name": "stdout",
     "output_type": "stream",
     "text": [
      "[-27, 3, 4, 4, 4, 4, 5, 5, 6, 6, 6, 6, 7, 7, 8, 9, 84]\n"
     ]
    }
   ],
   "source": [
    "lis = [3,4,4,5,6,7,4,-27,9,6,5,4,6,7,84,6,8]\n",
    "for i in range(len(lis)-1):\n",
    "    for j in range(0,len(lis)-i-1):\n",
    "        if lis[j]>lis[j+1]:\n",
    "            temp = lis[j]\n",
    "            lis[j] = lis[j+1]\n",
    "            lis[j+1] = temp\n",
    "print(lis)"
   ]
  },
  {
   "cell_type": "code",
   "execution_count": 1,
   "metadata": {},
   "outputs": [
    {
     "ename": "AttributeError",
     "evalue": "'dict' object has no attribute 'append'",
     "output_type": "error",
     "traceback": [
      "\u001b[0;31m---------------------------------------------------------------------------\u001b[0m",
      "\u001b[0;31mAttributeError\u001b[0m                            Traceback (most recent call last)",
      "\u001b[1;32m/Users/mirzashafi/VS-code/CSE110/lab-06.ipynb Cell 20\u001b[0m in \u001b[0;36m<cell line: 28>\u001b[0;34m()\u001b[0m\n\u001b[1;32m     <a href='vscode-notebook-cell:/Users/mirzashafi/VS-code/CSE110/lab-06.ipynb#X25sZmlsZQ%3D%3D?line=27'>28</a>\u001b[0m \u001b[39mfor\u001b[39;00m k \u001b[39min\u001b[39;00m r:\n\u001b[1;32m     <a href='vscode-notebook-cell:/Users/mirzashafi/VS-code/CSE110/lab-06.ipynb#X25sZmlsZQ%3D%3D?line=28'>29</a>\u001b[0m     \u001b[39mif\u001b[39;00m k\u001b[39m%\u001b[39m\u001b[39m2\u001b[39m\u001b[39m!=\u001b[39m\u001b[39m0\u001b[39m:\n\u001b[0;32m---> <a href='vscode-notebook-cell:/Users/mirzashafi/VS-code/CSE110/lab-06.ipynb#X25sZmlsZQ%3D%3D?line=29'>30</a>\u001b[0m         dic\u001b[39m.\u001b[39;49mappend(k)\n\u001b[1;32m     <a href='vscode-notebook-cell:/Users/mirzashafi/VS-code/CSE110/lab-06.ipynb#X25sZmlsZQ%3D%3D?line=30'>31</a>\u001b[0m         dic\u001b[39m.\u001b[39mupdate({di[\u001b[39m2\u001b[39m]:d})\n\u001b[1;32m     <a href='vscode-notebook-cell:/Users/mirzashafi/VS-code/CSE110/lab-06.ipynb#X25sZmlsZQ%3D%3D?line=31'>32</a>\u001b[0m \u001b[39mprint\u001b[39m(n)\n",
      "\u001b[0;31mAttributeError\u001b[0m: 'dict' object has no attribute 'append'"
     ]
    }
   ],
   "source": [
    "def function(di):\n",
    "    x = di[0]\n",
    "    y = di[1]\n",
    "    z = di[2]\n",
    "    for i in range(1,x+1):\n",
    "        if x%i==0:\n",
    "            n.append(i)\n",
    "    for j in range(1,y+1):\n",
    "        if y%j==0:\n",
    "            q.append(j)\n",
    "    for k in range(1,z+1):\n",
    "        if x%k==0:\n",
    "            r.append(k)\n",
    "\n",
    "di = (16,70,60)\n",
    "n = []\n",
    "q = []\n",
    "r = []\n",
    "c = []\n",
    "function(di)\n",
    "dic = {}\n",
    "for i in n:\n",
    "    if i%2!=0:\n",
    "        dic.update({di[0]:i})\n",
    "for j in q:\n",
    "    if j%2!=0:\n",
    "        dic.update({di[1]:j})\n",
    "for k in r:\n",
    "    if k%2!=0:\n",
    "        dic.append(k)\n",
    "        dic.update({di[2]:d})\n",
    "print(n)\n",
    "print(q)\n",
    "print(r)\n",
    "print(dic)"
   ]
  },
  {
   "cell_type": "code",
   "execution_count": null,
   "metadata": {},
   "outputs": [],
   "source": []
  }
 ],
 "metadata": {
  "kernelspec": {
   "display_name": "Python 3.10.4 64-bit",
   "language": "python",
   "name": "python3"
  },
  "language_info": {
   "codemirror_mode": {
    "name": "ipython",
    "version": 3
   },
   "file_extension": ".py",
   "mimetype": "text/x-python",
   "name": "python",
   "nbconvert_exporter": "python",
   "pygments_lexer": "ipython3",
   "version": "3.10.4"
  },
  "orig_nbformat": 4,
  "vscode": {
   "interpreter": {
    "hash": "aee8b7b246df8f9039afb4144a1f6fd8d2ca17a180786b69acc140d282b71a49"
   }
  }
 },
 "nbformat": 4,
 "nbformat_minor": 2
}
