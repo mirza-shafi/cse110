{
  "cells": [
    {
      "cell_type": "code",
      "execution_count": null,
      "metadata": {
        "colab": {
          "base_uri": "https://localhost:8080/"
        },
        "id": "q9tmFx2qZSq0",
        "outputId": "eafcf835-1fe7-4029-c118-8036fc372773"
      },
      "outputs": [
        {
          "name": "stdout",
          "output_type": "stream",
          "text": [
            "please enter your string: 234ghfo845yfghewro85t\n",
            "t58orwehgfy548ofhg432\n"
          ]
        }
      ],
      "source": [
        "#task-01\n",
        "var  = input(\"please enter your string: \")\n",
        "for i in range(len(var)):\n",
        "  print(var[-1:-(len(var)+1):-1])\n",
        "  break"
      ]
    },
    {
      "cell_type": "code",
      "execution_count": null,
      "metadata": {
        "colab": {
          "base_uri": "https://localhost:8080/"
        },
        "id": "tAE22NPu_Gyt",
        "outputId": "74a63ea7-5d55-4d4b-caf8-71a8fb7e2b2e"
      },
      "outputs": [
        {
          "name": "stdout",
          "output_type": "stream",
          "text": [
            "please enter your string: Jekygfqow4\n",
            "4woqfgykeJ"
          ]
        }
      ],
      "source": [
        "#task 1 another solve\n",
        "var  = input(\"please enter your string: \")\n",
        "for i in range(-1,-(len(var)+1),-1):\n",
        "  print(var[i],end = '')"
      ]
    },
    {
      "cell_type": "code",
      "execution_count": null,
      "metadata": {
        "colab": {
          "base_uri": "https://localhost:8080/"
        },
        "id": "zMfnENOcmZNM",
        "outputId": "423de065-9cf0-49c2-fa30-fecaa350b85d"
      },
      "outputs": [
        {
          "name": "stdout",
          "output_type": "stream",
          "text": [
            "cse110\n",
            "011esc\n"
          ]
        }
      ],
      "source": [
        "#task-01 another one\n",
        "word = input()\n",
        "length = len(word)\n",
        "print(word[-1:-length-1:-1])"
      ]
    },
    {
      "cell_type": "code",
      "execution_count": null,
      "metadata": {
        "colab": {
          "base_uri": "https://localhost:8080/"
        },
        "id": "L-M_xlARdCY4",
        "outputId": "bd001b3f-044b-4cb8-ea07-7a63e85d7c2a"
      },
      "outputs": [
        {
          "name": "stdout",
          "output_type": "stream",
          "text": [
            "sdtghw4g\n",
            "3\n",
            "gtdshw4g\n"
          ]
        }
      ],
      "source": [
        "#task-02\n",
        "number = input()\n",
        "index = int(input())\n",
        "hold = number[:index+1]\n",
        "reverse =hold[-1::-1]\n",
        "rest = number[index+1: ]\n",
        "con = reverse + rest\n",
        "print(con)"
      ]
    },
    {
      "cell_type": "code",
      "execution_count": 1,
      "metadata": {
        "id": "-AL4TIYmpOu6"
      },
      "outputs": [
        {
          "name": "stdout",
          "output_type": "stream",
          "text": [
            "lehlo\n"
          ]
        }
      ],
      "source": [
        "#anotehr one\n",
        "num = input()\n",
        "leng = len(num)\n",
        "x = int(input())\n",
        "n = num[0:x+1:1]\n",
        "l = n[-1:-len(n)-1:-1]\n",
        "hold = num[x+1:leng:1]\n",
        "con = l+hold\n",
        "print(con)"
      ]
    },
    {
      "cell_type": "code",
      "execution_count": null,
      "metadata": {
        "id": "9i84I-1vfB4u"
      },
      "outputs": [],
      "source": [
        "#task-3\n",
        "num =  input() \n",
        "length = len(num)\n",
        "for i in range(length):\n",
        "  if num[i]==\"0\" or num[i]==\"1\":\n",
        "    decision = True\n",
        "  else:\n",
        "    decision = False\n",
        "    break\n",
        "if decision == True:\n",
        "  print(\"Binary Number\")\n",
        "else:\n",
        "  print(\"Not a Binary Number\")"
      ]
    },
    {
      "cell_type": "code",
      "execution_count": null,
      "metadata": {
        "id": "E4Kh_LWi6eT3"
      },
      "outputs": [],
      "source": [
        "#task-03 another one\n",
        "num  = input()\n",
        "for i in num:\n",
        "    if i==\"0\" or i==\"1\":\n",
        "        dis = True\n",
        "    else:\n",
        "        dis = False\n",
        "        break\n",
        "if dis==True:\n",
        "    print(\"BIN\")\n",
        "else:\n",
        "    print(\"not\")"
      ]
    },
    {
      "cell_type": "code",
      "execution_count": null,
      "metadata": {
        "id": "OBOJ6UHRffUe"
      },
      "outputs": [],
      "source": [
        "#task-04\n",
        "word = input()\n",
        "length = len(word)\n",
        "if word.endswith('er'):\n",
        "  reserve= word[:length-2]\n",
        "  word = reserve+'est'\n",
        "  print(word)\n",
        "elif length<4:\n",
        "  print(word) \n",
        "elif word.endswith('est'):\n",
        "  print(word)\n",
        "elif length>3:\n",
        "  print(word+'er')\n"
      ]
    },
    {
      "cell_type": "code",
      "execution_count": null,
      "metadata": {
        "colab": {
          "base_uri": "https://localhost:8080/"
        },
        "id": "rUG6GTYIfoED",
        "outputId": "beff3210-f413-40ed-82a0-7d34e2e511a1"
      },
      "outputs": [
        {
          "name": "stdout",
          "output_type": "stream",
          "text": [
            "please enter your number: BANGLA\n",
            "B\n",
            "BA\n",
            "BAN\n",
            "BANG\n",
            "BANGL\n",
            "BANGLA\n"
          ]
        }
      ],
      "source": [
        "#task-05\n",
        "word = input(\"please enter your number: \")\n",
        "length = len(word)\n",
        "for start in range(length):\n",
        "  for i in range(start+1):\n",
        "    print( word[i],end = \"\")\n",
        "  print()"
      ]
    },
    {
      "cell_type": "code",
      "execution_count": null,
      "metadata": {
        "colab": {
          "base_uri": "https://localhost:8080/"
        },
        "id": "3zzyr6z2fvg8",
        "outputId": "b13b56e8-55f4-4671-c320-e8a0fca7eaa2"
      },
      "outputs": [
        {
          "name": "stdout",
          "output_type": "stream",
          "text": [
            "Enter a string: dsrgasdg\n",
            "d  : 100\n",
            "s  : 115\n",
            "r  : 114\n",
            "g  : 103\n",
            "a  : 97\n",
            "s  : 115\n",
            "d  : 100\n",
            "g  : 103\n"
          ]
        }
      ],
      "source": [
        "#task-06\n",
        "x = input(\"Enter a string: \")\n",
        "for i in  x:\n",
        "    print(i,\" :\",ord(i))"
      ]
    },
    {
      "cell_type": "code",
      "execution_count": null,
      "metadata": {
        "colab": {
          "base_uri": "https://localhost:8080/"
        },
        "id": "AD_Lf6-2hDXG",
        "outputId": "cd811291-df7e-43e0-d28d-e90527b5f324"
      },
      "outputs": [
        {
          "name": "stdout",
          "output_type": "stream",
          "text": [
            "xyzabc\n",
            "yz{bcd"
          ]
        }
      ],
      "source": [
        "#task-07\n",
        "word= input()\n",
        "length = len(word)\n",
        "for i in range(length):\n",
        "  current_value = ord(word[i])\n",
        "  next_value = current_value+1\n",
        "  next_char = chr(next_value)\n",
        "  #if next_char == \"z\":\n",
        "       # print(\"a\",end=\"\")\n",
        "\n",
        "  print(next_char, end = '')"
      ]
    },
    {
      "cell_type": "code",
      "execution_count": null,
      "metadata": {
        "colab": {
          "base_uri": "https://localhost:8080/"
        },
        "id": "uw9pjWmMHBm7",
        "outputId": "530d5a39-45e7-4b97-e240-1d441c0629dc"
      },
      "outputs": [
        {
          "name": "stdout",
          "output_type": "stream",
          "text": [
            "xyz\n",
            "yza"
          ]
        }
      ],
      "source": [
        "#task-07 another solve\n",
        "w = input()\n",
        "leng = len(w)\n",
        "for i in range(leng):\n",
        "  if w[i]=='z':\n",
        "    print('a',end = '')\n",
        "  else:\n",
        "    print(chr(ord(w[i])+1), end = '')\n",
        "\n",
        "    "
      ]
    },
    {
      "cell_type": "code",
      "execution_count": null,
      "metadata": {
        "colab": {
          "base_uri": "https://localhost:8080/"
        },
        "id": "-pYu8Mk8jQ-Q",
        "outputId": "cd08d895-0631-4cb5-d092-ffbefc6905b0"
      },
      "outputs": [
        {
          "name": "stdout",
          "output_type": "stream",
          "text": [
            "enter a string xyzabc\n",
            "yzabcd"
          ]
        }
      ],
      "source": [
        "#task-07(another sove)\n",
        "word = input(\"enter a string \")\n",
        "for i in word:\n",
        "    if(i==\"z\"):\n",
        "        print(\"a\",end=\"\")\n",
        "    else:\n",
        "        print(chr(ord(i)+1),end=\"\")"
      ]
    },
    {
      "cell_type": "code",
      "execution_count": null,
      "metadata": {
        "colab": {
          "base_uri": "https://localhost:8080/"
        },
        "id": "tYzmX6cQjoYN",
        "outputId": "e03057e6-0e14-4e24-887d-ff1b0151095e"
      },
      "outputs": [
        {
          "name": "stdout",
          "output_type": "stream",
          "text": [
            "Enter your string: string\n",
            "TIG"
          ]
        }
      ],
      "source": [
        "#task-08\n",
        "word = input(\"Enter your string: \")\n",
        "for i in range(1,len(word),2):\n",
        "  current_value = ord(word[i])\n",
        "  print(chr(current_value-32),end = '')\n",
        "\n",
        "\n",
        "\n",
        "\n",
        "  \n",
        "#solved"
      ]
    },
    {
      "cell_type": "code",
      "execution_count": null,
      "metadata": {
        "colab": {
          "base_uri": "https://localhost:8080/"
        },
        "id": "fkczzpehNbH1",
        "outputId": "86f28532-8eee-492d-a707-82e4fee1b9ca"
      },
      "outputs": [
        {
          "name": "stdout",
          "output_type": "stream",
          "text": [
            "shafi\n",
            "5\n"
          ]
        }
      ],
      "source": [
        "word = input()\n",
        "print(len(word))"
      ]
    },
    {
      "cell_type": "code",
      "execution_count": null,
      "metadata": {
        "colab": {
          "base_uri": "https://localhost:8080/"
        },
        "id": "MiOaRfyWlteN",
        "outputId": "72300dcb-7eeb-4884-e57b-b477318261a1"
      },
      "outputs": [
        {
          "name": "stdout",
          "output_type": "stream",
          "text": [
            "enter a string: 1122221\n",
            "121\n"
          ]
        }
      ],
      "source": [
        "#task-09\n",
        "first = input(\"enter a string: \")\n",
        "second = first[0]\n",
        "for i in range(1, len(first)):\n",
        "    if(first[i] != first[i-1]):\n",
        "        second  += first[i]\n",
        "print(second)"
      ]
    },
    {
      "cell_type": "code",
      "execution_count": null,
      "metadata": {
        "id": "HMLrlsdbPSrc"
      },
      "outputs": [],
      "source": [
        "#TASK-10\n",
        "#i can not solve this problem :\")\n"
      ]
    },
    {
      "cell_type": "code",
      "execution_count": 3,
      "metadata": {
        "colab": {
          "base_uri": "https://localhost:8080/"
        },
        "id": "KUrvUCmaPZu-",
        "outputId": "c49d5df4-50c4-4615-db49-6d077c3d59de"
      },
      "outputs": [
        {
          "name": "stdout",
          "output_type": "stream",
          "text": [
            "5==5\n",
            "2==2\n",
            "0==0\n",
            "-3 != -2\n",
            "-5 != -5\n",
            "-8 != -7\n",
            "-10 != -10\n"
          ]
        }
      ],
      "source": [
        "#task-11\n",
        "i = 10\n",
        "while(i>=-20):\n",
        "  if(i < 0):\n",
        "    test = \" != \"\n",
        "    test = str(i//2) + test + str(int(i/2))\n",
        "  else:\n",
        "    test = \"==\"\n",
        "    test = str(i//2) + test + str(int(i/2))\n",
        "  print(test)\n",
        "  i-=5"
      ]
    },
    {
      "cell_type": "code",
      "execution_count": 29,
      "metadata": {},
      "outputs": [
        {
          "name": "stdout",
          "output_type": "stream",
          "text": [
            "['ABCDENDFGH', 'ijkl']\n",
            "BB"
          ]
        }
      ],
      "source": [
        "w = input()\n",
        "w = w.split(', ')\n",
        "l1 = len(w[0])\n",
        "l2 = len(w[1])\n",
        "print(w)\n",
        "if l1>l2:\n",
        "    for i in range(len(w)):\n",
        "        print(w[0][1],end = '')\n",
        "\n",
        "#ABCDENDFGH, ijkl"
      ]
    },
    {
      "cell_type": "code",
      "execution_count": 30,
      "metadata": {},
      "outputs": [
        {
          "name": "stdout",
          "output_type": "stream",
          "text": [
            "AABBCCDDEENNDDFFGGHH,,  iijjkkll"
          ]
        }
      ],
      "source": [
        "#task-10\n",
        "first = input(\"enter a string \")\n",
        "second = input(\"enter a string \")\n",
        "if (len(first) > len(second)):\n",
        "    capital = len(first)\n",
        "    small = len(second)\n",
        "else:\n",
        "    capital = len(second)\n",
        "    small = len(first)\n",
        "count = 0\n",
        "while(count < small):\n",
        "    print(first[count] + second[count], end = \"\")\n",
        "    count = count + 1\n",
        "if(len(first) > len(second)):\n",
        "    remaining = first[small : ]\n",
        "    print(remaining)\n",
        "elif(len(second) > len(first)):\n",
        "    remaining = second[small : ]\n",
        "    print(remaining)"
      ]
    }
  ],
  "metadata": {
    "colab": {
      "name": " lab-assignment-03.ipynb",
      "provenance": []
    },
    "kernelspec": {
      "display_name": "Python 3.10.4 64-bit",
      "language": "python",
      "name": "python3"
    },
    "language_info": {
      "codemirror_mode": {
        "name": "ipython",
        "version": 3
      },
      "file_extension": ".py",
      "mimetype": "text/x-python",
      "name": "python",
      "nbconvert_exporter": "python",
      "pygments_lexer": "ipython3",
      "version": "3.11.0 (v3.11.0:deaf509e8f, Oct 24 2022, 14:43:23) [Clang 13.0.0 (clang-1300.0.29.30)]"
    },
    "vscode": {
      "interpreter": {
        "hash": "aee8b7b246df8f9039afb4144a1f6fd8d2ca17a180786b69acc140d282b71a49"
      }
    }
  },
  "nbformat": 4,
  "nbformat_minor": 0
}
