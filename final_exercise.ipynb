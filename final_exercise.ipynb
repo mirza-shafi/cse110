{
 "cells": [
  {
   "cell_type": "code",
   "execution_count": 1,
   "metadata": {},
   "outputs": [
    {
     "name": "stdout",
     "output_type": "stream",
     "text": [
      "Sum is =  9\n",
      "Product =  20\n",
      "Difference =  -1\n"
     ]
    }
   ],
   "source": [
    "#1\n",
    "l = int(input())\n",
    "r = int(input())\n",
    "print('Sum is = ', l+r)\n",
    "print('Product = ',l*r)\n",
    "print('Difference = ',l-r)\n"
   ]
  },
  {
   "cell_type": "code",
   "execution_count": 2,
   "metadata": {},
   "outputs": [
    {
     "name": "stdout",
     "output_type": "stream",
     "text": [
      "circumferece is  25.132741228718345\n",
      "Area is  50.26548245743669\n"
     ]
    }
   ],
   "source": [
    "#2\n",
    "import math\n",
    "r = float(input())\n",
    "print('circumferece is ',2*math.pi*r)\n",
    "print('Area is ', math.pi*r**2)"
   ]
  },
  {
   "cell_type": "code",
   "execution_count": 5,
   "metadata": {},
   "outputs": [
    {
     "name": "stdout",
     "output_type": "stream",
     "text": [
      "The number is equal.\n"
     ]
    }
   ],
   "source": [
    "#3\n",
    "l = int(input())\n",
    "r = int(input())\n",
    "if l>r:\n",
    "    print('First is greater.')\n",
    "elif l<r:\n",
    "    print('Second si greater.')\n",
    "else:\n",
    "    print('The number is equal.')"
   ]
  },
  {
   "cell_type": "code",
   "execution_count": 8,
   "metadata": {},
   "outputs": [
    {
     "name": "stdout",
     "output_type": "stream",
     "text": [
      "36\n"
     ]
    }
   ],
   "source": [
    "#4\n",
    "l = int(input())\n",
    "r = int(input())\n",
    "if l>r:\n",
    "    print(l-r)\n",
    "else:\n",
    "    print(r-l)"
   ]
  },
  {
   "cell_type": "code",
   "execution_count": 12,
   "metadata": {},
   "outputs": [
    {
     "name": "stdout",
     "output_type": "stream",
     "text": [
      "The number is odd.\n"
     ]
    }
   ],
   "source": [
    "#5\n",
    "l = int(input())\n",
    "if l%2==0:\n",
    "    print('The number is even.')\n",
    "else:\n",
    "    print('The number is odd.')   "
   ]
  },
  {
   "cell_type": "code",
   "execution_count": 15,
   "metadata": {},
   "outputs": [
    {
     "name": "stdout",
     "output_type": "stream",
     "text": [
      "Not a multiple of 2 OR 5.\n"
     ]
    }
   ],
   "source": [
    "#6\n",
    "l = int(input())\n",
    "if l%2==0 or l%5==0:\n",
    "    print(l)\n",
    "else:\n",
    "    print('Not a multiple of 2 OR 5.')"
   ]
  },
  {
   "cell_type": "code",
   "execution_count": 20,
   "metadata": {},
   "outputs": [
    {
     "name": "stdout",
     "output_type": "stream",
     "text": [
      "15\n"
     ]
    }
   ],
   "source": [
    "#7\n",
    "l = int(input())\n",
    "if l%2==0 and l%5==0:\n",
    "    print('Multiple of 2 and 5 both')\n",
    "elif l%2==0 or l%5==0:\n",
    "    print(l)\n",
    "else:\n",
    "    print('Not a multiple we want')"
   ]
  },
  {
   "cell_type": "code",
   "execution_count": 22,
   "metadata": {},
   "outputs": [
    {
     "name": "stdout",
     "output_type": "stream",
     "text": [
      "30\n"
     ]
    }
   ],
   "source": [
    "#8\n",
    "l = int(input())\n",
    "if l%2==0 and l%5==0:\n",
    "  print(l)\n",
    "else:\n",
    "    print('Not a multiple of 2 and 5 both')\n"
   ]
  },
  {
   "cell_type": "code",
   "execution_count": 35,
   "metadata": {},
   "outputs": [
    {
     "name": "stdout",
     "output_type": "stream",
     "text": [
      "Hours: 2 minute:  46 second: 40\n"
     ]
    }
   ],
   "source": [
    "#9\n",
    "time = int(input())\n",
    "hour = time//3600\n",
    "print('Hours:',hour,end = ' ')\n",
    "time = time%3600\n",
    "minute = time//60\n",
    "print('minute: ',minute, end = ' ')\n",
    "print('second:',time%60)"
   ]
  },
  {
   "cell_type": "code",
   "execution_count": 9,
   "metadata": {},
   "outputs": [
    {
     "name": "stdout",
     "output_type": "stream",
     "text": [
      "Hour cannot be negative\n"
     ]
    }
   ],
   "source": [
    "#10\n",
    "hour = int(input())\n",
    "if 0<hour<=40:\n",
    "    print(hour*200)\n",
    "elif hour>168:\n",
    "    print('Impossible to work more than 168 hours weekly')\n",
    "elif hour>40:\n",
    "    print(8000+(hour-40)*300)\n",
    "else:\n",
    "    print('Hour cannot be negative.')\n"
   ]
  },
  {
   "cell_type": "code",
   "execution_count": 14,
   "metadata": {},
   "outputs": [
    {
     "name": "stdout",
     "output_type": "stream",
     "text": [
      "\"Patience is a virtue\"\n"
     ]
    }
   ],
   "source": [
    "#12\n",
    "hour = int(input())\n",
    "if 4<=hour<=6:\n",
    "    print('B')\n",
    "elif 12<=hour<=13:\n",
    "    print('L')\n",
    "elif 16<=hour<=17:\n",
    "    print('S')\n",
    "elif 19<=hour<=20:\n",
    "    print('D')\n",
    "elif  0<=hour<=3 or 20<hour<=23:\n",
    "    print('\"Patience is a virtue\"')\n",
    "else:\n",
    "    print('wrong time')"
   ]
  },
  {
   "cell_type": "code",
   "execution_count": 18,
   "metadata": {},
   "outputs": [
    {
     "name": "stdout",
     "output_type": "stream",
     "text": [
      "25.4\n",
      "Too slow\n"
     ]
    }
   ],
   "source": [
    "#13\n",
    "d = int(input())\n",
    "s = int(input())\n",
    "v = (d/1000)/(s/3600)\n",
    "print(v)\n",
    "if v<60:\n",
    "    print('Too slow')"
   ]
  },
  {
   "cell_type": "code",
   "execution_count": 21,
   "metadata": {},
   "outputs": [
    {
     "name": "stdout",
     "output_type": "stream",
     "text": [
      "24, 18, 12, 6, 0, -6"
     ]
    }
   ],
   "source": [
    "for i in range(24,-7,-6):\n",
    "    if i==-6:\n",
    "        print(i, end='')\n",
    "    else:\n",
    "        print(i, end = ', ')"
   ]
  },
  {
   "cell_type": "code",
   "execution_count": 23,
   "metadata": {},
   "outputs": [
    {
     "name": "stdout",
     "output_type": "stream",
     "text": [
      "-10, -5, 0, 5, 10, 15, 20"
     ]
    }
   ],
   "source": [
    "for i in range(-10,21,5):\n",
    "    if i == 20:\n",
    "        print(i, end = '')\n",
    "    else:\n",
    "        print(i, end = ', ')"
   ]
  },
  {
   "cell_type": "code",
   "execution_count": 24,
   "metadata": {},
   "outputs": [
    {
     "name": "stdout",
     "output_type": "stream",
     "text": [
      "18, 27, 36, 45, 54, 63 "
     ]
    }
   ],
   "source": [
    "for i in range(18,64,9):\n",
    "    if i==63:\n",
    "        print(i, end = ' ')\n",
    "    else:\n",
    "        print(i, end = ', ')"
   ]
  },
  {
   "cell_type": "code",
   "execution_count": 27,
   "metadata": {},
   "outputs": [
    {
     "name": "stdout",
     "output_type": "stream",
     "text": [
      "18, -27, 36, -45, 54, -63"
     ]
    }
   ],
   "source": [
    "for i in range(18,64,9):\n",
    "    if i==63:\n",
    "        print(i*-1, end= '')\n",
    "    elif i%2!=0:\n",
    "        print(i*-1, end = ', ')\n",
    "    else:\n",
    "        print(i, end = ', ')"
   ]
  },
  {
   "cell_type": "code",
   "execution_count": 28,
   "metadata": {},
   "outputs": [
    {
     "name": "stdout",
     "output_type": "stream",
     "text": [
      "hello putkimara\n",
      "hello putkimara\n",
      "hello putkimara\n",
      "hello putkimara\n"
     ]
    }
   ],
   "source": [
    "time = int(input())\n",
    "for i in range(time):\n",
    "    print('hello putkimara')"
   ]
  },
  {
   "cell_type": "code",
   "execution_count": 29,
   "metadata": {},
   "outputs": [
    {
     "name": "stdout",
     "output_type": "stream",
     "text": [
      "2835\n"
     ]
    }
   ],
   "source": [
    "sum = 0\n",
    "for i in range(63,568):\n",
    "    if i%7==0 and  i%9==0:\n",
    "        sum+=i\n",
    "print(sum)\n"
   ]
  },
  {
   "cell_type": "code",
   "execution_count": 31,
   "metadata": {},
   "outputs": [
    {
     "name": "stdout",
     "output_type": "stream",
     "text": [
      "11 13 15 17 19 21 23 25 27 29 31 33 35 37 39 41 43 45 47 49 "
     ]
    }
   ],
   "source": [
    "for i in range(10,51):\n",
    "    if i%2!=0:\n",
    "        print(i, end = ' ')"
   ]
  },
  {
   "cell_type": "code",
   "execution_count": 34,
   "metadata": {},
   "outputs": [
    {
     "name": "stdout",
     "output_type": "stream",
     "text": [
      "-210\n"
     ]
    }
   ],
   "source": [
    "#lab-02,task-6\n",
    "sum = 0\n",
    "t =  int(input())\n",
    "for i in range(t+1):\n",
    "    if i%2==0:\n",
    "        sum-=i**2\n",
    "    else:\n",
    "        sum+=i**2\n",
    "print(sum)"
   ]
  },
  {
   "cell_type": "code",
   "execution_count": 39,
   "metadata": {},
   "outputs": [
    {
     "name": "stdout",
     "output_type": "stream",
     "text": [
      "22.5\n",
      "90\n"
     ]
    }
   ],
   "source": [
    "#task-07\n",
    "sum = 0\n",
    "count = 0\n",
    "for i in range(10):\n",
    "    l = int(input())\n",
    "    if l%2!=0:\n",
    "        sum+=l\n",
    "        count+=1\n",
    "print(sum/count)\n",
    "print(sum)"
   ]
  },
  {
   "cell_type": "code",
   "execution_count": 43,
   "metadata": {},
   "outputs": [
    {
     "name": "stdout",
     "output_type": "stream",
     "text": [
      "385\n"
     ]
    }
   ],
   "source": [
    "#tak-08\n",
    "num = int(input())\n",
    "sum = 0\n",
    "for i in range(1,num+1):\n",
    "    if i%7==0:\n",
    "        sum+=i\n",
    "print(sum)"
   ]
  },
  {
   "cell_type": "code",
   "execution_count": 44,
   "metadata": {},
   "outputs": [
    {
     "name": "stdout",
     "output_type": "stream",
     "text": [
      "1\n",
      "3\n",
      "6\n",
      "10\n",
      "15\n"
     ]
    }
   ],
   "source": [
    "#task-09\n",
    "sum = 0\n",
    "for i in range(5):\n",
    "    num = int(input())\n",
    "    sum+=num\n",
    "    print(sum)\n"
   ]
  },
  {
   "cell_type": "code",
   "execution_count": 49,
   "metadata": {},
   "outputs": [
    {
     "name": "stdout",
     "output_type": "stream",
     "text": [
      "4\n"
     ]
    }
   ],
   "source": [
    "#10\n",
    "num = int(input())\n",
    "num%=10\n",
    "print(num)"
   ]
  },
  {
   "cell_type": "code",
   "execution_count": 55,
   "metadata": {},
   "outputs": [
    {
     "name": "stdout",
     "output_type": "stream",
     "text": [
      "8, 6, 7, 2, 3"
     ]
    }
   ],
   "source": [
    "num = int(input())\n",
    "while num!=0:\n",
    "    num1 = num%10\n",
    "    num//=10\n",
    "    if num%10==0:\n",
    "        print(num1, end = '')\n",
    "    else:\n",
    "        print(num1, end = ', ')"
   ]
  },
  {
   "cell_type": "code",
   "execution_count": 56,
   "metadata": {},
   "outputs": [
    {
     "name": "stdout",
     "output_type": "stream",
     "text": [
      "6, 5, 4, 3, 2, 1"
     ]
    }
   ],
   "source": [
    "num  = int(input())\n",
    "while num!=0:\n",
    "    l = num%10\n",
    "    num//=10\n",
    "    if num%10==0:\n",
    "        print(l, end = '')\n",
    "    else:\n",
    "        print(l, end = ', ')"
   ]
  },
  {
   "cell_type": "code",
   "execution_count": 60,
   "metadata": {},
   "outputs": [
    {
     "name": "stdout",
     "output_type": "stream",
     "text": [
      "5\n"
     ]
    }
   ],
   "source": [
    "num  = int(input())\n",
    "count = 0\n",
    "while num!=0:\n",
    "    num//=10\n",
    "    count+=1\n",
    "print(count)"
   ]
  },
  {
   "cell_type": "code",
   "execution_count": 69,
   "metadata": {},
   "outputs": [
    {
     "name": "stdout",
     "output_type": "stream",
     "text": [
      "5\n",
      "1, 2, 3, 4, 5"
     ]
    }
   ],
   "source": [
    "#task-12\n",
    "num = int(input())\n",
    "temp = num\n",
    "count = 0\n",
    "while num!=0:\n",
    "    num = num//10\n",
    "    count+=1\n",
    "print(count)\n",
    "p = 10**(count-1)\n",
    "while count!=0:\n",
    "    d = temp//p\n",
    "    if count==1:\n",
    "        print(d, end = '')\n",
    "    else:\n",
    "        print(d, end = ', ')\n",
    "    temp = temp%p\n",
    "    p = p//10\n",
    "    count-=1\n"
   ]
  },
  {
   "cell_type": "code",
   "execution_count": 71,
   "metadata": {},
   "outputs": [
    {
     "name": "stdout",
     "output_type": "stream",
     "text": [
      "234, 34, 4, 0 "
     ]
    }
   ],
   "source": [
    "n = int(input())\n",
    "temp = n\n",
    "count = 0\n",
    "while n!=0:\n",
    "    n//=10\n",
    "    count+=1\n",
    "p = 10**(count-1)\n",
    "while count!=0:\n",
    "    d =  temp%p\n",
    "    if count==1:\n",
    "        print(d, end = ' ')\n",
    "    else:\n",
    "        print(d, end = ', ')\n",
    "    temp = temp%p\n",
    "    p = p//10\n",
    "    count-=1"
   ]
  },
  {
   "cell_type": "code",
   "execution_count": 84,
   "metadata": {},
   "outputs": [
    {
     "name": "stdout",
     "output_type": "stream",
     "text": [
      "1, 2, 3, 6 \n",
      " Total 4\n"
     ]
    }
   ],
   "source": [
    "n =  int(input())\n",
    "count = 0\n",
    "for i in range(1,n+1):\n",
    "    if n%i==0:\n",
    "        if i==n:\n",
    "            print(i, end = ' ')\n",
    "        else:\n",
    "           print(i, end = ', ')\n",
    "        count+=1\n",
    "print('\\n','Total',count)"
   ]
  },
  {
   "cell_type": "code",
   "execution_count": 89,
   "metadata": {},
   "outputs": [
    {
     "name": "stdout",
     "output_type": "stream",
     "text": [
      "28 This is the perfect number.\n"
     ]
    }
   ],
   "source": [
    "n = int(input())\n",
    "sum = 0\n",
    "for i in range(1,n):\n",
    "    if n%i==0:\n",
    "        sum+=i\n",
    "if sum==n:\n",
    "    print(n,'This is the perfect number.')\n",
    "else:\n",
    "    print(n,'This is not a perfect number.')\n"
   ]
  },
  {
   "cell_type": "code",
   "execution_count": 94,
   "metadata": {},
   "outputs": [
    {
     "name": "stdout",
     "output_type": "stream",
     "text": [
      "6 This is not a prime number\n"
     ]
    }
   ],
   "source": [
    "n  = int(input())\n",
    "for i in range(2,n):\n",
    "    if n%i!=0:\n",
    "        print(n, 'This is a prime number')\n",
    "        break\n",
    "    else:\n",
    "        print(n, 'This is not a prime number')\n",
    "        break"
   ]
  },
  {
   "cell_type": "code",
   "execution_count": 102,
   "metadata": {},
   "outputs": [
    {
     "name": "stdout",
     "output_type": "stream",
     "text": [
      "10\n",
      "-100\n",
      "-17.2\n"
     ]
    }
   ],
   "source": [
    "#task-16\n",
    "num = int(input())\n",
    "min = 0\n",
    "max = 0\n",
    "sum = 0\n",
    "for i in range(num):\n",
    "    n = int(input())\n",
    "    if min>n:\n",
    "        min = n\n",
    "    elif max<n:\n",
    "        max = n\n",
    "    sum+=n\n",
    "print(max)\n",
    "print(min)\n",
    "print(sum/num)"
   ]
  },
  {
   "cell_type": "code",
   "execution_count": 107,
   "metadata": {},
   "outputs": [
    {
     "name": "stdout",
     "output_type": "stream",
     "text": [
      "+ + + + + \n",
      "+ + + + + \n",
      "+ + + + + \n",
      "+ + + + + \n",
      "+ + + + + \n"
     ]
    }
   ],
   "source": [
    "n = int(input())\n",
    "for i in range(n):\n",
    "    for j in range(n):\n",
    "        print('+', end = ' ')\n",
    "    print()"
   ]
  },
  {
   "cell_type": "code",
   "execution_count": 109,
   "metadata": {},
   "outputs": [
    {
     "name": "stdout",
     "output_type": "stream",
     "text": [
      "1 2 3 4 5 6 \n",
      "1 2 3 4 5 6 \n",
      "1 2 3 4 5 6 \n",
      "1 2 3 4 5 6 \n"
     ]
    }
   ],
   "source": [
    "n = int(input())\n",
    "m = int(input())\n",
    "for i in range(n):\n",
    "    for j in range(1,m+1):\n",
    "        print(j, end = ' ')\n",
    "    print()"
   ]
  },
  {
   "cell_type": "code",
   "execution_count": 1,
   "metadata": {},
   "outputs": [
    {
     "name": "stdout",
     "output_type": "stream",
     "text": [
      "1 2 3 4 5 6 \n",
      "1 2 3 4 5 6 \n",
      "1 2 3 4 5 6 \n",
      "1 2 3 4 5 6 \n"
     ]
    }
   ],
   "source": [
    "n = int(input())\n",
    "m = int(input())\n",
    "for i in range(n):\n",
    "    for j in range(1,m+1):\n",
    "        print(j, end =  ' ')\n",
    "    print()"
   ]
  },
  {
   "cell_type": "code",
   "execution_count": 2,
   "metadata": {},
   "outputs": [
    {
     "name": "stdout",
     "output_type": "stream",
     "text": [
      "\n",
      "1 \n",
      "1 2 \n",
      "1 2 3 \n",
      "1 2 3 4 \n",
      "1 2 3 4 5 \n"
     ]
    }
   ],
   "source": [
    "n  = int(input())\n",
    "for i in range(n+1):\n",
    "    for j in range(1,i+1):\n",
    "        print(j, end=  ' ')\n",
    "    print()"
   ]
  },
  {
   "cell_type": "code",
   "execution_count": 117,
   "metadata": {},
   "outputs": [
    {
     "name": "stdout",
     "output_type": "stream",
     "text": [
      "odd\n"
     ]
    }
   ],
   "source": [
    "def even_checker(n):\n",
    "    if n%2==0:\n",
    "        print('even')\n",
    "    else:\n",
    "        print('odd')\n",
    "even_checker(int(input()))"
   ]
  },
  {
   "cell_type": "code",
   "execution_count": 5,
   "metadata": {},
   "outputs": [
    {
     "name": "stdout",
     "output_type": "stream",
     "text": [
      "1 \n",
      "1 2 \n",
      "1 2 3 \n",
      "1 2 3 4 \n",
      "1 2 3 4 5 \n"
     ]
    }
   ],
   "source": [
    "k = int(input())\n",
    "for i in range(k):\n",
    "    for j in range(1,i+2):\n",
    "        print(j, end = ' ')\n",
    "    print()"
   ]
  },
  {
   "cell_type": "code",
   "execution_count": 9,
   "metadata": {},
   "outputs": [
    {
     "name": "stdout",
     "output_type": "stream",
     "text": [
      "1 2 3 4 5 6 \n",
      "1 2 3 4 5 6 \n",
      "1 2 3 4 5 6 \n",
      "1 2 3 4 5 6 \n"
     ]
    }
   ],
   "source": [
    "n = int(input())\n",
    "m = int(input())\n",
    "for i in range(n):\n",
    "    for j in range(1,m+1):\n",
    "        print(j, end = ' ')\n",
    "    print()"
   ]
  },
  {
   "cell_type": "code",
   "execution_count": 20,
   "metadata": {},
   "outputs": [
    {
     "name": "stdout",
     "output_type": "stream",
     "text": [
      "432\n"
     ]
    }
   ],
   "source": [
    "print(input()[-1:0:-1])"
   ]
  },
  {
   "cell_type": "code",
   "execution_count": 29,
   "metadata": {},
   "outputs": [
    {
     "name": "stdout",
     "output_type": "stream",
     "text": [
      "4321dcBa\n"
     ]
    }
   ],
   "source": [
    "n  = input()\n",
    "m = int(input())\n",
    "n = n[-m:-len(n)-1:-1]\n",
    "print(n)"
   ]
  },
  {
   "cell_type": "code",
   "execution_count": 34,
   "metadata": {},
   "outputs": [
    {
     "name": "stdout",
     "output_type": "stream",
     "text": [
      "21dcBa34defg\n"
     ]
    }
   ],
   "source": [
    "n  = input()\n",
    "m = int(input())\n",
    "n = n[m::-1]+n[m+1:len(n):1]\n",
    "print(n)"
   ]
  },
  {
   "cell_type": "code",
   "execution_count": 49,
   "metadata": {},
   "outputs": [
    {
     "name": "stdout",
     "output_type": "stream",
     "text": [
      "b\n"
     ]
    }
   ],
   "source": [
    "n = input()\n",
    "for i in n:\n",
    "    if i=='0' or i=='1':\n",
    "        d = True\n",
    "    else:\n",
    "        d = False\n",
    "        break\n",
    "if d==True:\n",
    "    print('b')\n",
    "else:\n",
    "    print('not')"
   ]
  },
  {
   "cell_type": "code",
   "execution_count": 56,
   "metadata": {},
   "outputs": [
    {
     "name": "stdout",
     "output_type": "stream",
     "text": [
      "stronger\n"
     ]
    }
   ],
   "source": [
    "n = input()\n",
    "l = len(n)\n",
    "if n.endswith('er'):\n",
    "    print(n[ :l-2]+'est')\n",
    "elif l<4:\n",
    "    print(n)\n",
    "elif n.endswith('est'):\n",
    "    print(n)\n",
    "elif l>3:\n",
    "    print(n+'er')"
   ]
  },
  {
   "cell_type": "code",
   "execution_count": 59,
   "metadata": {},
   "outputs": [
    {
     "name": "stdout",
     "output_type": "stream",
     "text": [
      "B\n",
      "BA\n",
      "BAN\n",
      "BANG\n",
      "BANGL\n",
      "BANGLA\n"
     ]
    }
   ],
   "source": [
    "n = input()\n",
    "for i in range(len(n)):\n",
    "    for j in range(0,i+1):\n",
    "        print(n[j], end = '')\n",
    "    print()"
   ]
  },
  {
   "cell_type": "code",
   "execution_count": 66,
   "metadata": {},
   "outputs": [
    {
     "name": "stdout",
     "output_type": "stream",
     "text": [
      "P : 80\n",
      "r : 114\n",
      "o : 111\n",
      "g : 103\n",
      "r : 114\n",
      "a : 97\n",
      "m : 109\n",
      "m : 109\n",
      "i : 105\n",
      "n : 110\n",
      "g : 103\n"
     ]
    }
   ],
   "source": [
    "n = input()\n",
    "for i in n:\n",
    "    print(i,':',ord(i))"
   ]
  },
  {
   "cell_type": "code",
   "execution_count": 68,
   "metadata": {},
   "outputs": [
    {
     "name": "stdout",
     "output_type": "stream",
     "text": [
      "107\n"
     ]
    }
   ],
   "source": [
    "print(ord('k'))"
   ]
  },
  {
   "cell_type": "code",
   "execution_count": 76,
   "metadata": {},
   "outputs": [
    {
     "name": "stdout",
     "output_type": "stream",
     "text": [
      "yzabcd"
     ]
    }
   ],
   "source": [
    "w = input()\n",
    "for i in w:\n",
    "    if ord(i)==122:\n",
    "        print('a',end = '')\n",
    "    else:\n",
    "       print(chr(ord(i)+1),end = '')\n",
    "       "
   ]
  },
  {
   "cell_type": "code",
   "execution_count": 79,
   "metadata": {},
   "outputs": [
    {
     "name": "stdout",
     "output_type": "stream",
     "text": [
      "BD"
     ]
    }
   ],
   "source": [
    "n = input()\n",
    "for i in range(len(n)):\n",
    "    if i%2!=0:\n",
    "        print(chr(ord(n[i])-32),end = '')"
   ]
  },
  {
   "cell_type": "code",
   "execution_count": 80,
   "metadata": {},
   "outputs": [
    {
     "name": "stdout",
     "output_type": "stream",
     "text": [
      "ABCDBECE\n"
     ]
    }
   ],
   "source": [
    "w = input()\n",
    "first = w[0]\n",
    "for i in range(1,len(w)):\n",
    "    if w[i]!=w[i-1]:\n",
    "        first+=w[i]\n",
    "print(first)"
   ]
  },
  {
   "cell_type": "code",
   "execution_count": 81,
   "metadata": {},
   "outputs": [
    {
     "name": "stdout",
     "output_type": "stream",
     "text": [
      "ABCDBECE"
     ]
    }
   ],
   "source": [
    "w = input()\n",
    "for i in range(len(w)):\n",
    "    if w[i]!=w[i-1]:\n",
    "        print(w[i],end = '')"
   ]
  },
  {
   "cell_type": "code",
   "execution_count": null,
   "metadata": {},
   "outputs": [],
   "source": [
    "#task-10,assignment-10\n"
   ]
  },
  {
   "cell_type": "code",
   "execution_count": 82,
   "metadata": {},
   "outputs": [
    {
     "name": "stdout",
     "output_type": "stream",
     "text": [
      "[1]\n",
      "[1, 2]\n",
      "[1, 2, 3]\n",
      "[1, 2, 3, 4]\n",
      "[1, 2, 3, 4, 5]\n"
     ]
    }
   ],
   "source": [
    "k = []\n",
    "for i in range(5):\n",
    "    n = int(input())\n",
    "    k.append(n)\n",
    "    print(k)"
   ]
  },
  {
   "cell_type": "code",
   "execution_count": 85,
   "metadata": {},
   "outputs": [
    {
     "name": "stdout",
     "output_type": "stream",
     "text": [
      "[10, 20, 24, 25, 26, 35, 70]\n"
     ]
    }
   ],
   "source": [
    "n = list(map(int, input()[1:-1].split(', ')))\n",
    "print(n)"
   ]
  },
  {
   "cell_type": "code",
   "execution_count": null,
   "metadata": {},
   "outputs": [],
   "source": [
    "lst1 = input()\n",
    "lst1 = lst1[1:-1]\n",
    "lst1 = lst1.split(',')\n",
    "lst1 = list(map(int, lst1))\n",
    "print(lst1)"
   ]
  },
  {
   "cell_type": "code",
   "execution_count": 86,
   "metadata": {},
   "outputs": [
    {
     "name": "stdout",
     "output_type": "stream",
     "text": [
      "[10, 20, 24, 25, 26, 35, 70]\n"
     ]
    }
   ],
   "source": [
    "n = list(map(int,input()[1:-1].split(', ')))\n",
    "print(n)"
   ]
  },
  {
   "cell_type": "code",
   "execution_count": 96,
   "metadata": {},
   "outputs": [
    {
     "name": "stdout",
     "output_type": "stream",
     "text": [
      "[]\n"
     ]
    }
   ],
   "source": [
    "n = list(map(int,input()[1:-1].split(', ')))\n",
    "if len(n)<=3:\n",
    "    print(\"not\")\n",
    "else:\n",
    "    n = n[2:-2]\n",
    "    print(n)"
   ]
  },
  {
   "cell_type": "code",
   "execution_count": 101,
   "metadata": {},
   "outputs": [
    {
     "name": "stdout",
     "output_type": "stream",
     "text": [
      "5\n",
      "4\n",
      "3\n",
      "2\n",
      "1\n"
     ]
    }
   ],
   "source": [
    "k = []\n",
    "for i in range(5):\n",
    "    n = input()\n",
    "    k.append(n)\n",
    "k = k[-1::-1]\n",
    "for i in k:\n",
    "    print(i)"
   ]
  },
  {
   "cell_type": "code",
   "execution_count": 102,
   "metadata": {},
   "outputs": [
    {
     "name": "stdout",
     "output_type": "stream",
     "text": [
      "[1, 4, 9, 16, 25, 36, 49]\n"
     ]
    }
   ],
   "source": [
    "lst = [1, 2, 3, 4, 5, 6, 7]\n",
    "n = []\n",
    "for i in lst:\n",
    "    n.append(i**2)\n",
    "print(n)"
   ]
  },
  {
   "cell_type": "code",
   "execution_count": 1,
   "metadata": {},
   "outputs": [
    {
     "name": "stdout",
     "output_type": "stream",
     "text": [
      "['hey', 'there', \"what's\", 'up', '?']\n"
     ]
    }
   ],
   "source": [
    "lst = [\"hey\", \"there\", \"\", \"what's\", \"\", \"up\", \"\", \"?\"]\n",
    "l = []\n",
    "for i in range(len(lst)):\n",
    "    if lst[i]!=\"\":\n",
    "        l.append(lst[i])\n",
    "print(l)"
   ]
  },
  {
   "cell_type": "code",
   "execution_count": 1,
   "metadata": {},
   "outputs": [
    {
     "name": "stdout",
     "output_type": "stream",
     "text": [
      "[[...], [...], [...], [...], [...], [...], [...], [...], [...], [...], [...], [...], [...], [...], [...], [...], [...], [...], [...], [...], [...], [...], [...]]\n"
     ]
    }
   ],
   "source": [
    "l = []\n",
    "k = \"7, 13, 2, 10, 6, -11, 0\"\n",
    "for i in k:\n",
    "    l.append(l)\n",
    "print(l)"
   ]
  },
  {
   "cell_type": "code",
   "execution_count": 13,
   "metadata": {},
   "outputs": [
    {
     "name": "stdout",
     "output_type": "stream",
     "text": [
      "[7, 13, 2, 10, 6, -11, 0]\n"
     ]
    }
   ],
   "source": [
    "k = \"7, 13, 2, 10, 6, -11, 0\"\n",
    "k = k.split(',')\n",
    "k = list(map(int,k))\n",
    "print(k)"
   ]
  },
  {
   "cell_type": "code",
   "execution_count": 17,
   "metadata": {},
   "outputs": [
    {
     "name": "stdout",
     "output_type": "stream",
     "text": [
      "[7, 13, 2, 10, 67, -11, 0]\n",
      "67\n",
      "4\n"
     ]
    }
   ],
   "source": [
    "num = \"7, 13, 2, 10, 67, -11, 0\"\n",
    "num = num.split(', ')\n",
    "num = list(map(int,num))\n",
    "max = num[0]\n",
    "index = 0\n",
    "for i in range(len(num)):\n",
    "    if max<num[i]:\n",
    "        max = num[i]\n",
    "        index = i\n",
    "print(num)\n",
    "print(max)\n",
    "print(index)\n"
   ]
  },
  {
   "cell_type": "code",
   "execution_count": 20,
   "metadata": {},
   "outputs": [
    {
     "name": "stdout",
     "output_type": "stream",
     "text": [
      "[1, 4, 7, 6, 1, 3, 9]\n"
     ]
    }
   ],
   "source": [
    "lst1 = list(map(int,input()[1:-1].split(',')))\n",
    "lst2 = list(map(int,input()[1:-1].split(',')))\n",
    "print(lst1[0:len(lst1)-1]+lst2)"
   ]
  },
  {
   "cell_type": "code",
   "execution_count": 21,
   "metadata": {},
   "outputs": [
    {
     "name": "stdout",
     "output_type": "stream",
     "text": [
      "[2, 4, 6, 8, 10, 12, -14, -16]\n"
     ]
    }
   ],
   "source": [
    "lst1 = [1, 2, 3, 4, 5, 6, 7, 8, 9]\n",
    "lst2 = [10, 11, 12, -13, -14, -15, -16]\n",
    "l = []\n",
    "for i in lst1:\n",
    "    if i%2==0:\n",
    "        l.append(i)\n",
    "for j in lst2:\n",
    "    if j%2==0:\n",
    "        l.append(j)\n",
    "print(l)"
   ]
  },
  {
   "cell_type": "code",
   "execution_count": 25,
   "metadata": {},
   "outputs": [
    {
     "name": "stdout",
     "output_type": "stream",
     "text": [
      "7   1 2   4   5 5   9 6   2   1 1   6 1   3 3   4 2 "
     ]
    }
   ],
   "source": [
    "s = input()\n",
    "for i in range(len(s)):\n",
    "    if i!=' ':\n",
    "       print(s[i], end = ' ')"
   ]
  },
  {
   "cell_type": "code",
   "execution_count": 29,
   "metadata": {},
   "outputs": [
    {
     "name": "stdout",
     "output_type": "stream",
     "text": [
      "[7, 12, 4, 55, 96, 2, 11, 61, 33, 42]\n",
      "42\n"
     ]
    }
   ],
   "source": [
    "x = input()\n",
    "l1 = []\n",
    "l2 = []\n",
    "temp = ''\n",
    "for i in x:\n",
    "   if i==' ':\n",
    "      l1.append(int(temp))\n",
    "      temp=''\n",
    "   else:\n",
    "      temp=temp+i\n",
    "if temp:\n",
    "   l1.append(int(temp))\n",
    "print(l1)"
   ]
  },
  {
   "cell_type": "code",
   "execution_count": 35,
   "metadata": {},
   "outputs": [
    {
     "name": "stdout",
     "output_type": "stream",
     "text": [
      "[0, 0, 1, 2, 3, 4, 4, 5, 6, 6, 6, 7, 8, 9, 4, 4]\n",
      "[0, 1, 2, 3, 4, 5, 6, 7, 8, 9, 4]\n"
     ]
    }
   ],
   "source": [
    "#pronlem\n",
    "# lab-04 task-10\n",
    "# \n",
    "l =  input()\n",
    "o = []\n",
    "l  = list(map(int,l.split(', ')))\n",
    "k = []\n",
    "for i in  range(len(l)):\n",
    "    if l[i] is l[i-1]:\n",
    "       o.append(l[i])\n",
    "    else:\n",
    "        k.append(l[i])\n",
    "\n",
    "print(l)\n",
    "print(k)\n",
    "#0, 0, 1, 2, 3, 4, 4, 5, 6, 6, 6, 7, 8, 9, 4, 4\n",
    "#output [0, 1, 2, 3, 4, 5, 6, 7, 8, 9]"
   ]
  },
  {
   "cell_type": "code",
   "execution_count": 41,
   "metadata": {},
   "outputs": [
    {
     "name": "stdout",
     "output_type": "stream",
     "text": [
      "False\n"
     ]
    }
   ],
   "source": [
    "e = [1, 4, 3, 2, 6] \n",
    "o = [1, 6, 9, 8, 7, 2]\n",
    "for i in range(len(e)):\n",
    "    for j in range(len(o)):\n",
    "        if e[i] == o[j]:\n",
    "            a = True\n",
    "        else:\n",
    "            a = False\n",
    "if a==True:\n",
    "    print(\"True\")\n",
    "else:\n",
    "    print('False')\n"
   ]
  },
  {
   "cell_type": "code",
   "execution_count": 53,
   "metadata": {},
   "outputs": [
    {
     "name": "stdout",
     "output_type": "stream",
     "text": [
      "True\n"
     ]
    }
   ],
   "source": [
    "e = [1, 4, 3, 2, 6] \n",
    "o = [7, 8, 9, 8, 2, 6]\n",
    "for i in e:\n",
    "    if i in o:\n",
    "        a = True\n",
    "    else:\n",
    "        a  = False\n",
    "if a==True:\n",
    "    print('True')\n",
    "else:\n",
    "    print('False')"
   ]
  },
  {
   "cell_type": "code",
   "execution_count": 1,
   "metadata": {},
   "outputs": [
    {
     "name": "stdout",
     "output_type": "stream",
     "text": [
      "(24, 25, 26)\n"
     ]
    }
   ],
   "source": [
    "tup = (10, 20, 24, 25, 26, 35, 70)\n",
    "print(tup[2:-2])\n"
   ]
  },
  {
   "cell_type": "code",
   "execution_count": 3,
   "metadata": {},
   "outputs": [
    {
     "name": "stdout",
     "output_type": "stream",
     "text": [
      "Size ot the tuple is  4\n",
      "('Best Mystery & Thriller', 'The Silent Patient', 68, 821)\n",
      "('Best Horror', 'The Institute', 75, 717)\n",
      "('Best History & Biography', 'The five', 31, 783)\n",
      "('Best Fiction', 'The Testaments', 98, 291)\n"
     ]
    }
   ],
   "source": [
    "book_info = (\n",
    "(\"Best Mystery & Thriller\",\"The Silent Patient\",68,821), (\"Best Horror\",\"The Institute\",75,717),\n",
    "(\"Best History & Biography\",\"The five\",31,783 ),\n",
    "(\"Best Fiction\",\"The Testaments\",98,291)\n",
    ")\n",
    "print('Size ot the tuple is ', len(book_info))\n",
    "for i in book_info:\n",
    "    print(i)"
   ]
  },
  {
   "cell_type": "code",
   "execution_count": 10,
   "metadata": {},
   "outputs": [
    {
     "name": "stdout",
     "output_type": "stream",
     "text": [
      "The Silent Patient won the 'Best Mystery & Thriller' category with 68821 votes.\n",
      "The Institute won the 'Best Horror' category with 75717 votes.\n",
      "The five won the 'Best History & Biography' category with 31783 votes.\n",
      "The Testaments won the 'Best Fiction' category with 98291 votes.\n"
     ]
    }
   ],
   "source": [
    "b  = ((\"Best Mystery & Thriller\",\"The Silent Patient\",68821), (\"Best Horror\",\"The Institute\",75717),\n",
    "(\"Best History & Biography\",\"The five\",31783 ),\n",
    "(\"Best Fiction\",\"The Testaments\",98291)\n",
    ")\n",
    "for i in range(len(b)):\n",
    "    print(f\"{b[i][1]} won the '{b[i][0]}' category with {b[i][2]} votes.\")"
   ]
  },
  {
   "cell_type": "code",
   "execution_count": 13,
   "metadata": {},
   "outputs": [
    {
     "name": "stdout",
     "output_type": "stream",
     "text": [
      "8 appers 4 times in the tuple.\n"
     ]
    }
   ],
   "source": [
    "tup = (10, 8, 5, 2, 10, 15, 10, 8, 5, 8, 8, 2)\n",
    "n = int(input())\n",
    "count = 0\n",
    "for i in tup:\n",
    "    if n==i:\n",
    "        count+=1\n",
    "print(n,'appers',count,'times in the tuple.')"
   ]
  },
  {
   "cell_type": "code",
   "execution_count": 16,
   "metadata": {},
   "outputs": [
    {
     "name": "stdout",
     "output_type": "stream",
     "text": [
      "(60, 50, 40, 30, 20, 10)\n"
     ]
    }
   ],
   "source": [
    "#57\n",
    "k = (10, 20, 30, 40, 50, 60)\n",
    "lst = list(k)\n",
    "lst = lst[-1: :-1]\n",
    "print(tuple(lst))\n"
   ]
  },
  {
   "cell_type": "code",
   "execution_count": 27,
   "metadata": {},
   "outputs": [
    {
     "name": "stdout",
     "output_type": "stream",
     "text": [
      "{'Harry': 15, 'Draco': 8, 'Nevil': 19, 'Ginie': 18, 'Luna': 14}\n"
     ]
    }
   ],
   "source": [
    "#58\n",
    "dic1 = {'Harry':15, 'Draco':8, 'Nevil':19}\n",
    "dic2 = {'Ginie':18, 'Luna': 14}\n",
    "d = {}\n",
    "d.update(dic1)\n",
    "d.update(dic2)\n",
    "print(d)"
   ]
  },
  {
   "cell_type": "code",
   "execution_count": null,
   "metadata": {},
   "outputs": [],
   "source": [
    "#59\n",
    "dic = input()\n",
    "dic = dic[1:-1]"
   ]
  },
  {
   "cell_type": "code",
   "execution_count": null,
   "metadata": {},
   "outputs": [],
   "source": [
    "#x = input()\n",
    "#x=x[1:-1]\n",
    "#x=x.split(', ')\n",
    "\n",
    "x = [i for i in input()[1:-1].split(', ')]\n",
    "dic={}\n",
    "\n",
    "for i in x:\n",
    "    k,v=i.split(':')\n",
    "    dic[k[1:-1]]=int(v)\n",
    "\n",
    "print(dic)\n",
    "\n",
    "#dic = {'Jon': 100, 'Dan':200, 'Rob':300}\n",
    "sum = 0\n",
    "count = 0\n",
    "for i in dic:\n",
    "    x = dic[i]\n",
    "    sum+=x\n",
    "    count+=1\n",
    "print(sum/count)"
   ]
  },
  {
   "cell_type": "code",
   "execution_count": 34,
   "metadata": {},
   "outputs": [
    {
     "name": "stdout",
     "output_type": "stream",
     "text": [
      "[\"'Jon': 100\", \"'Dan':200\", \"'Rob':300\"]\n",
      "{'Jon': 100, 'Dan': 200, 'Rob': 300}\n"
     ]
    }
   ],
   "source": [
    "l = input()[1:-1].split(', ')\n",
    "print(l)\n",
    "dic = {}\n",
    "for i in l:\n",
    "    k,v = i.split(':')\n",
    "    dic[k[1:-1]] = int(v)\n",
    "print(dic)"
   ]
  },
  {
   "cell_type": "code",
   "execution_count": 36,
   "metadata": {},
   "outputs": [
    {
     "name": "stdout",
     "output_type": "stream",
     "text": [
      "{'Jon': 100, 'Dan': 200, 'Rob': 300}\n",
      "Average is  200.0\n"
     ]
    }
   ],
   "source": [
    "#58\n",
    "l = input()[1:-1].split(', ')\n",
    "dic = {}\n",
    "for i in l:\n",
    "    k,v = i.split(':')\n",
    "    dic[k[1:-1]] = int(v)\n",
    "print(dic)\n",
    "sum = 0\n",
    "count = 0\n",
    "for key,value in dic.items():\n",
    "    sum+=value\n",
    "    count+=1\n",
    "print('Average is ', sum/count)"
   ]
  },
  {
   "cell_type": "code",
   "execution_count": 41,
   "metadata": {},
   "outputs": [
    {
     "name": "stdout",
     "output_type": "stream",
     "text": [
      "{'Alden Cantrell': 200, 'Pierre Cox': 190}\n"
     ]
    }
   ],
   "source": [
    "#59\n",
    "dic = {'Cierra Vega': 175, 'Alden Cantrell': 200, 'Pierre Cox': 190}\n",
    "n = int(input())\n",
    "d = {}\n",
    "for key,value in dic.items():\n",
    "    if n<=value:\n",
    "        d.update({key:value})\n",
    "print(d)"
   ]
  },
  {
   "cell_type": "code",
   "execution_count": 48,
   "metadata": {},
   "outputs": [
    {
     "name": "stdout",
     "output_type": "stream",
     "text": [
      "The highes selling book gerre is 'mystery' the numbe of books sold are 15\n"
     ]
    }
   ],
   "source": [
    "#60\n",
    "dic = {'sci fi': 12, 'mystery': 15, 'horror': 8, 'mythology': 10, 'young_adult': 4, 'adventure':14}\n",
    "max = 0\n",
    "for key,value in dic.items():\n",
    "    if max<value:\n",
    "        max = value\n",
    "        i = key\n",
    "print(f\"The highes selling book gerre is '{i}' the numbe of books sold are {max}\")"
   ]
  },
  {
   "cell_type": "code",
   "execution_count": 59,
   "metadata": {},
   "outputs": [
    {
     "name": "stdout",
     "output_type": "stream",
     "text": [
      "{'p': 2, 'y': 1, 't': 1, 'h': 1, 'o': 2, 'n': 3, 'r': 2, 'g': 2, 'a': 1, 'm': 2, 'i': 2, 's': 1, 'f': 1, 'u': 1}\n"
     ]
    }
   ],
   "source": [
    "#61\n",
    "d = input()[1:-1]\n",
    "d = d.lower()\n",
    "d = d.replace(' ','')\n",
    "dic = {}\n",
    "for i in d:\n",
    "    dic[i] = 0\n",
    "for i in d:\n",
    "    if i in d:\n",
    "        dic[i]+=1\n",
    "print(dic)"
   ]
  },
  {
   "cell_type": "code",
   "execution_count": null,
   "metadata": {},
   "outputs": [],
   "source": [
    "n  = input()\n",
    "n = n.lower()\n",
    "n = n.replace(' ','')\n",
    "n = n[1:-1]\n",
    "print(n)\n",
    "dict =  {}\n",
    "for i in n:\n",
    "    dict[i]=0\n",
    "for i in n:\n",
    "    if i in n:\n",
    "        dict[i]+=1\n",
    "print(dict)"
   ]
  },
  {
   "cell_type": "code",
   "execution_count": 61,
   "metadata": {},
   "outputs": [
    {
     "name": "stdout",
     "output_type": "stream",
     "text": [
      "9\n"
     ]
    }
   ],
   "source": [
    "#62\n",
    "nabita = {'A': [1, 2, 3], 'b': ['1', '2'], \"c\": [4, 5, 6, 7]}\n",
    "lst = []\n",
    "for k,v in nabita.items():\n",
    "    lst+=v\n",
    "count = 0\n",
    "for i in lst:\n",
    "    count+=1\n",
    "print(count)"
   ]
  },
  {
   "cell_type": "code",
   "execution_count": 75,
   "metadata": {},
   "outputs": [
    {
     "name": "stdout",
     "output_type": "stream",
     "text": [
      "{'a': [1, 3, 2], 'b': [2, 1], 'c': [1]}\n"
     ]
    }
   ],
   "source": [
    "#63\n",
    "lst= [(\"a\", 1), (\"b\", 2), (\"a\", 3), (\"b\", 1), (\"a\", 2), (\"c\", 1)]\n",
    "dic ={}\n",
    "for k,v in lst:\n",
    "    if k not in dic.keys():\n",
    "        dic[k] = [v]\n",
    "    else:\n",
    "        dic[k]+=[v]\n",
    "print(dic)"
   ]
  },
  {
   "cell_type": "code",
   "execution_count": 77,
   "metadata": {},
   "outputs": [
    {
     "name": "stdout",
     "output_type": "stream",
     "text": [
      "{'a': [1, 3, 2], 'b': [2, 1], 'c': [1]}\n"
     ]
    }
   ],
   "source": [
    "list_1 = [(\"a\", 1), (\"b\", 2), (\"a\", 3), (\"b\", 1), (\"a\", 2), (\"c\", 1)]\n",
    "dictionary={}\n",
    "for k,v in list_1:\n",
    "    if k not in dictionary.keys():\n",
    "        dictionary[k]= [v]\n",
    "    else:\n",
    "        dictionary[k]+=[v]\n",
    "print(dictionary) "
   ]
  },
  {
   "cell_type": "code",
   "execution_count": 81,
   "metadata": {},
   "outputs": [
    {
     "name": "stdout",
     "output_type": "stream",
     "text": [
      "Odd!\n"
     ]
    }
   ],
   "source": [
    "#64\n",
    "def even_checker(n):\n",
    "    if n%2==0:\n",
    "        print('Even!')\n",
    "    else:\n",
    "        print('Odd!')\n",
    "n = int(input())\n",
    "even_checker(n)"
   ]
  },
  {
   "cell_type": "code",
   "execution_count": 82,
   "metadata": {},
   "outputs": [
    {
     "name": "stdout",
     "output_type": "stream",
     "text": [
      "Odd!\n"
     ]
    }
   ],
   "source": [
    "def even_checker(n):\n",
    "    if n%2==0:\n",
    "        print('Even!')\n",
    "    else:\n",
    "        print('Odd!')\n",
    "even_checker(5)"
   ]
  },
  {
   "cell_type": "code",
   "execution_count": 95,
   "metadata": {},
   "outputs": [
    {
     "name": "stdout",
     "output_type": "stream",
     "text": [
      "5 6\n"
     ]
    }
   ],
   "source": [
    "#65\n",
    "def function(w):\n",
    "    count = 0\n",
    "    count1 = 0\n",
    "    for i in w:\n",
    "        if 65<=ord(i)<97:\n",
    "            count+=1\n",
    "        elif 97<=ord(i)<=122:\n",
    "            count1+=1\n",
    "    print(count,count1)\n",
    "function('HaRRy PotteR')"
   ]
  },
  {
   "cell_type": "code",
   "execution_count": 5,
   "metadata": {},
   "outputs": [
    {
     "name": "stdout",
     "output_type": "stream",
     "text": [
      "0\n"
     ]
    }
   ],
   "source": [
    "#66\n",
    "def calculate(x,y,z):\n",
    "    if x<18:\n",
    "        print('0')\n",
    "    elif y<10000:\n",
    "        print('0')\n",
    "    elif z=='PRESIDENT':\n",
    "        print('0')\n",
    "    elif x>=18 and 20000>=y>=10000 and z!='PRESIDENT':\n",
    "        print((5*y)/100)\n",
    "    elif x>=18 and y>20000 and z !='PRESIDENT':\n",
    "        print((10*y)/100)\n",
    "x = int(input())\n",
    "y = int(input())\n",
    "z = input()\n",
    "calculate(x,y,z)"
   ]
  },
  {
   "cell_type": "code",
   "execution_count": 9,
   "metadata": {},
   "outputs": [
    {
     "name": "stdout",
     "output_type": "stream",
     "text": [
      "11 10 15\n"
     ]
    }
   ],
   "source": [
    "#67\n",
    "def function(day):\n",
    "    year = day//365\n",
    "    day%=365\n",
    "    month = day//30\n",
    "    days = day%30\n",
    "    print(year,month,days)\n",
    "function(int(input()))"
   ]
  },
  {
   "cell_type": "code",
   "execution_count": null,
   "metadata": {},
   "outputs": [],
   "source": [
    "#68\n",
    "num = int(input(\"show_palindrome: \"))\n",
    "for i in range(1,num+1):\n",
    "    print(i, end = '')\n",
    "for j in range(num-1,0,-1):\n",
    "    print(j, end = '')"
   ]
  },
  {
   "cell_type": "code",
   "execution_count": 1,
   "metadata": {},
   "outputs": [
    {
     "name": "stdout",
     "output_type": "stream",
     "text": [
      "123454321"
     ]
    }
   ],
   "source": [
    "n = int(input())\n",
    "for i in range(1,n+1):\n",
    "    print(i, end = '')\n",
    "for j in range(n-1,0,-1):\n",
    "    print(j, end = '')"
   ]
  },
  {
   "cell_type": "code",
   "execution_count": 2,
   "metadata": {},
   "outputs": [
    {
     "name": "stdout",
     "output_type": "stream",
     "text": [
      "123454321"
     ]
    }
   ],
   "source": [
    "#69\n",
    "def show_palindrome(n):\n",
    "    for i in range(1,n+1):\n",
    "       print(i, end = '')\n",
    "    for j in range(n-1,0,-1):\n",
    "       print(j, end = '')\n",
    "show_palindrome(int(input()))\n"
   ]
  },
  {
   "cell_type": "code",
   "execution_count": 3,
   "metadata": {},
   "outputs": [
    {
     "name": "stdout",
     "output_type": "stream",
     "text": [
      "          1 \n",
      "        1 2 1 \n",
      "      1 2 3 2 1 \n",
      "    1 2 3 4 3 2 1 \n",
      "  1 2 3 4 5 4 3 2 1 \n",
      "1 2 3 4 5 6 5 4 3 2 1 \n"
     ]
    }
   ],
   "source": [
    "#70\n",
    "def show_palindromic_triangle(n):\n",
    "    num1=1\n",
    "    space1=n-1\n",
    "    for x in range(1,n+1):\n",
    "        k=0\n",
    "        for y in range(1,space1+1):\n",
    "            print(\" \",end=\" \")\n",
    "        for y in range(1,num1+1):\n",
    "            if (y<=x):\n",
    "                k+=1\n",
    "            else:\n",
    "                k-=1\n",
    "            print(k,end=\" \")\n",
    "        print()\n",
    "        num1+=2\n",
    "        space1-=1\n",
    "\n",
    "show_palindromic_triangle(6)"
   ]
  },
  {
   "cell_type": "code",
   "execution_count": 8,
   "metadata": {},
   "outputs": [
    {
     "name": "stdout",
     "output_type": "stream",
     "text": [
      "    1 \n",
      "  1 2 1 \n",
      "1 2 3 2 1 \n"
     ]
    }
   ],
   "source": [
    "#70\n",
    "def show(n):\n",
    "    num = 1\n",
    "    space = n-1\n",
    "    for x in range(1,n+1):\n",
    "        k = 0\n",
    "        for y in range(1,space+1):\n",
    "            print(' ', end = ' ')\n",
    "        for l in range(1,num+1):\n",
    "            if l<=x:\n",
    "                k+=1\n",
    "            else:\n",
    "                k-=1\n",
    "            print(k, end = ' ')\n",
    "        print()\n",
    "        num+=2\n",
    "        space-=1\n",
    "show(int(input()))"
   ]
  },
  {
   "cell_type": "code",
   "execution_count": 13,
   "metadata": {},
   "outputs": [
    {
     "name": "stdout",
     "output_type": "stream",
     "text": [
      "3.141592653589793 6.283185307179586\n"
     ]
    }
   ],
   "source": [
    "#71\n",
    "import math\n",
    "def area(n):\n",
    "    areaa = math.pi*n**2\n",
    "    chir = 2*math.pi*n\n",
    "    print(areaa,chir)\n",
    "area(int(input()))\n"
   ]
  },
  {
   "cell_type": "code",
   "execution_count": null,
   "metadata": {},
   "outputs": [],
   "source": [
    "#71\n",
    "import math\n",
    "r= float(input('Enter a number: '))\n",
    "def area_circumference_generator(r):\n",
    "    tup  = (math.pi*(r**2),2*math.pi*r)\n",
    "    return tup\n",
    "a,b=area_circumference_generator(r)\n",
    "print('Area of the circle is',a,'circumference is',b)"
   ]
  },
  {
   "cell_type": "code",
   "execution_count": 17,
   "metadata": {},
   "outputs": [
    {
     "name": "stdout",
     "output_type": "stream",
     "text": [
      "3.141592653589793 6.283185307179586\n"
     ]
    }
   ],
   "source": [
    "import math\n",
    "def show(r):\n",
    "    tup  = (math.pi*r**2),(2*math.pi*r)\n",
    "    return tup\n",
    "a, b = show(int(input()))\n",
    "print(a,b)"
   ]
  },
  {
   "cell_type": "code",
   "execution_count": 23,
   "metadata": {},
   "outputs": [
    {
     "name": "stdout",
     "output_type": "stream",
     "text": [
      "{1: 2, 2: 4, 3: 6, 4: 8, 5: 10}\n"
     ]
    }
   ],
   "source": [
    "dic  = {}\n",
    "def show(n):\n",
    "    for i in range(1,n+1):\n",
    "        dic.update({i:i*2})\n",
    "show(int(input()))\n",
    "print(dic)"
   ]
  },
  {
   "cell_type": "code",
   "execution_count": 27,
   "metadata": {},
   "outputs": [
    {
     "name": "stdout",
     "output_type": "stream",
     "text": [
      "{1: 1, 2: 4, 3: 9}\n"
     ]
    }
   ],
   "source": [
    "def make_square(x):\n",
    "    dict1={}\n",
    "    for y in range(x[0],x[-1]+1):\n",
    "        n=y*y\n",
    "        dict1[y]=n\n",
    "    print(dict1)\n",
    "make_square((1,3))"
   ]
  },
  {
   "cell_type": "code",
   "execution_count": 26,
   "metadata": {},
   "outputs": [
    {
     "name": "stdout",
     "output_type": "stream",
     "text": [
      "{3: 9, 4: 16, 5: 25, 6: 36, 7: 49, 8: 64, 9: 81}\n"
     ]
    }
   ],
   "source": [
    "def show(*n):\n",
    "    dic = {}\n",
    "    for i in range(n[0],n[-1]+1):\n",
    "        dic.update({i:i**2})\n",
    "    print(dic)\n",
    "a = int(input())\n",
    "b = int(input())\n",
    "show(a,b)"
   ]
  },
  {
   "cell_type": "code",
   "execution_count": 29,
   "metadata": {},
   "outputs": [
    {
     "name": "stdout",
     "output_type": "stream",
     "text": [
      "['Hi', 1, 2, 3, 'a', [1, 2]]\n"
     ]
    }
   ],
   "source": [
    "#72\n",
    "def show(l):\n",
    "    re = []\n",
    "    for i in l:\n",
    "        if i not in re:\n",
    "            re.append(i)\n",
    "    print(re)\n",
    "show((\"Hi\", 1, 2, 3, 3, \"Hi\",'a', 'a', [1,2]))"
   ]
  },
  {
   "cell_type": "code",
   "execution_count": null,
   "metadata": {},
   "outputs": [],
   "source": [
    "def rem_duplicate(duplicate_list):\n",
    "    removed_list = []\n",
    "    for i in duplicate_list:\n",
    "        if i not in removed_list:\n",
    "            removed_list.append(i)\n",
    "    return tuple(removed_list)\n",
    "print(rem_duplicate((\"Hi\", 1, 2, 3, 3, \"Hi\",'a', 'a', [1,2])))"
   ]
  },
  {
   "cell_type": "code",
   "execution_count": 30,
   "metadata": {},
   "outputs": [
    {
     "name": "stdout",
     "output_type": "stream",
     "text": [
      "Removed: 2\n",
      "[1, 2, 3, 3, 4, 5, 8, 8]\n"
     ]
    }
   ],
   "source": [
    "#73\n",
    "def function_name(list1):\n",
    "    list_name1=[]\n",
    "    for i in list1:\n",
    "        if list_name1.count(i) < 2:\n",
    "            list_name1.append(i)\n",
    "    x=len(list1)-len(list_name1)\n",
    "    print('Removed:',x)\n",
    "    print(list_name1)\n",
    "function_name([1, 2, 3, 3, 3, 3, 4, 5, 8, 8])"
   ]
  },
  {
   "cell_type": "code",
   "execution_count": 32,
   "metadata": {},
   "outputs": [
    {
     "name": "stdout",
     "output_type": "stream",
     "text": [
      "[1, 2, 3, 3, 4, 5, 8, 8]\n",
      "2\n"
     ]
    }
   ],
   "source": [
    "#73\n",
    "def show(n):\n",
    "    lst = []\n",
    "    for i in n:\n",
    "        if lst.count(i) < 2:\n",
    "            lst.append(i)\n",
    "    x = len(n)-len(lst)\n",
    "    print(lst)\n",
    "    print(x)\n",
    "show([1, 2, 3, 3, 3, 3, 4, 5, 8, 8])"
   ]
  },
  {
   "cell_type": "code",
   "execution_count": null,
   "metadata": {},
   "outputs": [],
   "source": [
    "#74\n",
    "def funtion(a,b,c):\n",
    "    if a== '+':\n",
    "        print(b+c)\n",
    "    elif a == '-':\n",
    "        print(abs(b-c))\n",
    "    elif a == '*':\n",
    "        print(b*c)\n",
    "    elif a =='/':\n",
    "        print(b/c)    \n",
    "a = input()\n",
    "b = float(input())\n",
    "c = float(input())\n",
    "funtion(a,b,c)"
   ]
  },
  {
   "cell_type": "code",
   "execution_count": 45,
   "metadata": {},
   "outputs": [
    {
     "name": "stdout",
     "output_type": "stream",
     "text": [
      "I lveprgrmmng................."
     ]
    }
   ],
   "source": [
    "#75\n",
    "def show(n,m):\n",
    "    print(n[0],end = '')\n",
    "    for i in range(1,len(n)):\n",
    "        if i%m!=0:\n",
    "            print(n[i], end = '')\n",
    "    for j in range(1,len(n)-1):\n",
    "        if i%m==0:\n",
    "            print(n[i],end = '')\n",
    "n = input()\n",
    "m = int(input())\n",
    "show(n,m)"
   ]
  },
  {
   "cell_type": "code",
   "execution_count": 41,
   "metadata": {},
   "outputs": [
    {
     "name": "stdout",
     "output_type": "stream",
     "text": [
      "I lveprgrmmngo oai"
     ]
    }
   ],
   "source": [
    "def funtion(name,num):\n",
    "    print(name[0], end = '')\n",
    "    for i in range(1,len(name)):\n",
    "        if i%num!=0:\n",
    "          print(name[i], end = '')\n",
    "    for i in range(1,len(name)-1):\n",
    "        if i%num==0:\n",
    "          print(name[i], end = '')\n",
    "name = input()\n",
    "num = int(input())\n",
    "funtion(name,num)"
   ]
  },
  {
   "cell_type": "code",
   "execution_count": 46,
   "metadata": {},
   "outputs": [
    {
     "name": "stdout",
     "output_type": "stream",
     "text": [
      "790\n"
     ]
    }
   ],
   "source": [
    "#74\n",
    "def funtion(lst,location = 'Dhanmondi'):\n",
    "    Rice = 105\n",
    "    Potato =  20\n",
    "    Chicken = 250\n",
    "    Beef = 510 \n",
    "    Oil = 85\n",
    "    sum = 0\n",
    "    for i in lst:\n",
    "        if 'Rice' == i:\n",
    "            sum+=Rice\n",
    "        elif 'Potato'==i:\n",
    "            sum+=Potato\n",
    "        elif 'Chicken'==i:\n",
    "            sum+=Chicken\n",
    "        elif 'Beef'==i:\n",
    "            sum+=Beef\n",
    "        elif 'Oil'==i:\n",
    "            sum+=Oil\n",
    "    if 'Dhanmondi' == location:\n",
    "        sum+=30\n",
    "    else:\n",
    "        sum+=70\n",
    "    print(sum)\n",
    "lst = input()\n",
    "lst = lst[2:-2]\n",
    "lst = lst.split('\", \"')\n",
    "location = input()\n",
    "funtion(lst,location)"
   ]
  },
  {
   "cell_type": "code",
   "execution_count": 47,
   "metadata": {},
   "outputs": [
    {
     "name": "stdout",
     "output_type": "stream",
     "text": [
      "[1, 2, 2, 3, 5, 6, 10, 11, 12, 14, 15, 17, 18, 20, 29]\n"
     ]
    }
   ],
   "source": [
    "#75\n",
    "def bs(lst):\n",
    "    for i in range(len(lst)-1):\n",
    "        for j in range(len(lst)-i-1):\n",
    "            if lst[j]>lst[j+1]:\n",
    "                temp =  lst[j]\n",
    "                lst[j] = lst[j+1]\n",
    "                lst[j+1] = temp\n",
    "lst =  [10, 1, 20, 3, 6, 2, 5, 11, 15, 2, 12, 14, 17, 18, 29]\n",
    "bs(lst)\n",
    "print(lst)"
   ]
  },
  {
   "cell_type": "code",
   "execution_count": 51,
   "metadata": {},
   "outputs": [
    {
     "name": "stdout",
     "output_type": "stream",
     "text": [
      "[1, 2, 2, 3, 5, 6, 10, 11, 12, 14, 15, 17, 18, 20, 29]\n"
     ]
    }
   ],
   "source": [
    "#76\n",
    "def selection_sorted(lst):\n",
    "    for i in range(len(lst)):\n",
    "        min = lst[i]\n",
    "        min_index = i\n",
    "        for j in range(i+1,len(lst)):\n",
    "            if min>lst[j]:\n",
    "                min = lst[j]\n",
    "                min_index = j\n",
    "        lst[min_index],lst[i] = lst[i],lst[min_index]\n",
    "    return lst\n",
    "lst = [10, 1, 20, 3, 6, 2, 5, 11, 15, 2, 12, 14, 17, 18, 29]\n",
    "print(selection_sorted(lst))"
   ]
  },
  {
   "cell_type": "code",
   "execution_count": 49,
   "metadata": {},
   "outputs": [
    {
     "name": "stdout",
     "output_type": "stream",
     "text": [
      "[1, 2, 2, 3, 5, 6, 10, 11, 12, 14, 15, 17, 18, 20, 29]\n"
     ]
    }
   ],
   "source": [
    "def selection_sorted(lst):\n",
    "    for i in range(len(lst)):\n",
    "        min = lst[i]\n",
    "        min_index = i\n",
    "        for j in range(i+1,len(lst)):\n",
    "            if min>lst[j]:\n",
    "                min = lst[j]\n",
    "                min_index = j\n",
    "        lst[min_index],lst[i] = lst[i],lst[min_index]\n",
    "    print(lst)\n",
    "lst = [10, 1, 20, 3, 6, 2, 5, 11, 15, 2, 12, 14, 17, 18, 29]\n",
    "selection_sorted(lst)"
   ]
  },
  {
   "cell_type": "code",
   "execution_count": 52,
   "metadata": {},
   "outputs": [
    {
     "name": "stdout",
     "output_type": "stream",
     "text": [
      "[10, 100, 11, 80, 12, 70, 20, 56, 22, 30, 58, 16, 70, 15]\n"
     ]
    }
   ],
   "source": [
    "#77\n",
    "def funtion(lst):\n",
    "        for i in range(len(lst)-1):\n",
    "            for j in range(len(lst)-i-2):\n",
    "                if j%2==0:\n",
    "                    if lst[j]>lst[j+2]:\n",
    "                        temp = lst[j]\n",
    "                        lst[j]  = lst[j+2]\n",
    "                        lst[j+2] = temp\n",
    "                else:\n",
    "                    if lst[j]<lst[j+2]:\n",
    "                        temp = lst[j]\n",
    "                        lst[j] = lst[j+2]\n",
    "                        lst[j+2] = temp\n",
    "lst = [10,30,20,70,11,15,22,16,58,100,12,56,70,80]\n",
    "funtion(lst)\n",
    "print(lst)"
   ]
  },
  {
   "cell_type": "code",
   "execution_count": 55,
   "metadata": {},
   "outputs": [
    {
     "name": "stdout",
     "output_type": "stream",
     "text": [
      "Alan\n",
      "Turing\n",
      "Elon\n",
      "Musk\n"
     ]
    }
   ],
   "source": [
    "#78\n",
    "course=input('Please enter your course name: ')\n",
    "lst = [ [\"Alan\", 95, 87, 91], [\"Turing\", 92, 90, 83], [\"Elon\", 87, 92, 80], [\"Musk\", 85, 94, 90] ]\n",
    "def sorting(lst,course):\n",
    "    stu_name = []\n",
    "    marks =[]\n",
    "    if (course == \"CSE110\"):\n",
    "        for i in range(len(lst)):\n",
    "            stu_name.append(lst[i][0])\n",
    "            marks.append(lst[i][1])\n",
    "    if (course == \"PHY111\"):\n",
    "        for i in range(len(lst)):\n",
    "            stu_name.append(lst[i][0])\n",
    "            marks.append(lst[i][2])\n",
    "    if (course == \"MAT110\"):\n",
    "        for i in range(len(lst)):\n",
    "            stu_name.append(lst[i][0])\n",
    "            marks.append(lst[i][3])\n",
    "    for i in range(len(marks)):\n",
    "        for j in range(len(marks)-i-1):\n",
    "            if marks[j] < marks[j+1]:\n",
    "                temp = stu_name[j]\n",
    "                stu_name[j] = stu_name[j+1]\n",
    "                stu_name[j+1] = temp\n",
    "                #stu_name[j],stu_name[j+1] = stu_name[j+1],stu_name[j]\n",
    "    for j in stu_name:\n",
    "        print(j)\n",
    "sorting(lst,course)"
   ]
  },
  {
   "cell_type": "code",
   "execution_count": 60,
   "metadata": {},
   "outputs": [
    {
     "data": {
      "text/plain": [
       "4"
      ]
     },
     "execution_count": 60,
     "metadata": {},
     "output_type": "execute_result"
    }
   ],
   "source": [
    "def count_1(lst, b):\n",
    "    count_2 = 0\n",
    "    for i,j in zip(lst,b):\n",
    "        if i != j:\n",
    "            count_2 += 1\n",
    "    return count_2\n",
    "lst = [4,2,3,1,6,5]\n",
    "b = sorted(lst)\n",
    "count_1(lst,b)"
   ]
  },
  {
   "cell_type": "code",
   "execution_count": 65,
   "metadata": {},
   "outputs": [
    {
     "name": "stdout",
     "output_type": "stream",
     "text": [
      "Sorted List =  [1, 1, 1, 2, 4, 4, 5]\n",
      "Median =  2\n"
     ]
    }
   ],
   "source": [
    "#79\n",
    "lst1 = [int(i) for i in input()[1:-1].split(',')]\n",
    "lst2 = [int(i) for i in input()[1:-1].split(',')]\n",
    "lst = lst1+lst2\n",
    "def funtion(lst):\n",
    "    for i in range(len(lst)-1):\n",
    "        for j in range(len(lst)-i-1):\n",
    "            if lst[j]>lst[j+1]:\n",
    "                temp = lst[j]\n",
    "                lst[j] = lst[j+1]\n",
    "                lst[j+1] = temp\n",
    "funtion(lst)\n",
    "print('Sorted List = ', lst)\n",
    "a  = len(lst)//2\n",
    "if len(lst)%2==0:\n",
    "    print('Median = ',(lst[a]+lst[a-1])/2)\n",
    "else:\n",
    "    print('Median = ', lst[a])"
   ]
  },
  {
   "cell_type": "code",
   "execution_count": 62,
   "metadata": {},
   "outputs": [
    {
     "name": "stdout",
     "output_type": "stream",
     "text": [
      "['1', '2', '1', '4']\n"
     ]
    }
   ],
   "source": [
    "print(input()[1:-1].split(', '))"
   ]
  },
  {
   "cell_type": "code",
   "execution_count": 63,
   "metadata": {},
   "outputs": [
    {
     "name": "stdout",
     "output_type": "stream",
     "text": [
      "[1, 2, 1, 4]\n"
     ]
    }
   ],
   "source": [
    "print(list(map(int, input()[1:-1].split(', '))))"
   ]
  },
  {
   "cell_type": "code",
   "execution_count": 68,
   "metadata": {},
   "outputs": [
    {
     "name": "stdout",
     "output_type": "stream",
     "text": [
      "[-10, -8, -4, 2, 4, 7, 15]\n",
      "\n",
      "Two pairs which have the smallest sum = 15 and -10\n"
     ]
    }
   ],
   "source": [
    "list_one = [int(i) for i in input()[1:-1].split(',')]\n",
    "def funtion(list_one):\n",
    "    for i in range(len(list_one)-1):\n",
    "        for j in range(len(list_one)-i-1):\n",
    "            if list_one[j]>list_one[j+1]:\n",
    "                temp = list_one[j]\n",
    "                list_one[j] = list_one[j+1]\n",
    "                list_one[j+1] = temp\n",
    "funtion(list_one)\n",
    "print(list_one)\n",
    "count=0\n",
    "count1=len(list_one)-1\n",
    "a=count\n",
    "b=count1\n",
    "closer=list_one[count]+list_one[count1]\n",
    "\n",
    "while count<count1:\n",
    "    summ=list_one[count]+list_one[count1]\n",
    "    if abs(summ)<abs(closer):\n",
    "        closer=summ\n",
    "        a=count\n",
    "        b=count1\n",
    "    if summ<0:\n",
    "        count+=1\n",
    "    elif summ>0:\n",
    "        count1-=1\n",
    "    else:\n",
    "        break\n",
    "print()\n",
    "print(\"Two pairs which have the smallest sum = {0} and {1}\".format(list_one[b],list_one[a]))"
   ]
  },
  {
   "cell_type": "code",
   "execution_count": 70,
   "metadata": {},
   "outputs": [
    {
     "name": "stdout",
     "output_type": "stream",
     "text": [
      "True\n"
     ]
    }
   ],
   "source": [
    "var3 = True and not False\n",
    "print(var3)"
   ]
  },
  {
   "cell_type": "code",
   "execution_count": 71,
   "metadata": {},
   "outputs": [
    {
     "data": {
      "text/plain": [
       "1"
      ]
     },
     "execution_count": 71,
     "metadata": {},
     "output_type": "execute_result"
    }
   ],
   "source": [
    "3%2\n"
   ]
  },
  {
   "cell_type": "code",
   "execution_count": 72,
   "metadata": {},
   "outputs": [
    {
     "data": {
      "text/plain": [
       "1"
      ]
     },
     "execution_count": 72,
     "metadata": {},
     "output_type": "execute_result"
    }
   ],
   "source": [
    "1%2\n"
   ]
  },
  {
   "cell_type": "code",
   "execution_count": 73,
   "metadata": {},
   "outputs": [
    {
     "data": {
      "text/plain": [
       "0"
      ]
     },
     "execution_count": 73,
     "metadata": {},
     "output_type": "execute_result"
    }
   ],
   "source": [
    "2%1"
   ]
  },
  {
   "cell_type": "code",
   "execution_count": 74,
   "metadata": {},
   "outputs": [
    {
     "data": {
      "text/plain": [
       "0"
      ]
     },
     "execution_count": 74,
     "metadata": {},
     "output_type": "execute_result"
    }
   ],
   "source": [
    "3%1"
   ]
  },
  {
   "cell_type": "code",
   "execution_count": 81,
   "metadata": {},
   "outputs": [
    {
     "data": {
      "text/plain": [
       "0.7777777777777778"
      ]
     },
     "execution_count": 81,
     "metadata": {},
     "output_type": "execute_result"
    }
   ],
   "source": [
    "(0 + 7 / 3) / 3.0%2"
   ]
  },
  {
   "cell_type": "code",
   "execution_count": 2,
   "metadata": {},
   "outputs": [
    {
     "name": "stdout",
     "output_type": "stream",
     "text": [
      "{'amar': ['a', 'm', 'a', 'r'], 'sonar': ['s', 'o', 'n', 'a', 'r'], 'code': ['c', 'o', 'd', 'e']}\n"
     ]
    }
   ],
   "source": [
    "w = input().split('-')\n",
    "dic = {}\n",
    "for i in w:\n",
    "    l = []\n",
    "    for j in i:\n",
    "        l.append(j)\n",
    "        dic.update({i:l})\n",
    "print(dic)\n"
   ]
  },
  {
   "cell_type": "code",
   "execution_count": 11,
   "metadata": {},
   "outputs": [
    {
     "ename": "TypeError",
     "evalue": "can only concatenate str (not \"int\") to str",
     "output_type": "error",
     "traceback": [
      "\u001b[0;31m---------------------------------------------------------------------------\u001b[0m",
      "\u001b[0;31mTypeError\u001b[0m                                 Traceback (most recent call last)",
      "\u001b[1;32m/Users/mirzashafi/VS-code/final_exercise.ipynb Cell 130\u001b[0m in \u001b[0;36m<cell line: 11>\u001b[0;34m()\u001b[0m\n\u001b[1;32m      <a href='vscode-notebook-cell:/Users/mirzashafi/VS-code/final_exercise.ipynb#Y243sZmlsZQ%3D%3D?line=8'>9</a>\u001b[0m             lst2\u001b[39m.\u001b[39mappend()\n\u001b[1;32m     <a href='vscode-notebook-cell:/Users/mirzashafi/VS-code/final_exercise.ipynb#Y243sZmlsZQ%3D%3D?line=9'>10</a>\u001b[0m     \u001b[39mreturn\u001b[39;00m lst2\n\u001b[0;32m---> <a href='vscode-notebook-cell:/Users/mirzashafi/VS-code/final_exercise.ipynb#Y243sZmlsZQ%3D%3D?line=10'>11</a>\u001b[0m checker(\u001b[39minput\u001b[39;49m())\n",
      "\u001b[1;32m/Users/mirzashafi/VS-code/final_exercise.ipynb Cell 130\u001b[0m in \u001b[0;36mchecker\u001b[0;34m(w)\u001b[0m\n\u001b[1;32m      <a href='vscode-notebook-cell:/Users/mirzashafi/VS-code/final_exercise.ipynb#Y243sZmlsZQ%3D%3D?line=5'>6</a>\u001b[0m         lst1\u001b[39m.\u001b[39mappend(i)\n\u001b[1;32m      <a href='vscode-notebook-cell:/Users/mirzashafi/VS-code/final_exercise.ipynb#Y243sZmlsZQ%3D%3D?line=6'>7</a>\u001b[0m \u001b[39mfor\u001b[39;00m i \u001b[39min\u001b[39;00m \u001b[39mrange\u001b[39m(\u001b[39mlen\u001b[39m(lst1)):\n\u001b[0;32m----> <a href='vscode-notebook-cell:/Users/mirzashafi/VS-code/final_exercise.ipynb#Y243sZmlsZQ%3D%3D?line=7'>8</a>\u001b[0m     \u001b[39mif\u001b[39;00m lst1[i] \u001b[39mnot\u001b[39;00m \u001b[39min\u001b[39;00m lst1[j\u001b[39m+\u001b[39;49m\u001b[39m1\u001b[39;49m]:\n\u001b[1;32m      <a href='vscode-notebook-cell:/Users/mirzashafi/VS-code/final_exercise.ipynb#Y243sZmlsZQ%3D%3D?line=8'>9</a>\u001b[0m         lst2\u001b[39m.\u001b[39mappend()\n\u001b[1;32m     <a href='vscode-notebook-cell:/Users/mirzashafi/VS-code/final_exercise.ipynb#Y243sZmlsZQ%3D%3D?line=9'>10</a>\u001b[0m \u001b[39mreturn\u001b[39;00m lst2\n",
      "\u001b[0;31mTypeError\u001b[0m: can only concatenate str (not \"int\") to str"
     ]
    }
   ],
   "source": [
    "def checker(w):\n",
    "    lst1 = []\n",
    "    lst2 = []\n",
    "    for i in w:\n",
    "        if 65<=ord(i)<=97:\n",
    "            lst1.append(i)\n",
    "    for i in range(len(lst1)):\n",
    "        if lst1[i] not in lst1[j+1]:\n",
    "            lst2.append()\n",
    "    return lst2\n",
    "checker(input())\n"
   ]
  },
  {
   "cell_type": "code",
   "execution_count": 15,
   "metadata": {},
   "outputs": [
    {
     "name": "stdout",
     "output_type": "stream",
     "text": [
      "10\n",
      "20\n"
     ]
    },
    {
     "ename": "TypeError",
     "evalue": "unsupported operand type(s) for +: 'int' and 'str'",
     "output_type": "error",
     "traceback": [
      "\u001b[0;31m---------------------------------------------------------------------------\u001b[0m",
      "\u001b[0;31mTypeError\u001b[0m                                 Traceback (most recent call last)",
      "\u001b[1;32m/Users/mirzashafi/VS-code/final_exercise.ipynb Cell 131\u001b[0m in \u001b[0;36m<cell line: 6>\u001b[0;34m()\u001b[0m\n\u001b[1;32m      <a href='vscode-notebook-cell:/Users/mirzashafi/VS-code/final_exercise.ipynb#Y244sZmlsZQ%3D%3D?line=6'>7</a>\u001b[0m r \u001b[39m=\u001b[39m (p\u001b[39m+\u001b[39mq\u001b[39m-\u001b[39mr)\u001b[39m%\u001b[39m\u001b[39m9\u001b[39m\n\u001b[1;32m      <a href='vscode-notebook-cell:/Users/mirzashafi/VS-code/final_exercise.ipynb#Y244sZmlsZQ%3D%3D?line=7'>8</a>\u001b[0m \u001b[39mwhile\u001b[39;00m r\u001b[39m<\u001b[39mq:\n\u001b[0;32m----> <a href='vscode-notebook-cell:/Users/mirzashafi/VS-code/final_exercise.ipynb#Y244sZmlsZQ%3D%3D?line=8'>9</a>\u001b[0m     my_list[q]  \u001b[39m=\u001b[39m my_list[q] \u001b[39m-\u001b[39;49m new[q] \u001b[39m-\u001b[39;49m \u001b[39mint\u001b[39;49m(\u001b[39mstr\u001b[39;49m(q)) \u001b[39m+\u001b[39;49m \u001b[39m\"\u001b[39;49m\u001b[39m5\u001b[39;49m\u001b[39m\"\u001b[39;49m\n\u001b[1;32m     <a href='vscode-notebook-cell:/Users/mirzashafi/VS-code/final_exercise.ipynb#Y244sZmlsZQ%3D%3D?line=9'>10</a>\u001b[0m     r\u001b[39m+\u001b[39m\u001b[39m=\u001b[39m\u001b[39m1\u001b[39m\n\u001b[1;32m     <a href='vscode-notebook-cell:/Users/mirzashafi/VS-code/final_exercise.ipynb#Y244sZmlsZQ%3D%3D?line=10'>11</a>\u001b[0m \u001b[39mprint\u001b[39m(my_list[q])\n",
      "\u001b[0;31mTypeError\u001b[0m: unsupported operand type(s) for +: 'int' and 'str'"
     ]
    }
   ],
   "source": [
    "my_list = [10,20,30,15]\n",
    "p  =  0\n",
    "q = 0 \n",
    "r = 1\n",
    "new = my_list\n",
    "while q<9:\n",
    "    r = (p+q-r)%9\n",
    "    while r<q:\n",
    "        my_list[q]  = my_list[q] - new[q] - int(str(q)) + \"5\"\n",
    "        r+=1\n",
    "    print(my_list[q])\n",
    "    p = p+r\n",
    "    q+=1\n",
    "print(my_list[q]==1)"
   ]
  },
  {
   "cell_type": "code",
   "execution_count": null,
   "metadata": {},
   "outputs": [],
   "source": []
  }
 ],
 "metadata": {
  "kernelspec": {
   "display_name": "Python 3.10.4 64-bit",
   "language": "python",
   "name": "python3"
  },
  "language_info": {
   "codemirror_mode": {
    "name": "ipython",
    "version": 3
   },
   "file_extension": ".py",
   "mimetype": "text/x-python",
   "name": "python",
   "nbconvert_exporter": "python",
   "pygments_lexer": "ipython3",
   "version": "3.10.4"
  },
  "orig_nbformat": 4,
  "vscode": {
   "interpreter": {
    "hash": "aee8b7b246df8f9039afb4144a1f6fd8d2ca17a180786b69acc140d282b71a49"
   }
  }
 },
 "nbformat": 4,
 "nbformat_minor": 2
}
