{
 "cells": [
  {
   "cell_type": "code",
   "execution_count": null,
   "metadata": {},
   "outputs": [],
   "source": [
    "w = int(input())\n",
    "if 3<=w<=100:\n",
    "    if w%2==0:\n",
    "      print('YES')\n",
    "    else:\n",
    "      print('NO')\n",
    "elif 1<=w<3:\n",
    "  print(\"NO\")"
   ]
  },
  {
   "cell_type": "code",
   "execution_count": null,
   "metadata": {},
   "outputs": [],
   "source": [
    "notes = int(input())\n",
    "print(notes)\n",
    "print(\"{} nota(s) de R$ 100,00\".format(int(notes/100)))\n",
    "aux = (notes%100)\n",
    "print(\"{} nota(s) de R$ 50,00\".format(int(aux/50)))\n",
    "aux = (aux%50)\n",
    "print(\"{} nota(s) de R$ 20,00\".format(int(aux/20)))\n",
    "aux = (aux%20)\n",
    "print(\"{} nota(s) de R$ 10,00\".format(int(aux/10)))\n",
    "aux = (aux%10)\n",
    "print(\"{} nota(s) de R$ 5,00\".format(int(aux/5)))\n",
    "aux = (aux%5)\n",
    "print(\"{} nota(s) de R$ 2,00\".format(int(aux/2)))\n",
    "aux = (aux%2)\n",
    "print(\"{} nota(s) de R$ 1,00\".format(int(aux/1)))"
   ]
  },
  {
   "cell_type": "code",
   "execution_count": null,
   "metadata": {},
   "outputs": [],
   "source": []
  },
  {
   "cell_type": "code",
   "execution_count": 15,
   "metadata": {},
   "outputs": [
    {
     "name": "stdout",
     "output_type": "stream",
     "text": [
      "576\n",
      "5 nota(s) de R$ 100,00\n",
      "1 nota(s) de R$ 50,00\n",
      "1 nota(s) de R$ 20,00\n",
      "0 nota(s) de R$ 10,00\n",
      "1 nota(s) de R$ 5,00\n",
      "0 nota(s) de R$ 2,00\n",
      "1 nota(s) de R$ 1,00\n"
     ]
    }
   ],
   "source": [
    "num = int(input())\n",
    "print(num)\n",
    "print(\"{} nota(s) de R$ 100,00\".format(int(num/100)))\n",
    "num = num%100\n",
    "print(\"{} nota(s) de R$ 50,00\".format(int(num/50)))\n",
    "num = num%50\n",
    "print(\"{} nota(s) de R$ 20,00\".format(int(num/20)))\n",
    "num%=20\n",
    "print(\"{} nota(s) de R$ 10,00\".format(int(num/10)))\n",
    "num%=10\n",
    "print(\"{} nota(s) de R$ 5,00\".format(int(num/5)))\n",
    "num%=5\n",
    "print(\"{} nota(s) de R$ 2,00\".format(int(num/2)))\n",
    "num%=2\n",
    "print(\"{} nota(s) de R$ 1,00\".format(int(num)))"
   ]
  },
  {
   "cell_type": "code",
   "execution_count": 14,
   "metadata": {},
   "outputs": [
    {
     "name": "stdout",
     "output_type": "stream",
     "text": [
      "576\n",
      "5 nota(s) de R$ 100,00\n"
     ]
    }
   ],
   "source": [
    "notes = int(input())\n",
    "print(notes)\n",
    "print(\"{} nota(s) de R$ 100,00\".format(int(notes/100)))\n",
    "aux = (notes%100)\n",
    "print(\"{} nota(s) de R$ 50,00\".format(int(aux/50)))\n",
    "aux = (aux%50)\n",
    "print(\"{} nota(s) de R$ 20,00\".format(int(aux/20)))\n",
    "aux = (aux%20)\n",
    "print(\"{} nota(s) de R$ 10,00\".format(int(aux/10)))\n",
    "aux = (aux%10)\n",
    "print(\"{} nota(s) de R$ 5,00\".format(int(aux/5)))\n",
    "aux = (aux%5)\n",
    "print(\"{} nota(s) de R$ 2,00\".format(int(aux/2)))\n",
    "aux = (aux%2)\n",
    "print(\"{} nota(s) de R$ 1,00\".format(int(aux/1)))\n"
   ]
  },
  {
   "cell_type": "code",
   "execution_count": 20,
   "metadata": {},
   "outputs": [
    {
     "name": "stdout",
     "output_type": "stream",
     "text": [
      "9617 : 40 : 34\n",
      "9617:40:34\n"
     ]
    }
   ],
   "source": [
    "time = int(input())\n",
    "hour = time//3600\n",
    "time%=3600\n",
    "minue = time//60\n",
    "time%=60\n",
    "print('{}:{}:{}'.format(hour,minue,time))"
   ]
  },
  {
   "cell_type": "code",
   "execution_count": 7,
   "metadata": {},
   "outputs": [
    {
     "name": "stdout",
     "output_type": "stream",
     "text": [
      "1 ano(s)\n",
      "1 mes(es)\n",
      "5 dia(s)\n"
     ]
    }
   ],
   "source": [
    "num = int(input())\n",
    "year = int(num/350)\n",
    "num%=365\n",
    "month = int(num/30)\n",
    "num%=30\n",
    "print(year,'ano(s)')\n",
    "print(month,'mes(es)')\n",
    "print(num,'dia(s)')"
   ]
  },
  {
   "cell_type": "code",
   "execution_count": 9,
   "metadata": {},
   "outputs": [
    {
     "name": "stdout",
     "output_type": "stream",
     "text": [
      "1 ano(s)\n",
      "1 mes(es)\n",
      "5 dia(s)\n"
     ]
    }
   ],
   "source": [
    "days = int(input())\n",
    "years = int(days/365)\n",
    "days %= 365\n",
    "months = int(days/30)\n",
    "days %= 30\n",
    "print(years,'ano(s)')\n",
    "print(months,'mes(es)')\n",
    "print(days,'dia(s)')"
   ]
  },
  {
   "cell_type": "code",
   "execution_count": 15,
   "metadata": {},
   "outputs": [
    {
     "name": "stdout",
     "output_type": "stream",
     "text": [
      "NOTAS:\n",
      "5 nota(s) de R$ 100.00\n",
      "1 nota(s) de R$ 50.00\n",
      "1 nota(s) de R$ 20.00\n",
      "0 nota(s) de R$ 10.00\n",
      "1 nota(s) de R$ 5.00\n",
      "0 nota(s) de R$ 2.00\n",
      "MOEDAS:\n",
      "1 moeda(s) de R$ 1.00\n",
      "1 moeda(s) de R$ 0.50\n",
      "1 moeda(s) de R$ 0.25\n",
      "0 moeda(s) de R$ 0.10\n",
      "0 moeda(s) de R$ 0.05\n",
      "0 moeda(s) de R$ 0.01\n"
     ]
    }
   ],
   "source": [
    "note = float(input())\n",
    "print('NOTAS:')\n",
    "print('{} nota(s) de R$ 100.00'.format(int(note/100)))\n",
    "note%=100\n",
    "print('{} nota(s) de R$ 50.00'.format(int(note/50)))\n",
    "note%=50\n",
    "print('{} nota(s) de R$ 20.00'.format(int(note/20)))\n",
    "note%=20\n",
    "print('{} nota(s) de R$ 10.00'.format(int(note/10)))\n",
    "note%=10\n",
    "print('{} nota(s) de R$ 5.00'.format(int(note/5)))\n",
    "note%=5\n",
    "print('{} nota(s) de R$ 2.00'.format(int(note/2)))\n",
    "note%=2\n",
    "print('MOEDAS:')\n",
    "print('{} moeda(s) de R$ 1.00'.format(int(note/1.00)))\n",
    "note%=1\n",
    "print('{} moeda(s) de R$ 0.50'.format(int(note/0.50)))\n",
    "note%=0.5\n",
    "print('{} moeda(s) de R$ 0.25'.format(int(note/0.25)))\n",
    "note%=0.25\n",
    "print('{} moeda(s) de R$ 0.10'.format(int(note/0.10)))\n",
    "note%=0.10\n",
    "print('{} moeda(s) de R$ 0.05'.format(int(note/0.05)))\n",
    "note%=0.05\n",
    "print('{} moeda(s) de R$ 0.01'.format(int(note/0.01)))"
   ]
  },
  {
   "cell_type": "code",
   "execution_count": 17,
   "metadata": {},
   "outputs": [
    {
     "name": "stdout",
     "output_type": "stream",
     "text": [
      "NOTAS:\n",
      "5 nota(s) de R$ 100.00\n",
      "1 nota(s) de R$ 50.00\n",
      "1 nota(s) de R$ 20.00\n",
      "0 nota(s) de R$ 10.00\n",
      "1 nota(s) de R$ 5.00\n",
      "0 nota(s) de R$ 2.00\n",
      "MOEDAS:\n",
      "1 moeda(s) de R$ 1.00\n",
      "1 moeda(s) de R$ 0.50\n",
      "1 moeda(s) de R$ 0.25\n",
      "0 moeda(s) de R$ 0.10\n",
      "0 moeda(s) de R$ 0.05\n",
      "1 moeda(s) de R$ o.o1\n"
     ]
    }
   ],
   "source": [
    "A=float(input())\n",
    "N=A\n",
    "a=N/100\n",
    "b=N%100\n",
    "c=b/50\n",
    "d=b%50\n",
    "e=d/20\n",
    "f=d%20\n",
    "g=f/10\n",
    "h=f%10\n",
    "i=h/5\n",
    "j=h%5\n",
    "k=j/2\n",
    "l=j%2\n",
    "\n",
    "E=A*100\n",
    "B=(int(E))\n",
    "m=B%100\n",
    "n=m/50\n",
    "o=m%50\n",
    "p=o/25\n",
    "q=o%25\n",
    "r=q/10\n",
    "s=q%10\n",
    "t=s/5\n",
    "u=s%5\n",
    "print(\"NOTAS:\")\n",
    "print('{} nota(s) de R$ 100.00'.format(int(a)))\n",
    "print('{} nota(s) de R$ 50.00'.format(int(c)))\n",
    "print('{} nota(s) de R$ 20.00'.format(int(e)))\n",
    "print('{} nota(s) de R$ 10.00'.format(int(g)))\n",
    "print('{} nota(s) de R$ 5.00'.format(int(i)))\n",
    "print('{} nota(s) de R$ 2.00'.format(int(k)))\n",
    "print(f\"MOEDAS:\")\n",
    "print('{} moeda(s) de R$ 1.00'.format(int(l)))\n",
    "print('{} moeda(s) de R$ 0.50'.format(int(n)))\n",
    "print('{} moeda(s) de R$ 0.25'.format(int(p)))\n",
    "print('{} moeda(s) de R$ 0.10'.format(int(r)))\n",
    "print('{} moeda(s) de R$ 0.05'.format(int(t)))\n",
    "print('{} moeda(s) de R$ 0.o1'.format(int(u)))"
   ]
  },
  {
   "cell_type": "code",
   "execution_count": 1,
   "metadata": {},
   "outputs": [
    {
     "name": "stdout",
     "output_type": "stream",
     "text": [
      "[-5, 2, 3, 3, 3, 3, 5, 5, 6, 6, 6, 7, 8, 34]\n"
     ]
    }
   ],
   "source": [
    "lisst = [5,3,5,2,6,7,8,3,34,-5,3,6,6,3]\n",
    "new_lisst = sorted(lisst)#it will return a sorted list, not will change any value.\n",
    "print(new_lisst)"
   ]
  },
  {
   "cell_type": "code",
   "execution_count": 2,
   "metadata": {},
   "outputs": [
    {
     "name": "stdout",
     "output_type": "stream",
     "text": [
      "[34, 8, 7, 6, 6, 6, 5, 5, 3, 3, 3, 3, 2, -5]\n"
     ]
    }
   ],
   "source": [
    "lisst = [5,3,5,2,6,7,8,3,34,-5,3,6,6,3]\n",
    "new_lisst = sorted(lisst , reverse = True)\n",
    "print(new_lisst)"
   ]
  },
  {
   "cell_type": "code",
   "execution_count": 5,
   "metadata": {},
   "outputs": [
    {
     "name": "stdout",
     "output_type": "stream",
     "text": [
      "[' ', 'A', 'B', 'C', 'E', 'I', 'I', 'N', 'R', 'R', 'S', 'T', 'U', 'V', 'Y']\n"
     ]
    }
   ],
   "source": [
    "name = 'BRAC UNIVERSITY'\n",
    "newname = sorted(name)\n",
    "print(newname)"
   ]
  },
  {
   "cell_type": "code",
   "execution_count": 11,
   "metadata": {},
   "outputs": [
    {
     "name": "stdout",
     "output_type": "stream",
     "text": [
      "['name', 'how', 'hello', 'aa']\n"
     ]
    }
   ],
   "source": [
    "name = ['name','how','hello','aa']\n",
    "print(sorted(name ,reverse = True))"
   ]
  },
  {
   "cell_type": "code",
   "execution_count": 10,
   "metadata": {},
   "outputs": [
    {
     "name": "stdout",
     "output_type": "stream",
     "text": [
      "['name', 'how', 'hello', 'aa']\n"
     ]
    }
   ],
   "source": [
    "name = ['name','how','hello','aa']\n",
    "newname = sorted(name,reverse = True)\n",
    "print(newname)"
   ]
  },
  {
   "cell_type": "code",
   "execution_count": 13,
   "metadata": {},
   "outputs": [
    {
     "name": "stdout",
     "output_type": "stream",
     "text": [
      "{'aloz': 6, 'fun': 12, 'potato': 35, 'sun': 65}\n"
     ]
    }
   ],
   "source": [
    "invertory = {'fun':12,'potato':35,'sun':65,'aloz':6}\n",
    "new = sorted(invertory)\n",
    "dic= {}\n",
    "for key in new:\n",
    "    dic[key] = invertory[key]\n",
    "print(dic)\n"
   ]
  },
  {
   "cell_type": "code",
   "execution_count": 15,
   "metadata": {},
   "outputs": [
    {
     "name": "stdout",
     "output_type": "stream",
     "text": [
      "[34, 8, 7, 6, 6, 6, 5, 5, 3, 3, 3, 3, 2, -5]\n"
     ]
    }
   ],
   "source": [
    "#SORT WORKS WITHIN JUST LIST\n",
    "#sort return none \n",
    "#it sorts a list in place\n",
    "lisst = [5,3,5,2,6,7,8,3,34,-5,3,6,6,3]\n",
    "lisst.sort(reverse = True)\n",
    "print(lisst)"
   ]
  },
  {
   "cell_type": "code",
   "execution_count": 24,
   "metadata": {},
   "outputs": [
    {
     "name": "stdout",
     "output_type": "stream",
     "text": [
      "[5455463, 43646, 24646, 4562, 3462, 2624, 626, 73, 46, 45, 43, 25, 8, 8, 7, 6, 6, 6, 5, 4, 4, 4, 3, 3, -245626]\n"
     ]
    }
   ],
   "source": [
    "def selection_funtion(arr):\n",
    "    for idx in range(len(arr)):\n",
    "        min = arr[idx]\n",
    "        min_index = idx\n",
    "        for j in range(idx+1,len(arr)):\n",
    "            if arr[j]>min:\n",
    "                min = arr[j]\n",
    "                min_index = j\n",
    "        arr[min_index],arr[idx] = arr[idx],arr[min_index]\n",
    "    return arr\n",
    "num = [4,5,6,6,8,3,7,8,4,6,73,43,4,5455463,3,45,3462,-245626,24646,43646,25,46,2624,626,4562]\n",
    "sorted_funtion = selection_funtion(num)\n",
    "print(sorted_funtion)"
   ]
  },
  {
   "cell_type": "code",
   "execution_count": 25,
   "metadata": {},
   "outputs": [
    {
     "name": "stdout",
     "output_type": "stream",
     "text": [
      "[-245626, 3, 3, 4, 4, 4, 5, 6, 6, 6, 7, 8, 8, 25, 43, 45, 46, 73, 626, 2624, 3462, 4562, 24646, 43646, 5455463]\n"
     ]
    }
   ],
   "source": [
    "def selection_funtion(arr):\n",
    "    for idx in range(len(arr)):\n",
    "        min = arr[idx]\n",
    "        min_index = idx\n",
    "        for j in range(idx+1,len(arr)):\n",
    "            if arr[j]<min:\n",
    "                min = arr[j]\n",
    "                min_index = j\n",
    "        arr[min_index],arr[idx] = arr[idx],arr[min_index]\n",
    "    return arr\n",
    "num = [4,5,6,6,8,3,7,8,4,6,73,43,4,5455463,3,45,3462,-245626,24646,43646,25,46,2624,626,4562]\n",
    "n = selection_funtion(num)\n",
    "print(n)"
   ]
  },
  {
   "cell_type": "code",
   "execution_count": 4,
   "metadata": {},
   "outputs": [
    {
     "name": "stdout",
     "output_type": "stream",
     "text": [
      "[1, 2, 2, 3, 5, 6, 10, 11, 12, 14, 15, 17, 18, 20, 29]\n"
     ]
    }
   ],
   "source": [
    "def selection_sorted(lst):\n",
    "    for i in range(len(lst)):\n",
    "        min = lst[i]\n",
    "        min_index = i\n",
    "        for j in range(i+1,len(lst)):\n",
    "            if min>lst[j]:\n",
    "                min = lst[j]\n",
    "                min_index = j\n",
    "        lst[min_index],lst[i] = lst[i],lst[min_index]\n",
    "    return lst\n",
    "lst = [10, 1, 20, 3, 6, 2, 5, 11, 15, 2, 12, 14, 17, 18, 29]\n",
    "print(selection_sorted(lst))"
   ]
  },
  {
   "cell_type": "code",
   "execution_count": null,
   "metadata": {},
   "outputs": [],
   "source": []
  }
 ],
 "metadata": {
  "kernelspec": {
   "display_name": "Python 3.10.4 64-bit",
   "language": "python",
   "name": "python3"
  },
  "language_info": {
   "codemirror_mode": {
    "name": "ipython",
    "version": 3
   },
   "file_extension": ".py",
   "mimetype": "text/x-python",
   "name": "python",
   "nbconvert_exporter": "python",
   "pygments_lexer": "ipython3",
   "version": "3.10.4"
  },
  "orig_nbformat": 4,
  "vscode": {
   "interpreter": {
    "hash": "aee8b7b246df8f9039afb4144a1f6fd8d2ca17a180786b69acc140d282b71a49"
   }
  }
 },
 "nbformat": 4,
 "nbformat_minor": 2
}
