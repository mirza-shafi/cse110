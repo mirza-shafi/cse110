{
  "cells": [
    {
      "cell_type": "code",
      "execution_count": 1,
      "metadata": {
        "colab": {
          "base_uri": "https://localhost:8080/"
        },
        "id": "0eC7IDQ5rED5",
        "outputId": "e5301f1a-2073-4cb0-e6e9-de9d02a6e316"
      },
      "outputs": [
        {
          "name": "stdout",
          "output_type": "stream",
          "text": [
            "Numbersin the list: [34, 34, 2, 3, 4]\n"
          ]
        }
      ],
      "source": [
        "#task-01\n",
        "num =[]\n",
        "for i in range(5):\n",
        "    n=int(input(\" enter your number: \"))\n",
        "    num.append(n)\n",
        "print(\"Numbersin the list:\", num)"
      ]
    },
    {
      "cell_type": "code",
      "execution_count": null,
      "metadata": {},
      "outputs": [],
      "source": [
        "#task-02 another solve\n",
        "user = [int(i) for i in input()[1:-1].split(\", \")]\n",
        "print(user[2:-2])"
      ]
    },
    {
      "cell_type": "code",
      "execution_count": 3,
      "metadata": {
        "colab": {
          "base_uri": "https://localhost:8080/"
        },
        "id": "DdJB88F3rG3t",
        "outputId": "e43e8545-2fcd-4045-a01e-312f177633d4"
      },
      "outputs": [
        {
          "name": "stdout",
          "output_type": "stream",
          "text": [
            "not\n"
          ]
        }
      ],
      "source": [
        "#task-02\n",
        "alist = []\n",
        "n = int(input())\n",
        "for i in range(n):\n",
        "    num = int(input())\n",
        "    alist.append(num)\n",
        "if n<4:\n",
        "    print(\"not\")\n",
        "else:\n",
        "    print(alist[2:n-2])"
      ]
    },
    {
      "cell_type": "code",
      "execution_count": null,
      "metadata": {},
      "outputs": [],
      "source": [
        "#task-03 another solve\n",
        "l = []\n",
        "for i in range(5):\n",
        "    user = int(input())\n",
        "    l.append(user)\n",
        "print(l[-1: :-1])\n",
        "for i in l[-1: : -1]:\n",
        "    print(i)"
      ]
    },
    {
      "cell_type": "code",
      "execution_count": null,
      "metadata": {
        "colab": {
          "base_uri": "https://localhost:8080/"
        },
        "id": "Z0ecydTNrHFW",
        "outputId": "cca2c6c8-7354-4729-a383-54343239cd88"
      },
      "outputs": [
        {
          "name": "stdout",
          "output_type": "stream",
          "text": [
            "5\n",
            "-5\n",
            "100\n",
            "1\n",
            "0\n",
            "new list [0, 1, 100, -5, 5]\n"
          ]
        }
      ],
      "source": [
        "#task-03\n",
        "alist = []\n",
        "for i in range(5):\n",
        "    num = int(input())\n",
        "    alist.append(num)\n",
        "print(\"new list\",alist[-1:-6:-1])"
      ]
    },
    {
      "cell_type": "code",
      "execution_count": null,
      "metadata": {},
      "outputs": [],
      "source": [
        "#another One\n",
        "lst = [1,2,3,4,5,6,7]\n",
        "new_lst = []\n",
        "for i in lst:\n",
        "    new_lst.append(i**2)\n",
        "print(new_lst)"
      ]
    },
    {
      "cell_type": "code",
      "execution_count": null,
      "metadata": {
        "colab": {
          "base_uri": "https://localhost:8080/"
        },
        "id": "SOAzDOU_1dCz",
        "outputId": "1bb909f2-5916-4a7d-ba03-ad5814b3acab"
      },
      "outputs": [
        {
          "name": "stdout",
          "output_type": "stream",
          "text": [
            "[1, 4, 9, 16]\n"
          ]
        }
      ],
      "source": [
        "#task-04\n",
        "new = []\n",
        "alist = [1,2,3,4]\n",
        "length = len(alist)\n",
        "for i in range(length):\n",
        "  new.append(alist[i]**2)\n",
        "print(new)\n"
      ]
    },
    {
      "cell_type": "code",
      "execution_count": 4,
      "metadata": {
        "id": "kHGZIIMakbG5"
      },
      "outputs": [
        {
          "name": "stdout",
          "output_type": "stream",
          "text": [
            "[1, 4, 9, 16, 25, 36, 49, 64, 81]\n"
          ]
        }
      ],
      "source": [
        "#task-04 another solve\n",
        "alist = [1,2,3,4,5,6,7,8,9]\n",
        "lst = []\n",
        "for i in alist:\n",
        "    n = i**2\n",
        "    lst.append(n)\n",
        "print(lst) "
      ]
    },
    {
      "cell_type": "code",
      "execution_count": null,
      "metadata": {
        "colab": {
          "base_uri": "https://localhost:8080/"
        },
        "id": "luvDtY36354B",
        "outputId": "ff837157-dcf2-49cb-f39a-1b3d300a5a7b"
      },
      "outputs": [
        {
          "name": "stdout",
          "output_type": "stream",
          "text": [
            "['hey', 'there', \"what's\", 'up', '?']\n"
          ]
        }
      ],
      "source": [
        "#task-05\n",
        "new_list = []\n",
        "alist = [\"hey\", \"there\", \"\", \"what's\", \"\", \"up\", \"\", \"?\"]\n",
        "length = len(alist)\n",
        "for i in range(length):\n",
        "  if alist[i] != \"\":\n",
        "    new_list.append(alist[i])\n",
        "print(new_list)\n",
        "\n"
      ]
    },
    {
      "cell_type": "code",
      "execution_count": null,
      "metadata": {
        "colab": {
          "base_uri": "https://localhost:8080/"
        },
        "id": "aiAt9LMqmcIV",
        "outputId": "96a8f7c1-db24-420a-ee7d-fcae60d0c703"
      },
      "outputs": [
        {
          "name": "stdout",
          "output_type": "stream",
          "text": [
            "['hey', 'there', \"what's\", 'up', '?']\n"
          ]
        }
      ],
      "source": [
        "#task05 another solve\n",
        "lst = [\"hey\", \"there\", \"\", \"what's\", \"\", \"up\", \"\", \"?\"]\n",
        "nlst = []\n",
        "for i in lst:\n",
        "    if i != \"\":\n",
        "        nlst.append(i)\n",
        "print(nlst)"
      ]
    },
    {
      "cell_type": "code",
      "execution_count": null,
      "metadata": {},
      "outputs": [],
      "source": [
        "#another solve\n",
        "g = \"7, 13, 2, 10, 6, -11, 0\"\n",
        "g = g.split(', ')\n",
        "l = []\n",
        "for i in g:\n",
        "    l.append(int(i))\n",
        "print(\"My list:\",l)\n",
        "max = l[0]\n",
        "location = 0\n",
        "le = len(l)\n",
        "for i in range(le):\n",
        "    if l[i]>max:\n",
        "        max = l[i]\n",
        "        location = i\n",
        "print(max)\n",
        "print(location)"
      ]
    },
    {
      "cell_type": "code",
      "execution_count": null,
      "metadata": {
        "colab": {
          "base_uri": "https://localhost:8080/"
        },
        "id": "SbMAXi4A-6My",
        "outputId": "263be28a-50e7-4455-9cef-398bccd7fd53"
      },
      "outputs": [
        {
          "name": "stdout",
          "output_type": "stream",
          "text": [
            "13\n",
            "1\n"
          ]
        }
      ],
      "source": [
        "#task-06\n",
        "alist = [7, 13, 2, 10, 6, -11, 0]\n",
        "maximum = alist[0]\n",
        "location = 0\n",
        "length = len(alist)\n",
        "for i in range(length):\n",
        "  if alist[i]>maximum:\n",
        "    maximum = alist[i]\n",
        "    location = i\n",
        "print(maximum)\n",
        "print(location)\n",
        "  "
      ]
    },
    {
      "cell_type": "code",
      "execution_count": null,
      "metadata": {
        "id": "oPZnIE9jpKoD"
      },
      "outputs": [],
      "source": [
        "######\n",
        "n = [7, 13, 2, 10, 6, -11, 0]\n",
        "maxx = n[0]\n",
        "location = 0\n",
        "for i in n:\n",
        "    if i>maxx:\n",
        "        maxx = i\n",
        "print(maxx)\n",
        "\n",
        "        "
      ]
    },
    {
      "cell_type": "code",
      "execution_count": null,
      "metadata": {
        "colab": {
          "base_uri": "https://localhost:8080/"
        },
        "id": "GDARMcPVGRNE",
        "outputId": "118f266f-0070-4e2d-9f11-b54763dd23e2"
      },
      "outputs": [
        {
          "name": "stdout",
          "output_type": "stream",
          "text": [
            "[1, 3, 5, 7, 9, 2, 4, 6, 8]\n"
          ]
        }
      ],
      "source": [
        "#task-07\n",
        "list1 = [1,3,5,7,9,10]\n",
        "list2 = [2,4,6,8]\n",
        "list3 = list1[ :-1: ]+list2\n",
        "print(list3)"
      ]
    },
    {
      "cell_type": "code",
      "execution_count": null,
      "metadata": {
        "colab": {
          "base_uri": "https://localhost:8080/"
        },
        "id": "ss3XrmC6Ku85",
        "outputId": "393a69df-cedd-446f-a4ad-f2b82a304509"
      },
      "outputs": [
        {
          "name": "stdout",
          "output_type": "stream",
          "text": [
            "[1, 3, 5, 7, 9, 2, 4, 6, 8]\n"
          ]
        }
      ],
      "source": [
        "#task-07 another solve\n",
        "list1 = [1,3,5,7,9,10]\n",
        "list2 = [2,4,6,8]\n",
        "\n",
        "list1.pop()\n",
        "print(list1+list2)"
      ]
    },
    {
      "cell_type": "code",
      "execution_count": null,
      "metadata": {},
      "outputs": [],
      "source": [
        "#task-07\n",
        "list_one = [1, 4, 7, 5] \n",
        "list_two = [6, 1, 3, 9]\n",
        "print(list_one[ :-1]+list_two)"
      ]
    },
    {
      "cell_type": "code",
      "execution_count": null,
      "metadata": {
        "id": "BrAbsvBYqRWo"
      },
      "outputs": [],
      "source": [
        "#task-07 another one\n",
        "list_one = [1, 4, 7, 5] \n",
        "list_two = [6, 1, 3, 9]\n",
        "print(list_one[ :len(list_one)-1]+list_two)"
      ]
    },
    {
      "cell_type": "code",
      "execution_count": null,
      "metadata": {
        "colab": {
          "base_uri": "https://localhost:8080/"
        },
        "id": "_LZcC4HlGuI9",
        "outputId": "b03a6a4d-5ca4-48c7-d75d-fc755d467a14"
      },
      "outputs": [
        {
          "name": "stdout",
          "output_type": "stream",
          "text": [
            "['4', '44', '444', '4444']\n"
          ]
        }
      ],
      "source": [
        "word = '4-44-444-4444'\n",
        "list1 = word.split('-')\n",
        "print(list1)"
      ]
    },
    {
      "cell_type": "code",
      "execution_count": null,
      "metadata": {
        "colab": {
          "base_uri": "https://localhost:8080/"
        },
        "id": "8aYs7WU-IpOh",
        "outputId": "a0c18aff-e3f2-4965-b8e9-2ccc63f92130"
      },
      "outputs": [
        {
          "name": "stdout",
          "output_type": "stream",
          "text": [
            "[2, 4, 6, 8, 10, 12, -14, -16]\n"
          ]
        }
      ],
      "source": [
        "#task-08\n",
        "list_one = [1, 2, 3, 4, 5, 6, 7, 8, 9] \n",
        "list_two = [10, 11, 12, -13, -14, -15, -16]\n",
        "new_list = []\n",
        "for i in list_one:\n",
        "    if i%2==0:\n",
        "        new_list.append(i)\n",
        "for j in list_two:\n",
        "    if j%2==0:\n",
        "        new_list.append(j)\n",
        "print(new_list)"
      ]
    },
    {
      "cell_type": "code",
      "execution_count": null,
      "metadata": {
        "colab": {
          "base_uri": "https://localhost:8080/"
        },
        "id": "TgwqFdbpLfUP",
        "outputId": "b50c75fa-8179-4413-8322-45c0060c3616"
      },
      "outputs": [
        {
          "name": "stdout",
          "output_type": "stream",
          "text": [
            "[2, 4, 6, 8, 10, 12, -14, -16]\n"
          ]
        }
      ],
      "source": [
        "#task-08 another solve\n",
        "list1 = [1,2,3,4,5,6,7,8,9]\n",
        "list2 = [10,11,12,-13,-14,-15,-16]\n",
        "list4 = []\n",
        "for i in list1:\n",
        "  if i%2==0:\n",
        "    list4.append(i)\n",
        "for i in list2:\n",
        "  if i%2==0:\n",
        "    list4.append(i)\n",
        "print(list4)"
      ]
    },
    {
      "cell_type": "code",
      "execution_count": 6,
      "metadata": {},
      "outputs": [
        {
          "name": "stdout",
          "output_type": "stream",
          "text": [
            "Odginal list: [7, 12, 4, 55, 96, 2, 11, 61, 33, 42]\n",
            "Modified list: [7, 55, 11, 61, 33]\n"
          ]
        }
      ],
      "source": [
        "#task-09\n",
        "x = \"7 12 4 55 96 2 11 61 33 42\"\n",
        "l  = [int(i) for i in x.split(\" \")]\n",
        "print('Odginal list:',l)\n",
        "mo = []\n",
        "for i in l:\n",
        "    if i%2!=0:\n",
        "        mo.append(i)\n",
        "print('Modified list:',mo)"
      ]
    },
    {
      "cell_type": "code",
      "execution_count": 5,
      "metadata": {
        "colab": {
          "base_uri": "https://localhost:8080/"
        },
        "id": "lEWYbFFTX-4s",
        "outputId": "8a5263ca-0edb-496d-dfe1-2f66e09eacb8"
      },
      "outputs": [
        {
          "name": "stdout",
          "output_type": "stream",
          "text": [
            "[0, 0, 1, 2, 3, 4, 4, 5, 6, 6, 6, 7, 8, 9, 4, 4]\n",
            "[0, 1, 2, 3, 4, 5, 6, 7, 8, 9]\n"
          ]
        }
      ],
      "source": [
        "#task-10 another\n",
        "u = [int(i) for i in input().split(', ')]\n",
        "l = []\n",
        "for i in u:\n",
        "    if i not in l:\n",
        "        l.append(i)\n",
        "print(u)\n",
        "print(l)"
      ]
    },
    {
      "cell_type": "code",
      "execution_count": 11,
      "metadata": {
        "colab": {
          "base_uri": "https://localhost:8080/"
        },
        "id": "vysI352gyr6o",
        "outputId": "087cf48b-0b1d-41f0-9906-e8c0f9769e5f"
      },
      "outputs": [
        {
          "name": "stdout",
          "output_type": "stream",
          "text": [
            "True\n"
          ]
        }
      ],
      "source": [
        "#task-11\n",
        "e = [1, 4, 3, 2, 6] \n",
        "o = [7, 8, 9, 8, 0, 6]\n",
        "a = False\n",
        "for i in e:\n",
        "    if i in o:\n",
        "        a = True\n",
        "if a==True:\n",
        "    print('True')\n",
        "else:\n",
        "    print('False')"
      ]
    },
    {
      "cell_type": "code",
      "execution_count": null,
      "metadata": {
        "colab": {
          "base_uri": "https://localhost:8080/"
        },
        "id": "YApmL47O9UK0",
        "outputId": "1407c519-a52c-40bf-c115-2ce0e1a3bb36"
      },
      "outputs": [
        {
          "name": "stdout",
          "output_type": "stream",
          "text": [
            "5\n",
            "9\n",
            "15\n",
            "25\n",
            "43\n",
            "77\n",
            "143\n",
            "273\n",
            "531\n"
          ]
        }
      ],
      "source": [
        "#task-12\n",
        "myList=[0,0,0,0,0,0,0,0,0,0] \n",
        "index1 = 0\n",
        "index2 = 0\n",
        "index1 = 1\n",
        "while(index1<10):\n",
        "  myList[index1] = index1+4\n",
        "  index2 = 1\n",
        "  while(index2<index1):\n",
        "      myList[index1] = myList[index1] + myList[index2]-index1\n",
        "      index2 = index2+1 \n",
        "  print(myList[index1])\n",
        "  index1 = index1+1"
      ]
    },
    {
      "cell_type": "code",
      "execution_count": null,
      "metadata": {
        "colab": {
          "base_uri": "https://localhost:8080/"
        },
        "id": "crG70DsHGWf-",
        "outputId": "b9e3a0db-1bd2-4fc0-a568-901621baa4ba"
      },
      "outputs": [
        {
          "name": "stdout",
          "output_type": "stream",
          "text": [
            "5\n",
            "3\n",
            "-5\n",
            "-12\n",
            "-12\n",
            "-6\n",
            "-1\n",
            "-3\n",
            "-11\n"
          ]
        }
      ],
      "source": [
        "#task-13\n",
        "myList=[0,0,0,0,0,0,0,0,0,0] \n",
        "index1=0\n",
        "index2=0\n",
        "index1=1\n",
        "while (index1 < 10):\n",
        "  myList[index1] = index1 + 4\n",
        "  index2 = 1\n",
        "  while (index2 < index1):\n",
        "    myList[index1] = myList[index1-1] - myList[index2-1] - index1\n",
        "    index2 = index2 + 1 \n",
        "  print(myList[index1])\n",
        "  index1 = index1 + 1"
      ]
    },
    {
      "cell_type": "code",
      "execution_count": null,
      "metadata": {
        "colab": {
          "base_uri": "https://localhost:8080/"
        },
        "id": "6VeeqI7ZOO4y",
        "outputId": "f4e74547-1447-4100-e55e-93b286a29845"
      },
      "outputs": [
        {
          "name": "stdout",
          "output_type": "stream",
          "text": [
            "3\n",
            "5\n",
            "7\n",
            "9\n",
            "11\n",
            "13\n",
            "15\n",
            "17\n",
            "19\n"
          ]
        }
      ],
      "source": [
        "#task-14\n",
        "\n",
        "myList=[0,0,0,0,0,0,0,0,0,0]\n",
        "b = []\n",
        "index1 = 0\n",
        "index2 = 0\n",
        "index1 = 1 \n",
        "b=myList \n",
        "while(index1<10):\n",
        "  myList[index1] = index1+2\n",
        "  index2 = 1\n",
        "  while(index2<index1):\n",
        "    myList[index1] = b[index1]+myList[index2]-index1\n",
        "    index2 = index2+1\n",
        "  print(myList[index1])\n",
        "  index1 = index1+1"
      ]
    },
    {
      "cell_type": "code",
      "execution_count": null,
      "metadata": {
        "colab": {
          "base_uri": "https://localhost:8080/"
        },
        "id": "PlPkoZbHPt4K",
        "outputId": "8cfd14fc-45a9-4c16-ce00-8d7a698f1a18"
      },
      "outputs": [
        {
          "name": "stdout",
          "output_type": "stream",
          "text": [
            "2\n",
            "0\n",
            "-1\n",
            "-5\n",
            "-11\n",
            "-22\n",
            "-40\n",
            "-70\n",
            "-119\n"
          ]
        }
      ],
      "source": [
        "#task-15\n",
        "myList=[0,0,0,0,0,0,0,0,0,0] \n",
        "b = []\n",
        "index1 = 0\n",
        "index2 = 0\n",
        "index1 = 1 \n",
        "b=myList\n",
        "while (index1 < 10):\n",
        "  myList[index1] = index1 + 1\n",
        "  index2 = 1\n",
        "  while (index2 < index1):\n",
        "    myList[index1] = b[index2-1] + myList[index2] - index1\n",
        "    index2 = index2 + 1\n",
        "  print(myList[index1])\n",
        "  index1 = index1 + 1"
      ]
    }
  ],
  "metadata": {
    "colab": {
      "collapsed_sections": [],
      "name": "lab ass-04.ipynb",
      "provenance": []
    },
    "kernelspec": {
      "display_name": "Python 3.10.4 64-bit",
      "language": "python",
      "name": "python3"
    },
    "language_info": {
      "codemirror_mode": {
        "name": "ipython",
        "version": 3
      },
      "file_extension": ".py",
      "mimetype": "text/x-python",
      "name": "python",
      "nbconvert_exporter": "python",
      "pygments_lexer": "ipython3",
      "version": "3.10.4"
    },
    "vscode": {
      "interpreter": {
        "hash": "aee8b7b246df8f9039afb4144a1f6fd8d2ca17a180786b69acc140d282b71a49"
      }
    }
  },
  "nbformat": 4,
  "nbformat_minor": 0
}
