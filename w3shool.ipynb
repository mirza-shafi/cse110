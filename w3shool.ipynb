{
 "cells": [
  {
   "cell_type": "code",
   "execution_count": 2,
   "metadata": {},
   "outputs": [
    {
     "name": "stdout",
     "output_type": "stream",
     "text": [
      "fors\n"
     ]
    }
   ],
   "source": [
    "thisdict  = {\"brand\":\"fors\",\"model\":\"mustaang\"}\n",
    "print(thisdict[\"brand\"])"
   ]
  },
  {
   "cell_type": "code",
   "execution_count": 8,
   "metadata": {},
   "outputs": [
    {
     "name": "stdout",
     "output_type": "stream",
     "text": [
      "jghgk\n"
     ]
    }
   ],
   "source": [
    "dict  = {\"brand\":\"fors\",\"model\":\"mustaang\"}\n",
    "print(dict.get('ddfd',\"jghgk\"))"
   ]
  },
  {
   "cell_type": "code",
   "execution_count": 10,
   "metadata": {},
   "outputs": [
    {
     "name": "stdout",
     "output_type": "stream",
     "text": [
      "no items\n"
     ]
    }
   ],
   "source": [
    "dict  = {\"brand\":\"fors\",\"model\":\"mustaang\"}\n",
    "print(dict.get(\"bran\",\"no items\"))"
   ]
  },
  {
   "cell_type": "code",
   "execution_count": 12,
   "metadata": {},
   "outputs": [
    {
     "name": "stdout",
     "output_type": "stream",
     "text": [
      "dict_keys(['brand', 'model'])\n"
     ]
    }
   ],
   "source": [
    "dict  = {\"brand\":\"fors\",\"model\":\"mustaang\"}\n",
    "x = dict.keys()\n",
    "print(x)"
   ]
  },
  {
   "cell_type": "code",
   "execution_count": 13,
   "metadata": {},
   "outputs": [
    {
     "name": "stdout",
     "output_type": "stream",
     "text": [
      "dict_values(['fors', 'mustaang'])\n"
     ]
    }
   ],
   "source": [
    "dict  = {\"brand\":\"fors\",\"model\":\"mustaang\"}\n",
    "print(dict.values())"
   ]
  },
  {
   "cell_type": "code",
   "execution_count": 14,
   "metadata": {},
   "outputs": [
    {
     "name": "stdout",
     "output_type": "stream",
     "text": [
      "dict_items([('brand', 'fors'), ('model', 'mustaang')])\n"
     ]
    }
   ],
   "source": [
    "dict  = {\"brand\":\"fors\",\"model\":\"mustaang\"}\n",
    "print(dict.items())"
   ]
  },
  {
   "cell_type": "code",
   "execution_count": 18,
   "metadata": {},
   "outputs": [
    {
     "name": "stdout",
     "output_type": "stream",
     "text": [
      "Yes, 'model' is one of the keys in the dict.\n"
     ]
    }
   ],
   "source": [
    "dict  = {\"band\":\"fors\",\"model\":\"mustaang\"}\n",
    "if \"band\" in dict:\n",
    "    print(\"Yes, 'model' is one of the keys in the dict.\")\n",
    "else:\n",
    "    print('no')"
   ]
  },
  {
   "cell_type": "code",
   "execution_count": 20,
   "metadata": {},
   "outputs": [
    {
     "name": "stdout",
     "output_type": "stream",
     "text": [
      "{'band': 'fors', 'model': 'mustaang', 'year': 2019}\n"
     ]
    }
   ],
   "source": [
    "dict  = {\"band\":\"fors\",\"model\":\"mustaang\",\"year\":\"2010\"}\n",
    "dict[\"year\"] = 2019\n",
    "print(dict)"
   ]
  },
  {
   "cell_type": "code",
   "execution_count": 21,
   "metadata": {},
   "outputs": [
    {
     "name": "stdout",
     "output_type": "stream",
     "text": [
      "{'band': 'fors', 'model': 'mustaang', 'no': 'yes'}\n"
     ]
    }
   ],
   "source": [
    "dict  = {\"band\":\"fors\",\"model\":\"mustaang\"}\n",
    "dict.update({\"no\":\"yes\"})\n",
    "print(dict)"
   ]
  },
  {
   "cell_type": "code",
   "execution_count": 27,
   "metadata": {},
   "outputs": [
    {
     "name": "stdout",
     "output_type": "stream",
     "text": [
      "{'model': 'mustaang', 'year': '2010'}\n",
      "fors\n"
     ]
    }
   ],
   "source": [
    "dict  = {\"band\":\"fors\",\"model\":\"mustaang\",\"year\":\"2010\"}\n",
    "k  = dict.pop(\"band\")\n",
    "print(dict)\n",
    "print(k)"
   ]
  },
  {
   "cell_type": "code",
   "execution_count": 31,
   "metadata": {},
   "outputs": [
    {
     "name": "stdout",
     "output_type": "stream",
     "text": [
      "{'band': 'fors', 'model': 'mustaang'}\n"
     ]
    }
   ],
   "source": [
    "dict  = {\"band\":\"fors\",\"model\":\"mustaang\",\"year\":\"2010\"}\n",
    "dict.popitem()\n",
    "print(dict)"
   ]
  },
  {
   "cell_type": "code",
   "execution_count": 32,
   "metadata": {},
   "outputs": [
    {
     "name": "stdout",
     "output_type": "stream",
     "text": [
      "{'model': 'mustaang', 'year': '2010'}\n"
     ]
    }
   ],
   "source": [
    "dict  = {\"band\":\"fors\",\"model\":\"mustaang\",\"year\":\"2010\"}\n",
    "del dict[\"band\"]\n",
    "print(dict)"
   ]
  },
  {
   "cell_type": "code",
   "execution_count": 33,
   "metadata": {},
   "outputs": [
    {
     "name": "stdout",
     "output_type": "stream",
     "text": [
      "<class 'dict'>\n"
     ]
    }
   ],
   "source": [
    "dict  = {\"band\":\"fors\",\"model\":\"mustaang\",\"year\":\"2010\"}\n",
    "del dict\n",
    "print(dict)"
   ]
  },
  {
   "cell_type": "code",
   "execution_count": 34,
   "metadata": {},
   "outputs": [
    {
     "name": "stdout",
     "output_type": "stream",
     "text": [
      "{}\n"
     ]
    }
   ],
   "source": [
    "dict  = {\"band\":\"fors\",\"model\":\"mustaang\",\"year\":\"2010\"}\n",
    "dict.clear()\n",
    "print(dict)"
   ]
  },
  {
   "cell_type": "code",
   "execution_count": 35,
   "metadata": {},
   "outputs": [
    {
     "name": "stdout",
     "output_type": "stream",
     "text": [
      "band\n",
      "model\n",
      "year\n"
     ]
    }
   ],
   "source": [
    "dict  = {\"band\":\"fors\",\"model\":\"mustaang\",\"year\":\"2010\"}\n",
    "for i in dict:\n",
    "    print(i)"
   ]
  },
  {
   "cell_type": "code",
   "execution_count": 37,
   "metadata": {},
   "outputs": [
    {
     "name": "stdout",
     "output_type": "stream",
     "text": [
      "fors\n",
      "mustaang\n",
      "2010\n"
     ]
    }
   ],
   "source": [
    "dict  = {\"band\":\"fors\",\"model\":\"mustaang\",\"year\":\"2010\"}\n",
    "for i in dict:\n",
    "    print(dict[i])"
   ]
  },
  {
   "cell_type": "code",
   "execution_count": 38,
   "metadata": {},
   "outputs": [
    {
     "name": "stdout",
     "output_type": "stream",
     "text": [
      "fors\n",
      "mustaang\n",
      "2010\n"
     ]
    }
   ],
   "source": [
    "dict  = {\"band\":\"fors\",\"model\":\"mustaang\",\"year\":\"2010\"}\n",
    "for i in dict.values():\n",
    "    print(i)"
   ]
  },
  {
   "cell_type": "code",
   "execution_count": 39,
   "metadata": {},
   "outputs": [
    {
     "name": "stdout",
     "output_type": "stream",
     "text": [
      "band\n",
      "model\n",
      "year\n"
     ]
    }
   ],
   "source": [
    "dict  = {\"band\":\"fors\",\"model\":\"mustaang\",\"year\":\"2010\"}\n",
    "for i in dict.keys():\n",
    "    print(i)"
   ]
  },
  {
   "cell_type": "code",
   "execution_count": 40,
   "metadata": {},
   "outputs": [
    {
     "name": "stdout",
     "output_type": "stream",
     "text": [
      "band\n",
      "model\n",
      "year\n"
     ]
    }
   ],
   "source": [
    "dict  = {\"band\":\"fors\",\"model\":\"mustaang\",\"year\":\"2010\"}\n",
    "for key,value in dict.items():\n",
    "    print(key)"
   ]
  },
  {
   "cell_type": "code",
   "execution_count": 41,
   "metadata": {},
   "outputs": [
    {
     "name": "stdout",
     "output_type": "stream",
     "text": [
      "{'band': 'fors', 'model': 'mustaang', 'year': '2010'}\n"
     ]
    }
   ],
   "source": [
    "dict  = {\"band\":\"fors\",\"model\":\"mustaang\",\"year\":\"2010\"}\n",
    "x  =  dict.copy()\n",
    "print(x)"
   ]
  },
  {
   "cell_type": "code",
   "execution_count": 44,
   "metadata": {},
   "outputs": [
    {
     "name": "stdout",
     "output_type": "stream",
     "text": [
      "{'band': 'fors', 'model': 'mustaang', 'year': '2010'}\n"
     ]
    }
   ],
   "source": [
    "dictt  = {\"band\":\"fors\",\"model\":\"mustaang\",\"year\":\"2010\"}\n",
    "x  = dictt.copy()\n",
    "print(x)"
   ]
  },
  {
   "cell_type": "code",
   "execution_count": 1,
   "metadata": {},
   "outputs": [
    {
     "name": "stdout",
     "output_type": "stream",
     "text": [
      "('band', 'fors')\n",
      "('model', 'mustaang')\n",
      "('year', '2010')\n"
     ]
    }
   ],
   "source": [
    "dictt  = {\"band\":\"fors\",\"model\":\"mustaang\",\"year\":\"2010\"}\n",
    "for i in dictt.items():\n",
    "    print(i)"
   ]
  },
  {
   "cell_type": "code",
   "execution_count": 45,
   "metadata": {},
   "outputs": [
    {
     "name": "stdout",
     "output_type": "stream",
     "text": [
      "{'car': {'band': 'fors', 'model': 'mustaang'}, 'bike': {'mod': 'r15'}}\n"
     ]
    }
   ],
   "source": [
    "dict  = {\"car\": {\"band\":\"fors\",\"model\":\"mustaang\"},\"bike\":{\"mod\":\"r15\"}}\n",
    "print(dict)"
   ]
  },
  {
   "cell_type": "code",
   "execution_count": 3,
   "metadata": {},
   "outputs": [
    {
     "name": "stdout",
     "output_type": "stream",
     "text": [
      "band fors  model mustaang  year 2010  "
     ]
    }
   ],
   "source": [
    "dictt  = {\"band\":\"fors\",\"model\":\"mustaang\",\"year\":\"2010\"}\n",
    "for x,y in dictt.items():\n",
    "    print(x,y,end = '  ')"
   ]
  },
  {
   "cell_type": "code",
   "execution_count": 49,
   "metadata": {},
   "outputs": [
    {
     "name": "stdout",
     "output_type": "stream",
     "text": [
      "('h', 'g', 'f', 'e', 'd', 'c', 'b', 'a')\n"
     ]
    }
   ],
   "source": [
    "dict = ('a', 'b', 'c', 'd', 'e', 'f', 'g', 'h')\n",
    "l = []\n",
    "for i in range(len(dict)-1,-1,-1):\n",
    "    l.append(dict[i])\n",
    "print(tuple(l))"
   ]
  },
  {
   "cell_type": "code",
   "execution_count": 50,
   "metadata": {},
   "outputs": [
    {
     "name": "stdout",
     "output_type": "stream",
     "text": [
      "('h', 'g', 'f', 'e', 'd', 'c', 'b', 'a')\n"
     ]
    }
   ],
   "source": [
    "dict = ('a', 'b', 'c', 'd', 'e', 'f', 'g', 'h')\n",
    "l = []\n",
    "for i in range(len(dict)-1,-1,-1):\n",
    "    l.append(dict[i])\n",
    "print(tuple(l))"
   ]
  },
  {
   "cell_type": "code",
   "execution_count": 52,
   "metadata": {},
   "outputs": [
    {
     "name": "stdout",
     "output_type": "stream",
     "text": [
      "'Jon': 100, 'Dan':200, 'Rob':300\n"
     ]
    }
   ],
   "source": [
    "x = input()\n",
    "x=x[1:-1]\n",
    "print(x)"
   ]
  },
  {
   "cell_type": "code",
   "execution_count": 57,
   "metadata": {},
   "outputs": [
    {
     "name": "stdout",
     "output_type": "stream",
     "text": [
      "{'Jon': 100, \"'Dan\": 200, \"'Rob\": 30}\n",
      "[\"'Jon': 100\", \" 'Dan':200\", \" 'Rob':30\"]\n"
     ]
    }
   ],
   "source": [
    "x = input()\n",
    "x = x[1:len(x)-2]\n",
    "x = x.split(',')\n",
    "dict = {}\n",
    "for i in x:\n",
    "    d,f = i.split(':')\n",
    "    dict[d[1:-1]]=int(f)\n",
    "print(dict)"
   ]
  },
  {
   "cell_type": "code",
   "execution_count": 1,
   "metadata": {},
   "outputs": [
    {
     "name": "stdout",
     "output_type": "stream",
     "text": [
      "YES\n"
     ]
    }
   ],
   "source": [
    "weight = int(input('Please enter your  watermelon weight: '))\n",
    "if weight%2==0:\n",
    "    print('YES')\n",
    "else:\n",
    "    print('NO')"
   ]
  },
  {
   "cell_type": "code",
   "execution_count": null,
   "metadata": {},
   "outputs": [],
   "source": [
    "w = int(input())\n",
    "if 3<=w<=100:\n",
    "    if w%2==0:\n",
    "      print('YES')\n",
    "    else:\n",
    "      print('NO')\n",
    "elif 1<=w<=3:\n",
    "  print(\"NO\")"
   ]
  },
  {
   "cell_type": "code",
   "execution_count": 4,
   "metadata": {},
   "outputs": [
    {
     "name": "stdout",
     "output_type": "stream",
     "text": [
      "A = 31819.337191908337\n"
     ]
    }
   ],
   "source": [
    "r = float(input())\n",
    "import math\n",
    "x = math.pi*r**2\n",
    "print(\"A\",\"=\",x)"
   ]
  },
  {
   "cell_type": "code",
   "execution_count": 6,
   "metadata": {},
   "outputs": [
    {
     "name": "stdout",
     "output_type": "stream",
     "text": [
      "A= 31819.310315264003\n"
     ]
    }
   ],
   "source": [
    "r = float(input())\n",
    "n = 3.14159\n",
    "A = n*r**2\n",
    "print(\"A=\",A)"
   ]
  },
  {
   "cell_type": "code",
   "execution_count": null,
   "metadata": {},
   "outputs": [],
   "source": [
    "raio = float(input())\n",
    "    area = (raio * raio) * 3.14159 \n",
    "    print(\"A=%0.4f\" %area)                                                                                                                              "
   ]
  },
  {
   "cell_type": "code",
   "execution_count": 7,
   "metadata": {},
   "outputs": [
    {
     "name": "stdout",
     "output_type": "stream",
     "text": [
      "A=12.5664\n"
     ]
    }
   ],
   "source": [
    "raio = float(input())\n",
    "area = (raio*raio)*3.14159\n",
    "print(\"A=%0.4f\"%area)"
   ]
  },
  {
   "cell_type": "code",
   "execution_count": 8,
   "metadata": {},
   "outputs": [
    {
     "name": "stdout",
     "output_type": "stream",
     "text": [
      "MEDIA = 2.5\n"
     ]
    }
   ],
   "source": [
    "a = float(input())\n",
    "b = float(input())\n",
    "sum = a+b\n",
    "avg = sum/2\n",
    "print(\"MEDIA\",\"=\",avg)"
   ]
  },
  {
   "cell_type": "code",
   "execution_count": 9,
   "metadata": {},
   "outputs": [
    {
     "name": "stdout",
     "output_type": "stream",
     "text": [
      "MEDIA = 3.68182\n"
     ]
    }
   ],
   "source": [
    "a = float(input())\n",
    "b = float(input())\n",
    "media = (((a * 3.5) + (b * 7.5)) / 11)\n",
    "print(f'MEDIA = {media:.5f}') "
   ]
  },
  {
   "cell_type": "code",
   "execution_count": null,
   "metadata": {},
   "outputs": [],
   "source": [
    "nota1 = float(input())\n",
    "nota2 = float(input())\n",
    "m= (((nota1 * 3.5) + (nota2 * 7.5)) / 11)\n",
    "print(\"MEDIA = %0.5f\" %m)\n"
   ]
  },
  {
   "cell_type": "code",
   "execution_count": 4,
   "metadata": {},
   "outputs": [
    {
     "name": "stdout",
     "output_type": "stream",
     "text": [
      "NUMBER = 10\n",
      "SALARY = U$ 550.0\n"
     ]
    }
   ],
   "source": [
    "num = int(input())\n",
    "a = int(input())\n",
    "b = float(input())\n",
    "sal = float(a * b)\n",
    "print('NUMBER','=',num)\n",
    "print('SALARY','=','U$',sal)"
   ]
  },
  {
   "cell_type": "code",
   "execution_count": 11,
   "metadata": {},
   "outputs": [
    {
     "name": "stdout",
     "output_type": "stream",
     "text": [
      "TRIANGULO: 7.800\n",
      "CIRCULO: 84.949\n",
      "TRAPEZIO: 297.320\n",
      "QUADRADO: 16.000\n",
      "RETANGULO: 12.000\n"
     ]
    }
   ],
   "source": [
    "valor = input().split(\" \")\n",
    "\n",
    "a, b, c = valor\n",
    "pi = 3.14159\n",
    "\n",
    "t = (float(a)*float(c))/2\n",
    "c = pi*(float(c)*float(c))\n",
    "t2 = float(c) *(float(a) + float(b)) / 2\n",
    "q = float(b)*float(b)\n",
    "r = float(a)*float(b)\n",
    "print('TRIANGULO: %0.3f' %t)\n",
    "print('CIRCULO: %0.3f' %c)\n",
    "print('TRAPEZIO: %0.3f' %t2)\n",
    "print('QUADRADO: %0.3f' %q)\n",
    "print('RETANGULO: %0.3f' %r)"
   ]
  },
  {
   "cell_type": "code",
   "execution_count": 15,
   "metadata": {},
   "outputs": [
    {
     "name": "stdout",
     "output_type": "stream",
     "text": [
      "297.32007760000005\n"
     ]
    }
   ],
   "source": [
    "n = input().split(' ')\n",
    "a, b, c = n\n",
    "pi = 3.14159\n",
    "t = (float(a)*float(c))/2\n",
    "c = pi*(float(c)*float(c))\n",
    "l = float(c) *(float(a) + float(b)) / 2\n",
    "q = float(b)*float(b)\n",
    "r = float(a)*float(b)\n",
    "print(l)"
   ]
  },
  {
   "cell_type": "code",
   "execution_count": 18,
   "metadata": {},
   "outputs": [
    {
     "name": "stdout",
     "output_type": "stream",
     "text": [
      "297.32007760000005\n"
     ]
    }
   ],
   "source": [
    "n = input().split(' ')\n",
    "a, b, c = n\n",
    "pi = 3.14159\n",
    "t = (float(a) * float(c))/2\n",
    "c = pi * (float(c)* float(c))\n",
    "k = float(c) *(float(a) + float(b)) / 2\n",
    "q = float(b) * float(b)\n",
    "r = float(a) * float(b)\n",
    "print(k)"
   ]
  },
  {
   "cell_type": "code",
   "execution_count": 19,
   "metadata": {},
   "outputs": [
    {
     "name": "stdout",
     "output_type": "stream",
     "text": [
      "TRIANGULO: 7.800\n",
      "CIRCULO: 84.949\n",
      "TRAPEZIO: 18.200\n",
      "QUADRADO: 16.000\n",
      "RETANGULO: 12.000\n"
     ]
    }
   ],
   "source": [
    "n = input().split(' ')\n",
    "a, b, c = n\n",
    "pi = 3.14159\n",
    "triangulo = (float(a) * float(c))/2\n",
    "circulo = pi * (float(c)* float(c))\n",
    "trapezio = float(c) *(float(a) + float(b)) / 2\n",
    "quadrado = float(b) * float(b)\n",
    "retangulo = float(a) * float(b)\n",
    "print('TRIANGULO: %0.3f' %triangulo)\n",
    "print('CIRCULO: %0.3f' %circulo)\n",
    "print('TRAPEZIO: %0.3f' %trapezio)\n",
    "print('QUADRADO: %0.3f' %quadrado)\n",
    "print('RETANGULO: %0.3f' %retangulo)"
   ]
  },
  {
   "cell_type": "code",
   "execution_count": 34,
   "metadata": {},
   "outputs": [
    {
     "name": "stdout",
     "output_type": "stream",
     "text": [
      "28 eh o maior\n"
     ]
    }
   ],
   "source": [
    "m = input().split(\" \")\n",
    "a, b, c = m\n",
    "s = (int(a)+int(b)+int(c))/2\n",
    "n = int(a)+int(b)+abs(int(a)-int(b))\n",
    "\n",
    "#maior = (int(a)+int(b)+(int(a)*int(b)*int(s))*(int(a)-int(b)))/2\n",
    "print(n,\"eh o maior\")"
   ]
  },
  {
   "cell_type": "code",
   "execution_count": 31,
   "metadata": {},
   "outputs": [
    {
     "name": "stdout",
     "output_type": "stream",
     "text": [
      "955717 eh o maior\n",
      "148.66003880000002\n",
      "['7', '14', '106']\n"
     ]
    }
   ],
   "source": [
    "m = input().split(\" \")\n",
    "a, b, c = m\n",
    "#s = (int(a)+int(b)+int(c))/2\n",
    "n = int(a)+int(b)+(int(a)*int(b)*int(c))*(int(c)-int(b))\n",
    "k = n/2\n",
    "print(k,\"eh o maior\")\n"
   ]
  },
  {
   "cell_type": "code",
   "execution_count": 36,
   "metadata": {},
   "outputs": [
    {
     "name": "stdout",
     "output_type": "stream",
     "text": [
      "106.0\n"
     ]
    }
   ],
   "source": [
    "m = input().split(\" \")\n",
    "import math\n",
    "a, b, c = m\n",
    "maior = (int(a) + int(b) + abs(int(a) - int(b)))  / 2\n",
    "resultado = (int(maior) + int(c) + abs(int(maior) - int(c)))/2\n",
    "print(resultado)"
   ]
  },
  {
   "cell_type": "code",
   "execution_count": 37,
   "metadata": {},
   "outputs": [
    {
     "name": "stdout",
     "output_type": "stream",
     "text": [
      "106 eh o maior\n"
     ]
    }
   ],
   "source": [
    "import math\n",
    "\n",
    "valor = input().split(\" \")\n",
    "a, b, c = valor\n",
    "\n",
    "maior = (int(a) + int(b) + abs(int(a) - int(b)))  / 2\n",
    "resultado = (int(maior) + int(c) + abs(int(maior) - int(c)))/2\n",
    "\n",
    "print(\"%d eh o maior\" %resultado)\n"
   ]
  },
  {
   "cell_type": "code",
   "execution_count": 2,
   "metadata": {},
   "outputs": [
    {
     "name": "stdout",
     "output_type": "stream",
     "text": [
      "14.286 km/l\n"
     ]
    }
   ],
   "source": [
    "x = int(input())\n",
    "y = float(input())\n",
    "total = float(x/y)\n",
    "print(f'{total:0.3f} km/l')\n",
    "print(f'{consumo:.3f} km/l')\n",
    "print(\"%0.3f km/l\" %consumo)"
   ]
  },
  {
   "cell_type": "code",
   "execution_count": 9,
   "metadata": {},
   "outputs": [
    {
     "name": "stdout",
     "output_type": "stream",
     "text": [
      "4.4721\n"
     ]
    }
   ],
   "source": [
    "import math\n",
    "x = input().split(' ')\n",
    "y = input().split(' ')\n",
    "x1, y1 = x\n",
    "x2, y2 = y\n",
    "distance = math.sqrt(pow(float(x1)-float(x2),2)+pow(float(y1)-float(y2),2))\n",
    "print('%0.4f'%distance)"
   ]
  },
  {
   "cell_type": "code",
   "execution_count": 12,
   "metadata": {},
   "outputs": [
    {
     "name": "stdout",
     "output_type": "stream",
     "text": [
      "2.0248\n"
     ]
    }
   ],
   "source": [
    "import math\n",
    "x1, y1 = list(map(float,input().split()))\n",
    "x2, y2 = list(map(float,input().split()))\n",
    "distance =  math.sqrt(pow(x1-x2,2)+pow(y1-y2,2))\n",
    "print('%0.4f' %distance)\n"
   ]
  },
  {
   "cell_type": "code",
   "execution_count": 3,
   "metadata": {},
   "outputs": [
    {
     "name": "stdout",
     "output_type": "stream",
     "text": [
      "60 minutos\n"
     ]
    }
   ],
   "source": [
    "x = 60\n",
    "y = 90\n",
    "num = int(input())\n",
    "minute = num*2\n",
    "print(minute,'minutos')"
   ]
  },
  {
   "cell_type": "code",
   "execution_count": 8,
   "metadata": {},
   "outputs": [
    {
     "name": "stdout",
     "output_type": "stream",
     "text": [
      "122.833\n"
     ]
    }
   ],
   "source": [
    "h = int(input())\n",
    "l  = int(input())\n",
    "distance = h*l\n",
    "litter = distance/12\n",
    "print('%0.3f' %litter)"
   ]
  },
  {
   "cell_type": "code",
   "execution_count": 12,
   "metadata": {},
   "outputs": [
    {
     "name": "stdout",
     "output_type": "stream",
     "text": [
      "0\n"
     ]
    }
   ],
   "source": [
    "num = int(input())\n",
    "count = 0\n",
    "for i in range(0,num+1):\n",
    "    if num%100==0:\n",
    "      count+1\n",
    "print(count)"
   ]
  },
  {
   "cell_type": "code",
   "execution_count": 15,
   "metadata": {},
   "outputs": [
    {
     "name": "stdout",
     "output_type": "stream",
     "text": [
      "562\n"
     ]
    }
   ],
   "source": [
    "num =  int(input())\n",
    "count = 0\n",
    "for i in range(0,num+1):\n",
    "    if i%100:\n",
    "      count+=1\n",
    "print(count)"
   ]
  },
  {
   "cell_type": "code",
   "execution_count": 25,
   "metadata": {},
   "outputs": [
    {
     "name": "stdout",
     "output_type": "stream",
     "text": [
      "4\n"
     ]
    }
   ],
   "source": [
    "num = int(input())\n",
    "count = -1\n",
    "for i in range(0,num):\n",
    "        if i%100==0:\n",
    "          count+=1\n",
    "print(count)"
   ]
  },
  {
   "cell_type": "code",
   "execution_count": 27,
   "metadata": {},
   "outputs": [
    {
     "name": "stdout",
     "output_type": "stream",
     "text": [
      "45\n"
     ]
    }
   ],
   "source": [
    "num = int(input())\n",
    "k = num%100\n",
    "print(k)"
   ]
  },
  {
   "cell_type": "code",
   "execution_count": 30,
   "metadata": {},
   "outputs": [
    {
     "name": "stdout",
     "output_type": "stream",
     "text": [
      "435\n"
     ]
    },
    {
     "ename": "TypeError",
     "evalue": "'int' object is not iterable",
     "output_type": "error",
     "traceback": [
      "\u001b[0;31m---------------------------------------------------------------------------\u001b[0m",
      "\u001b[0;31mTypeError\u001b[0m                                 Traceback (most recent call last)",
      "\u001b[1;32m/Users/mirzashafi/VS-code/w3shool.ipynb Cell 56\u001b[0m in \u001b[0;36m<cell line: 3>\u001b[0;34m()\u001b[0m\n\u001b[1;32m      <a href='vscode-notebook-cell:/Users/mirzashafi/VS-code/w3shool.ipynb#Y106sZmlsZQ%3D%3D?line=0'>1</a>\u001b[0m num \u001b[39m=\u001b[39m \u001b[39mint\u001b[39m(\u001b[39minput\u001b[39m())\n\u001b[1;32m      <a href='vscode-notebook-cell:/Users/mirzashafi/VS-code/w3shool.ipynb#Y106sZmlsZQ%3D%3D?line=1'>2</a>\u001b[0m \u001b[39mprint\u001b[39m(num)\n\u001b[0;32m----> <a href='vscode-notebook-cell:/Users/mirzashafi/VS-code/w3shool.ipynb#Y106sZmlsZQ%3D%3D?line=2'>3</a>\u001b[0m \u001b[39mfor\u001b[39;00m i \u001b[39min\u001b[39;00m num:\n\u001b[1;32m      <a href='vscode-notebook-cell:/Users/mirzashafi/VS-code/w3shool.ipynb#Y106sZmlsZQ%3D%3D?line=3'>4</a>\u001b[0m     \u001b[39mprint\u001b[39m(i)\n\u001b[1;32m      <a href='vscode-notebook-cell:/Users/mirzashafi/VS-code/w3shool.ipynb#Y106sZmlsZQ%3D%3D?line=4'>5</a>\u001b[0m     \u001b[39mcontinue\u001b[39;00m\n",
      "\u001b[0;31mTypeError\u001b[0m: 'int' object is not iterable"
     ]
    }
   ],
   "source": [
    "num = int(input())\n",
    "print(num)\n",
    "for i in num:\n",
    "    print(i)\n",
    "    continue"
   ]
  },
  {
   "cell_type": "code",
   "execution_count": 31,
   "metadata": {},
   "outputs": [],
   "source": [
    "num  = int(input())\n",
    "print(num)\n",
    "while num<1000000:\n",
    "    print(num)"
   ]
  },
  {
   "cell_type": "code",
   "execution_count": null,
   "metadata": {},
   "outputs": [],
   "source": [
    "notes = int(input())\n",
    "print(notes)\n",
    "print(\"{} nota(s) de R$ 100,00\".format(int(notes/100)))\n",
    "aux = (notes%100)\n",
    "print(\"{} nota(s) de R$ 50,00\".format(int(aux/50)))\n",
    "aux = (aux%50)\n",
    "print(\"{} nota(s) de R$ 20,00\".format(int(aux/20)))\n",
    "aux = (aux%20)\n",
    "print(\"{} nota(s) de R$ 10,00\".format(int(aux/10)))\n",
    "aux = (aux%10)\n",
    "print(\"{} nota(s) de R$ 5,00\".format(int(aux/5)))\n",
    "aux = (aux%5)\n",
    "print(\"{} nota(s) de R$ 2,00\".format(int(aux/2)))\n",
    "aux = (aux%2)\n",
    "print(\"{} nota(s) de R$ 1,00\".format(int(aux/1)))\n"
   ]
  }
 ],
 "metadata": {
  "kernelspec": {
   "display_name": "Python 3.10.4 64-bit",
   "language": "python",
   "name": "python3"
  },
  "language_info": {
   "codemirror_mode": {
    "name": "ipython",
    "version": 3
   },
   "file_extension": ".py",
   "mimetype": "text/x-python",
   "name": "python",
   "nbconvert_exporter": "python",
   "pygments_lexer": "ipython3",
   "version": "3.10.4"
  },
  "orig_nbformat": 4,
  "vscode": {
   "interpreter": {
    "hash": "aee8b7b246df8f9039afb4144a1f6fd8d2ca17a180786b69acc140d282b71a49"
   }
  }
 },
 "nbformat": 4,
 "nbformat_minor": 2
}
