{
 "cells": [
  {
   "cell_type": "code",
   "execution_count": 1,
   "metadata": {},
   "outputs": [
    {
     "name": "stdout",
     "output_type": "stream",
     "text": [
      "400\n"
     ]
    }
   ],
   "source": [
    "ple = (\"The Institute\", (\"Best Mystery & Thriller\", \"The Silent Patient\", 68821), 75717, [1, 2, 3, 400, 5, 6, 7], (\"Best Fiction\", \"The Testaments\", 98291))\n",
    "print(ple[3][3])"
   ]
  },
  {
   "cell_type": "code",
   "execution_count": 3,
   "metadata": {},
   "outputs": [
    {
     "name": "stdout",
     "output_type": "stream",
     "text": [
      "(24, 25, 26)\n"
     ]
    }
   ],
   "source": [
    "tup  = (10, 20, 24, 25, 26, 35, 70)\n",
    "print(tup[2:-2])"
   ]
  },
  {
   "cell_type": "code",
   "execution_count": 5,
   "metadata": {},
   "outputs": [
    {
     "name": "stdout",
     "output_type": "stream",
     "text": [
      "4\n",
      "('Best Mystery & Thriller', 'The Silent Patient', 68, 821)\n",
      "('Best Horror', 'The Institute', 75, 717)\n",
      "('Best History & Biography', 'The five', 31, 783)\n",
      "('Best Fiction', 'The Testaments', 98, 291)\n"
     ]
    }
   ],
   "source": [
    "book_info = (\n",
    "(\"Best Mystery & Thriller\",\"The Silent Patient\",68,821), (\"Best Horror\",\"The Institute\",75,717),\n",
    "(\"Best History & Biography\",\"The five\",31,783 ),\n",
    "(\"Best Fiction\",\"The Testaments\",98,291)\n",
    ")\n",
    "print(len(book_info))\n",
    "for x in book_info:\n",
    "    print(x)"
   ]
  },
  {
   "cell_type": "code",
   "execution_count": 13,
   "metadata": {},
   "outputs": [
    {
     "name": "stdout",
     "output_type": "stream",
     "text": [
      "The Silent Patient won the Best Mystery & Thriller categpry with 68821 votes.\n",
      "The Institute won the Best Horror categpry with 75717 votes.\n",
      "The five won the Best History & Biography categpry with 31783 votes.\n",
      "The Testaments won the Best Fiction categpry with 98291 votes.\n"
     ]
    }
   ],
   "source": [
    "book_info = (\n",
    "(\"Best Mystery & Thriller\",\"The Silent Patient\",68821), (\"Best Horror\",\"The Institute\",75717),\n",
    "(\"Best History & Biography\",\"The five\",31783 ),\n",
    "(\"Best Fiction\",\"The Testaments\",98291)\n",
    ")\n",
    "for i in range(len(book_info)):\n",
    "    print(f\"{book_info[i][1]} won the {book_info[i][0]} categpry with {book_info[i][2]} votes.\")"
   ]
  },
  {
   "cell_type": "code",
   "execution_count": 17,
   "metadata": {},
   "outputs": [
    {
     "name": "stdout",
     "output_type": "stream",
     "text": [
      "4 8\n"
     ]
    }
   ],
   "source": [
    "tup = (10, 8, 5, 2, 10, 15, 10, 8, 5, 8, 8, 2)\n",
    "num = int(input())\n",
    "count = 0\n",
    "for i in tup:\n",
    "    if i==num:\n",
    "        count+=1\n",
    "        k=i\n",
    "print(count,k)"
   ]
  },
  {
   "cell_type": "code",
   "execution_count": 19,
   "metadata": {},
   "outputs": [
    {
     "name": "stdout",
     "output_type": "stream",
     "text": [
      "('h', 'g', 'f', 'e', 'd', 'c', 'b', 'a')\n"
     ]
    }
   ],
   "source": [
    "tup = ('a', 'b', 'c', 'd', 'e', 'f', 'g', 'h')\n",
    "lst = []\n",
    "for i in range(len(tup)-1,-1,-1):\n",
    "    lst.append(tup[i])\n",
    "print(tuple(lst))\n"
   ]
  },
  {
   "cell_type": "code",
   "execution_count": 26,
   "metadata": {},
   "outputs": [
    {
     "name": "stdout",
     "output_type": "stream",
     "text": [
      "{'Jon': 100, 'Dan': 200, 'Rob': 300}\n",
      "100\n",
      "200\n",
      "300\n"
     ]
    }
   ],
   "source": [
    "x = input()\n",
    "x = x[1:-1]\n",
    "x = x.split(', ')\n",
    "dic = {}\n",
    "for i in x:\n",
    "    k,v = i.split(':')\n",
    "    dic[k[1:-1]] = int(v)\n",
    "print(dic)\n",
    "for j in dic.values():\n",
    "    print(j)"
   ]
  },
  {
   "cell_type": "code",
   "execution_count": 35,
   "metadata": {},
   "outputs": [
    {
     "name": "stdout",
     "output_type": "stream",
     "text": [
      "{'Cierra Vega': 175, 'Alden Cantrell': 200, 'Pierre Cox': 190}\n"
     ]
    }
   ],
   "source": [
    "dic = {'Cierra Vega': 175, 'Alden Cantrell': 200, 'Pierre Cox': 190}\n",
    "num = int(input())\n",
    "dc = {}\n",
    "for k,v in dic.items():\n",
    "    if v>num:\n",
    "        s = k,v\n",
    "        dc.update({k:v})\n",
    "print(dc)\n"
   ]
  },
  {
   "cell_type": "code",
   "execution_count": 34,
   "metadata": {},
   "outputs": [
    {
     "name": "stdout",
     "output_type": "stream",
     "text": [
      "{'Cierra Vega': 175, 'Alden Cantrell': 200, 'Pierre Cox': 190}\n"
     ]
    }
   ],
   "source": [
    "dic = {'Cierra Vega': 175, 'Alden Cantrell': 200, 'Pierre Cox': 190}\n",
    "num = int(input())\n",
    "dict = {}\n",
    "for key,value in dic.items():\n",
    "    if value>num:\n",
    "        k = key,value\n",
    "        dict.update({key:value})\n",
    "print(dict)"
   ]
  },
  {
   "cell_type": "code",
   "execution_count": 33,
   "metadata": {},
   "outputs": [
    {
     "name": "stdout",
     "output_type": "stream",
     "text": [
      "{'Cierra Vega': 175, 'Alden Cantrell': 200, 'Pierre Cox': 190}\n"
     ]
    }
   ],
   "source": [
    "dic = {'Cierra Vega': 175, 'Alden Cantrell': 200, 'Pierre Cox': 190}\n",
    "dict = {}\n",
    "#k = []\n",
    "num = int(input())\n",
    "for key,value in dic.items():\n",
    "    if value>num:\n",
    "        k = key,value\n",
    "        dict.update({key:value})\n",
    "print(dict)"
   ]
  },
  {
   "cell_type": "code",
   "execution_count": 4,
   "metadata": {},
   "outputs": [
    {
     "name": "stdout",
     "output_type": "stream",
     "text": [
      "Not found\n"
     ]
    }
   ],
   "source": [
    "#liner search**********************************************************\n",
    "def liner_search(l1,x):\n",
    "    for i in l1:\n",
    "        if i==x:\n",
    "            return l1.index(i)\n",
    "    return -1\n",
    "lst = [3,5,5,3,5,4,6,3]\n",
    "x = int(input())\n",
    "index = liner_search(lst,x)\n",
    "if index !=-1:\n",
    "    print('The liner index is: ',index)\n",
    "else:\n",
    "    print('Not found')"
   ]
  },
  {
   "cell_type": "code",
   "execution_count": 14,
   "metadata": {},
   "outputs": [
    {
     "name": "stdout",
     "output_type": "stream",
     "text": [
      "Found at:  2\n"
     ]
    }
   ],
   "source": [
    "#binary search ******************************************************\n",
    "pos = -1\n",
    "def binary_search(lis,n):\n",
    "    l = 0\n",
    "    u = len(lst)-1\n",
    "    while l<=u:\n",
    "        mid = (l+u)//2\n",
    "        if lst[mid] ==n:\n",
    "            globals()['pos'] = mid\n",
    "            return True\n",
    "        else:\n",
    "            if lst[mid]< n:\n",
    "                l = mid+1\n",
    "            else:\n",
    "                u = mid+1\n",
    "lst = [1,2,3,4,5,6,7,8,9]\n",
    "n = 2\n",
    "\n",
    "if binary_search(lst, n):\n",
    "    print('Found at: ',pos+1)\n",
    "else:\n",
    "    print('Not found')\n"
   ]
  },
  {
   "cell_type": "code",
   "execution_count": null,
   "metadata": {},
   "outputs": [],
   "source": []
  }
 ],
 "metadata": {
  "kernelspec": {
   "display_name": "Python 3.10.4 64-bit",
   "language": "python",
   "name": "python3"
  },
  "language_info": {
   "codemirror_mode": {
    "name": "ipython",
    "version": 3
   },
   "file_extension": ".py",
   "mimetype": "text/x-python",
   "name": "python",
   "nbconvert_exporter": "python",
   "pygments_lexer": "ipython3",
   "version": "3.10.4"
  },
  "orig_nbformat": 4,
  "vscode": {
   "interpreter": {
    "hash": "aee8b7b246df8f9039afb4144a1f6fd8d2ca17a180786b69acc140d282b71a49"
   }
  }
 },
 "nbformat": 4,
 "nbformat_minor": 2
}
