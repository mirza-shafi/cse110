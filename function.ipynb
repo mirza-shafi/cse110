{
 "cells": [
  {
   "cell_type": "code",
   "execution_count": 2,
   "metadata": {},
   "outputs": [
    {
     "name": "stdout",
     "output_type": "stream",
     "text": [
      "hello\n"
     ]
    }
   ],
   "source": [
    "def funtion():\n",
    "    print('hello')\n",
    "funtion()"
   ]
  },
  {
   "cell_type": "code",
   "execution_count": 1,
   "metadata": {},
   "outputs": [
    {
     "name": "stdout",
     "output_type": "stream",
     "text": [
      "hello alice\n",
      "hello bob\n",
      "hello shafi\n"
     ]
    }
   ],
   "source": [
    "def funtion(fname):\n",
    "    print('hello',fname)\n",
    "funtion('alice')\n",
    "funtion('bob')\n",
    "funtion('shafi')"
   ]
  },
  {
   "cell_type": "code",
   "execution_count": 8,
   "metadata": {},
   "outputs": [
    {
     "name": "stdout",
     "output_type": "stream",
     "text": [
      "The first name is shafi\n",
      "The first name is habif\n",
      "The first name is oli\n"
     ]
    }
   ],
   "source": [
    "def funtion(*p):\n",
    "    for i in p:\n",
    "       print('The first name is',i)\n",
    "funtion('shafi','habif','oli')"
   ]
  },
  {
   "cell_type": "code",
   "execution_count": 11,
   "metadata": {},
   "outputs": [
    {
     "name": "stdout",
     "output_type": "stream",
     "text": [
      "The yougest child is shafi\n"
     ]
    }
   ],
   "source": [
    "def funtion(child1,child2,child3,child4):\n",
    "    print('The yougest child is',child1)\n",
    "funtion(child1 = 'shafi',child2 = 'jannat',child3  = 'panna',child4 = 'aklima')"
   ]
  },
  {
   "cell_type": "code",
   "execution_count": 12,
   "metadata": {},
   "outputs": [
    {
     "name": "stdout",
     "output_type": "stream",
     "text": [
      "The yougest child is panna\n"
     ]
    }
   ],
   "source": [
    "def funtion(**child):\n",
    "    print('The yougest child is',child['child3'])\n",
    "funtion(child1 = 'shafi',child2 = 'jannat',child3  = 'panna',child4 = 'aklima')"
   ]
  },
  {
   "cell_type": "code",
   "execution_count": 14,
   "metadata": {},
   "outputs": [
    {
     "name": "stdout",
     "output_type": "stream",
     "text": [
      "the sum is  16\n",
      "the sum is  36\n"
     ]
    }
   ],
   "source": [
    "def x(x,y=2):\n",
    "    return(x*x + 2*x*y + y*y)\n",
    "print('the sum is ',x(2))\n",
    "print('the sum is ',x(2,4))"
   ]
  },
  {
   "cell_type": "code",
   "execution_count": 17,
   "metadata": {},
   "outputs": [
    {
     "name": "stdout",
     "output_type": "stream",
     "text": [
      "[2, 4, 4, 5, 5, 6, 6, 93]\n"
     ]
    }
   ],
   "source": [
    "x = [2,93,4,4,5,5,6,6]\n",
    "x.sort()\n",
    "print(x)"
   ]
  },
  {
   "cell_type": "code",
   "execution_count": 20,
   "metadata": {},
   "outputs": [
    {
     "name": "stdout",
     "output_type": "stream",
     "text": [
      "gell\n",
      "global\n"
     ]
    }
   ],
   "source": [
    "a = 'global'\n",
    "def funtion():\n",
    "    a = 'gell'\n",
    "    print(a)\n",
    "funtion()\n",
    "print(a)"
   ]
  },
  {
   "cell_type": "code",
   "execution_count": 22,
   "metadata": {},
   "outputs": [
    {
     "name": "stdout",
     "output_type": "stream",
     "text": [
      "local a test\n",
      "global a\n"
     ]
    }
   ],
   "source": [
    "a = 'global a'\n",
    "def funtion():\n",
    "    a  = 'local a'\n",
    "    a = a+' test'\n",
    "    print(a)\n",
    "funtion()\n",
    "print(a)"
   ]
  },
  {
   "cell_type": "code",
   "execution_count": 23,
   "metadata": {},
   "outputs": [
    {
     "name": "stdout",
     "output_type": "stream",
     "text": [
      "global a test\n",
      "global a test\n"
     ]
    }
   ],
   "source": [
    "a = 'global a'\n",
    "def funtion():\n",
    "    global a\n",
    "    a = a+' test'\n",
    "    print(a)\n",
    "funtion()\n",
    "print(a)"
   ]
  },
  {
   "cell_type": "code",
   "execution_count": 26,
   "metadata": {},
   "outputs": [
    {
     "name": "stdout",
     "output_type": "stream",
     "text": [
      "outer a test\n",
      "outer a \n"
     ]
    }
   ],
   "source": [
    "a = 'global a '\n",
    "def gun():\n",
    "    a  = 'outer a '\n",
    "    def inner():\n",
    "        #a  = 'inner a '\n",
    "        nonlocal a \n",
    "        print(a + 'test')\n",
    "    inner()\n",
    "    print(a)\n",
    "gun()\n"
   ]
  },
  {
   "cell_type": "code",
   "execution_count": 28,
   "metadata": {},
   "outputs": [
    {
     "name": "stdout",
     "output_type": "stream",
     "text": [
      "1\n",
      "1.3333333333333333\n"
     ]
    }
   ],
   "source": [
    "a = int(input())\n",
    "b = int(input())\n",
    "print(a//b)\n",
    "print(a/b)"
   ]
  },
  {
   "cell_type": "code",
   "execution_count": null,
   "metadata": {},
   "outputs": [],
   "source": []
  }
 ],
 "metadata": {
  "kernelspec": {
   "display_name": "Python 3.10.4 64-bit",
   "language": "python",
   "name": "python3"
  },
  "language_info": {
   "codemirror_mode": {
    "name": "ipython",
    "version": 3
   },
   "file_extension": ".py",
   "mimetype": "text/x-python",
   "name": "python",
   "nbconvert_exporter": "python",
   "pygments_lexer": "ipython3",
   "version": "3.11.0"
  },
  "orig_nbformat": 4,
  "vscode": {
   "interpreter": {
    "hash": "aee8b7b246df8f9039afb4144a1f6fd8d2ca17a180786b69acc140d282b71a49"
   }
  }
 },
 "nbformat": 4,
 "nbformat_minor": 2
}
