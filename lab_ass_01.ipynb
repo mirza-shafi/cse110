{
  "cells": [
    {
      "cell_type": "code",
      "execution_count": 1,
      "metadata": {
        "colab": {
          "base_uri": "https://localhost:8080/"
        },
        "id": "wvaIOIWo325y",
        "outputId": "46cf765b-ddee-47b3-9da9-6e534a7b9f58"
      },
      "outputs": [
        {
          "ename": "ValueError",
          "evalue": "invalid literal for int() with base 10: 'd'",
          "output_type": "error",
          "traceback": [
            "\u001b[0;31m---------------------------------------------------------------------------\u001b[0m",
            "\u001b[0;31mValueError\u001b[0m                                Traceback (most recent call last)",
            "Cell \u001b[0;32mIn[1], line 2\u001b[0m\n\u001b[1;32m      1\u001b[0m \u001b[39m#task 01\u001b[39;00m\n\u001b[0;32m----> 2\u001b[0m var_1 \u001b[39m=\u001b[39m \u001b[39mint\u001b[39;49m(\u001b[39minput\u001b[39;49m(\u001b[39m'\u001b[39;49m\u001b[39mplease enter the first number: \u001b[39;49m\u001b[39m'\u001b[39;49m))\n\u001b[1;32m      3\u001b[0m var_2 \u001b[39m=\u001b[39m \u001b[39mint\u001b[39m(\u001b[39minput\u001b[39m(\u001b[39m'\u001b[39m\u001b[39mPlease enter the second number: \u001b[39m\u001b[39m'\u001b[39m))\n\u001b[1;32m      4\u001b[0m total \u001b[39m=\u001b[39m var_1 \u001b[39m+\u001b[39m var_2\n",
            "\u001b[0;31mValueError\u001b[0m: invalid literal for int() with base 10: 'd'"
          ]
        }
      ],
      "source": [
        "#task 01\n",
        "var_1 = int(input('please enter the first number: '))\n",
        "var_2 = int(input('Please enter the second number: '))\n",
        "total = var_1 + var_2\n",
        "prodact = var_1*var_2\n",
        "difference = var_1 - var_2\n",
        "print('Sum=', total)\n",
        "print('prodact=', prodact)\n",
        "print('differnce=', difference)"
      ]
    },
    {
      "cell_type": "code",
      "execution_count": null,
      "metadata": {
        "colab": {
          "base_uri": "https://localhost:8080/"
        },
        "id": "k-8hEXmp6mza",
        "outputId": "704a79d9-29f0-48fa-bbc6-72d06a4c94dd"
      },
      "outputs": [
        {
          "name": "stdout",
          "output_type": "stream",
          "text": [
            "Please enter radius values: 4\n",
            "Circumference is 25.132741228718345\n",
            "Aera is 50.26548245743669\n"
          ]
        }
      ],
      "source": [
        "#task_02\n",
        "import math \n",
        "var_1 = float(input('Please enter radius values: '))\n",
        "circumference = 2*math.pi*var_1\n",
        "area = math.pi*var_1**2 \n",
        "print(\"Circumference is\", circumference)\n",
        "print(\"Aera is\", area)"
      ]
    },
    {
      "cell_type": "code",
      "execution_count": null,
      "metadata": {
        "colab": {
          "base_uri": "https://localhost:8080/"
        },
        "id": "CnBAZ2n3989v",
        "outputId": "d7d86739-4b38-4f03-da14-b6a4de7a4056"
      },
      "outputs": [
        {
          "name": "stdout",
          "output_type": "stream",
          "text": [
            "Please enter your first number: 11\n",
            "Please enter your first number: 11\n",
            "The number is equal\n"
          ]
        }
      ],
      "source": [
        "#task_03\n",
        "var_1 = int(input(\"Please enter your first number: \"))\n",
        "var_2 = int(input(\"Please enter your first number: \"))\n",
        "\n",
        "if(var_1>var_2):\n",
        "    print(\"First is greater\")\n",
        "elif(var_1<var_2):\n",
        "    print(\"Second is greater\")\n",
        "else:\n",
        "    print(\"The number is equal\")"
      ]
    },
    {
      "cell_type": "code",
      "execution_count": null,
      "metadata": {
        "colab": {
          "base_uri": "https://localhost:8080/"
        },
        "id": "FOo7zqsX_NRs",
        "outputId": "adcc7df5-e662-4fe1-ff83-ff6ff94d14b2"
      },
      "outputs": [
        {
          "name": "stdout",
          "output_type": "stream",
          "text": [
            "please enter your first number: -40\n",
            "Please enter your second number: -4\n",
            "36\n"
          ]
        }
      ],
      "source": [
        "#task_04\n",
        "var_1 = int(input(\"please enter your first number: \"))\n",
        "var_2 = int(input(\"Please enter your second number: \"))\n",
        "if(var_1>var_2):\n",
        "    sub_1 = var_1 - var_2\n",
        "    print(sub_1)\n",
        "elif(var_1<var_2):\n",
        "    sub_2 = var_2- var_1\n",
        "    print(sub_2)\n",
        "else:\n",
        "    print(\"0\")"
      ]
    },
    {
      "cell_type": "code",
      "execution_count": null,
      "metadata": {
        "colab": {
          "base_uri": "https://localhost:8080/"
        },
        "id": "1DuzlEWzBjJn",
        "outputId": "82699fee-4c42-4316-d73f-c71eee360195"
      },
      "outputs": [
        {
          "name": "stdout",
          "output_type": "stream",
          "text": [
            "pleae enter your number: 3\n",
            "The number is odd\n"
          ]
        }
      ],
      "source": [
        "#task_05\n",
        "var = int(input('pleae enter your number: '))\n",
        "if(var%2==0):\n",
        "    print(\"The number is even \")\n",
        "else:\n",
        "    print(\"The number is odd\")"
      ]
    },
    {
      "cell_type": "code",
      "execution_count": null,
      "metadata": {
        "colab": {
          "base_uri": "https://localhost:8080/"
        },
        "id": "doMCQwmcCKVd",
        "outputId": "63cdd5ca-384a-418b-81ed-8d9e28d7048b"
      },
      "outputs": [
        {
          "name": "stdout",
          "output_type": "stream",
          "text": [
            "Please enter your number: 10\n",
            "10\n"
          ]
        }
      ],
      "source": [
        "#task_06\n",
        "var = int(input('Please enter your number: '))\n",
        "if(var%2==0 or var%5==0):\n",
        "    print(var)\n",
        "else:\n",
        "    print(\"Not a multiple of 2 OR 5\")"
      ]
    },
    {
      "cell_type": "code",
      "execution_count": null,
      "metadata": {
        "colab": {
          "base_uri": "https://localhost:8080/"
        },
        "id": "bv2CclAuDRVR",
        "outputId": "24934fbb-e757-4851-d68c-41f8f94ba596"
      },
      "outputs": [
        {
          "name": "stdout",
          "output_type": "stream",
          "text": [
            "Please enter your number: 17\n",
            "Not a multiple we want\n"
          ]
        }
      ],
      "source": [
        "#task_7\n",
        "var = int(input(\"Please enter your number: \"))\n",
        "if(var%2==0 and var%5==0):\n",
        "    print(\"Multiple of 2 and 5 both\")\n",
        "elif(var%2==0 or var%5==0):\n",
        "    print(var)\n",
        "\n",
        "else:\n",
        "    print(\"Not a multiple we want\")"
      ]
    },
    {
      "cell_type": "code",
      "execution_count": null,
      "metadata": {
        "colab": {
          "base_uri": "https://localhost:8080/"
        },
        "id": "-jxFC_IWHVoB",
        "outputId": "5cb78828-b544-4b28-97c4-41c18e4167f5"
      },
      "outputs": [
        {
          "name": "stdout",
          "output_type": "stream",
          "text": [
            "Please enter your number: 15\n",
            "Not multiple of 2 nad 5 both\n"
          ]
        }
      ],
      "source": [
        "#task_08\n",
        "var = int(input(\"Please enter your number: \"))\n",
        "if(var%2==0 and var%5==0):\n",
        "    print(var)\n",
        "else:\n",
        "    print(\"Not multiple of 2 and 5 both\")"
      ]
    },
    {
      "cell_type": "code",
      "execution_count": null,
      "metadata": {
        "colab": {
          "base_uri": "https://localhost:8080/"
        },
        "id": "AUwzBmrZIUC3",
        "outputId": "a82584c3-f9bc-49c8-f3ad-3ad705d9884b"
      },
      "outputs": [
        {
          "name": "stdout",
          "output_type": "stream",
          "text": [
            "Please enter your seconds: 10000\n",
            "Hours: 2 minutes: 46 Seconds: 40\n"
          ]
        }
      ],
      "source": [
        "#task_09\n",
        "var = int(input('Please enter your seconds: '))\n",
        "print(\"Hours:\", var//3600 , end=\" \")\n",
        "var = var%3600\n",
        "print(\"minutes:\", var//60, end=\" \")\n",
        "var = var%60\n",
        "print(\"Seconds:\",var)"
      ]
    },
    {
      "cell_type": "code",
      "execution_count": null,
      "metadata": {
        "colab": {
          "base_uri": "https://localhost:8080/"
        },
        "id": "oyy6h0dUNNlI",
        "outputId": "e25a83ed-0de3-46ac-9e1f-5f72d5a9356e"
      },
      "outputs": [
        {
          "name": "stdout",
          "output_type": "stream",
          "text": [
            "Please enter workinh hours: 190\n",
            "Impossible to work more than 168 hours weekly\n"
          ]
        }
      ],
      "source": [
        "#task_10\n",
        "var = int(input(\"Please enter workinh hours: \"))\n",
        "salary = 8000\n",
        "if(0<var<=40 ):\n",
        "   salary = var*200 \n",
        "   print(\"Salary:\", salary)\n",
        "\n",
        "elif(40<var<=168):\n",
        "   salary = (var-40)*300+salary\n",
        "   print(\"salary:\", salary)\n",
        "elif(0>var):\n",
        "    print(\"Hour cannot be negative\")\n",
        "else:\n",
        "    print(\"Impossible to work more than 168 hours weekly\")"
      ]
    },
    {
      "cell_type": "code",
      "execution_count": null,
      "metadata": {
        "colab": {
          "base_uri": "https://localhost:8080/"
        },
        "id": "WmW8X3YAUzuP",
        "outputId": "bbdc9ef2-60e1-4553-fa39-8266a52052e9"
      },
      "outputs": [
        {
          "name": "stdout",
          "output_type": "stream",
          "text": [
            "Please enter your number: 3\n",
            "1875\n"
          ]
        }
      ],
      "source": [
        "#task_11\n",
        "s = int(input(\"Please enter your number: \"))\n",
        "if (s<100):\n",
        "    L = 3000-(125*(s**2))\n",
        "    print(L)\n",
        "elif(s>=100):\n",
        "    L = 12000/(4+(s**2)/14900)\n",
        "    print(L)"
      ]
    },
    {
      "cell_type": "code",
      "execution_count": null,
      "metadata": {
        "colab": {
          "base_uri": "https://localhost:8080/"
        },
        "id": "i_8J1-seYpxn",
        "outputId": "946c717a-983c-4a3e-f5f6-195c0ab5cced"
      },
      "outputs": [
        {
          "name": "stdout",
          "output_type": "stream",
          "text": [
            "please enter your hours: -1\n",
            "Wrong number\n"
          ]
        }
      ],
      "source": [
        "#task_12\n",
        "var = int(input(\"please enter your hours: \"))\n",
        "if ( 4<=var<=6):\n",
        "    print(\"Breakfast\")\n",
        "elif(12<=var<=13):\n",
        "    print(\"Lunch\")\n",
        "elif(16<=var<=17):\n",
        "    print(\"Snacks\")\n",
        "elif(19<=var<=20):\n",
        "    print(\"Dinner\")\n",
        "elif(0>var or var>=24):\n",
        "    print(\"Wrong number\")\n",
        "else:\n",
        "    print(\"Patience is a virtue\")"
      ]
    },
    {
      "cell_type": "code",
      "execution_count": null,
      "metadata": {
        "colab": {
          "base_uri": "https://localhost:8080/"
        },
        "id": "4-F7U6IxZMc8",
        "outputId": "ee25c70d-f6a9-4c1a-9439-fbc098f3df29"
      },
      "outputs": [
        {
          "name": "stdout",
          "output_type": "stream",
          "text": [
            "Please enter your marks: 100\n",
            "A\n"
          ]
        }
      ],
      "source": [
        "#task_13\n",
        "num = int(input(\"Please enter your marks: \"))\n",
        "if(90<=num<=100):\n",
        "    print(\"A\")\n",
        "elif(80<=num<=89):\n",
        "    print(\"B\")\n",
        "elif(70<=num<=79):\n",
        "    print(\"C\")\n",
        "elif(60<=num<=69):\n",
        "    print(\"D\")\n",
        "elif(50<=num<=59):\n",
        "    print(\"E\")\n",
        "elif(0<=num<50):\n",
        "    print(\"F\")\n",
        "else:\n",
        "    print(\"This is not a valid marks\")"
      ]
    },
    {
      "cell_type": "code",
      "execution_count": null,
      "metadata": {
        "colab": {
          "base_uri": "https://localhost:8080/"
        },
        "id": "uT1eqtRldx4x",
        "outputId": "7c40130a-7db5-4e0c-c40e-f3de7bc167aa"
      },
      "outputs": [
        {
          "name": "stdout",
          "output_type": "stream",
          "text": [
            "please enter distance values: 25400\n",
            "Please enter times: 3600\n",
            "25.4\n",
            "Too slow. Need more changes\n"
          ]
        }
      ],
      "source": [
        "#task_14\n",
        "var_1 = int(input(\"please enter distance values: \"))\n",
        "var_2 = int(input(\"Please enter times: \"))\n",
        "velocity = (var_1/1000)/(var_2/3600)\n",
        "                           \n",
        "print(velocity)\n",
        "if(velocity<60):\n",
        "    print(\"Too slow. Need more changes\")\n",
        "elif(60<=velocity<=90):\n",
        "    print(\"Velocity is okay. The car is ready\")\n",
        "elif(90<velocity):\n",
        "    print(\"Too fast. Only a few changes should suffice\")"
      ]
    },
    {
      "cell_type": "code",
      "execution_count": null,
      "metadata": {
        "colab": {
          "base_uri": "https://localhost:8080/"
        },
        "id": "P5fj1GtQlDh3",
        "outputId": "668ce0f6-c691-40cd-9ed8-69f74742fa57"
      },
      "outputs": [
        {
          "name": "stdout",
          "output_type": "stream",
          "text": [
            "Please enter your marks: 3.90\n",
            "please enter your credit: 67\n",
            "The student is eligible for a waiver of 50 percent.\n"
          ]
        }
      ],
      "source": [
        "#task_15\n",
        "num = float(input(\"Please enter your marks: \"))\n",
        "credits = int(input(\"please enter your credit: \"))\n",
        "\n",
        "if(3.80<=num<=3.89 and 30<=credits):\n",
        "    print(\"The student is eligible for a waiver of 25 percent.\")\n",
        "elif(3.90<=num<=3.94 and 30<=credits):\n",
        "    print(\"The student is eligible for a waiver of 50 percent.\")\n",
        "elif(3.95<=num<=3.99 and 30<=credits):\n",
        "    print(\"The student is eligible for a waiver of 75 percent.\")\n",
        "elif(num==4.00 and 30<=credits):\n",
        "    print(\"The student is eligible for a waiver of 100 percent.\")\n",
        "else:\n",
        "    print(\"The student is not eligible for a waiver\")\n"
      ]
    },
    {
      "cell_type": "code",
      "execution_count": null,
      "metadata": {
        "colab": {
          "base_uri": "https://localhost:8080/"
        },
        "id": "UOv0aySRdPQ2",
        "outputId": "87723a4d-8833-4660-82af-7d46bf1b46a6"
      },
      "outputs": [
        {
          "name": "stdout",
          "output_type": "stream",
          "text": [
            "11\n",
            "9\n",
            "5\n",
            "32\n",
            "14\n"
          ]
        }
      ],
      "source": [
        "#task_16\n",
        "p=5\n",
        "q=6\n",
        "r=9 \n",
        "sum=0 \n",
        "if(p<12):\n",
        "    print(r + 2)\n",
        "else:\n",
        "    print(r + p) \n",
        "if(q>20):\n",
        "    print(r + 19)\n",
        "elif (q <= 6):\n",
        "    print(q + 3)\n",
        "else:\n",
        "    print(p + q + r)\n",
        "if (r > 15):\n",
        "    print(r)\n",
        "elif (r == 0):\n",
        "    print(p + q)\n",
        "else:\n",
        "    print(p)\n",
        "if (sum != 0):\n",
        "    print(3)\n",
        "else:\n",
        "    print(sum + 32)\n",
        "if (p>0 and r<10):\n",
        "    print(p+r)\n",
        "else:\n",
        "    print(p-r)"
      ]
    },
    {
      "cell_type": "code",
      "execution_count": null,
      "metadata": {
        "colab": {
          "base_uri": "https://localhost:8080/"
        },
        "id": "Vkw3jSRbdhX8",
        "outputId": "53bda068-6167-44dd-fd0d-f62333205d02"
      },
      "outputs": [
        {
          "name": "stdout",
          "output_type": "stream",
          "text": [
            "True\n",
            "False\n",
            "True\n",
            "True\n",
            "False\n",
            "True\n",
            "False\n",
            "True\n",
            "False\n",
            "False\n"
          ]
        }
      ],
      "source": [
        "#task_17\n",
        "var1=var2=var3=var4=var5=var6=False\n",
        "result1 = False\n",
        "result2 = False\n",
        "result3 = False\n",
        "result4 = False \n",
        "result5 = False \n",
        "result6 = False \n",
        "result7 = False \n",
        "result8 = False\n",
        "result9 = False\n",
        "result10 = False\n",
        "var1=4>3-1\n",
        "var2 = var1 and False \n",
        "var3 = True\n",
        "var4 = False\n",
        "var5 = True\n",
        "var6 = var3 and False\n",
        "result1 = (var1 or var2) and (8 * 10 > 45)\n",
        "result2 = (var1 or var2) and (result1 and False)\n",
        "result3 = (var1 and result1) or result2\n",
        "result4 = (var1 or var2) or ((var3 and var1) and False)\n",
        "result5 = (var1 and var2) and (result3 or var1)\n",
        "result6 = ((var3 or var2) and not(result5)) or True\n",
        "result7 = (var4 and result1) and ((result1 and False) or True) \n",
        "result8 = ((var1 and result3) and (var5 or var6)) and True\n",
        "result9 = ((result2 and var2) or (result7 and var1)) and False\n",
        "result10 = not(var1 and True)\n",
        "print(result1)\n",
        "print(result2)\n",
        "print(result3)\n",
        "print(result4)\n",
        "print(result5)\n",
        "print(result6)\n",
        "print(result7)\n",
        "print(result8)\n",
        "print(result9)\n",
        "print(result10)"
      ]
    },
    {
      "cell_type": "code",
      "execution_count": null,
      "metadata": {
        "colab": {
          "base_uri": "https://localhost:8080/"
        },
        "id": "EGimI5L-hFgI",
        "outputId": "7185f663-f20a-4e7e-a0f7-488eebb811fc"
      },
      "outputs": [
        {
          "name": "stdout",
          "output_type": "stream",
          "text": [
            "False\n",
            "False\n",
            "True\n",
            "False\n",
            "False\n",
            "True\n",
            "False\n",
            "False\n",
            "False\n",
            "True\n"
          ]
        }
      ],
      "source": [
        "#task_18\n",
        "var1 = False\n",
        "var2 = False\n",
        "var3 = False\n",
        "var4 = False\n",
        "var5 = False\n",
        "var6 = False\n",
        "result1 = False \n",
        "result2 = False \n",
        "result3 = False\n",
        "result4 = False\n",
        "result5 = False\n",
        "result6 = False\n",
        "result7 = False\n",
        "result8 = False\n",
        "result9 = False\n",
        "result10 = False\n",
        "var1 = ((not True) or True) and False \n",
        "var2 = var1 and False\n",
        "var3 = True and not False \n",
        "var4 = False\n",
        "var5 = True\n",
        "var6 = var3 and False\n",
        "result1 = (var1 and var2) and (40 % 3) > 45 or (var5 and var6) \n",
        "result2 = (var1 or var2) or (result1 and False)\n",
        "result3 = (var1 and result1) or result2 or var5\n",
        "result4 = (var1 or var2) or ((var3 and var1) and False)\n",
        "result5 = (var1 and var2) and (result3 or var1)\n",
        "result6 = ((var3 or (not var2)) and (result5)) or True\n",
        "result7 = (var4 and result1) and ((result1 and False) or True)\n",
        "result8 = ((var1 and result3) and ((not var5) or var6)) and True\n",
        "result9 = ((result2 and var2) or ((not result7) and var1)) and not False \n",
        "result10 = not(var1 and True)\n",
        "print(result1)\n",
        "print(result2)\n",
        "print(result3)\n",
        "print(result4)\n",
        "print(result5)\n",
        "print(result6)\n",
        "print(result7)\n",
        "print(result8)\n",
        "print(result9)\n",
        "print(result10)"
      ]
    },
    {
      "cell_type": "code",
      "execution_count": null,
      "metadata": {
        "colab": {
          "base_uri": "https://localhost:8080/"
        },
        "id": "SfJTkOpqjezd",
        "outputId": "a8b8ed7f-423c-45ee-e369-74ea2f6d8a08"
      },
      "outputs": [
        {
          "name": "stdout",
          "output_type": "stream",
          "text": [
            "False\n",
            "True\n",
            "True\n",
            "True\n",
            "True\n",
            "True\n",
            "False\n",
            "True\n",
            "True\n",
            "False\n"
          ]
        }
      ],
      "source": [
        "#task_19\n",
        "var1=var2=var3=var4=var5=var6=False\n",
        "result1 = result2 = result3 = result4 = result5 = result6 = False \n",
        "result7 = result8 = result9 = result10 = False\n",
        "var1 = (not False or False) and True\n",
        "var2 = var1 and True\n",
        "var3 = False and not True\n",
        "var4 = True\n",
        "var5 = False\n",
        "var6 = var3 and True\n",
        "result1 = (var1 and var2) and ( 40 % 3 > 45) or (var5 and var6) \n",
        "result2 = (var1 or var2) or (result1 and False)\n",
        "result3 = (var1 and result1) or result2 or var5\n",
        "result4 = (var1 or var2) or ((var3 and var1) and False)\n",
        "result5 = (var1 and var2) and (result3 or var1)\n",
        "result6 = ((var3 or not var2) and (result5)) or True\n",
        "result7 = (var4 and result1) and ((result1 and False) or True)\n",
        "result8 = ((var1 and result3) and (not var5 or var6)) and True\n",
        "result9 = ((result2 and var2) or (not result7 and var1)) and not False \n",
        "result10 = not (var1 and True)\n",
        "print(result1)\n",
        "print(result2)\n",
        "print(result3)\n",
        "print(result4)\n",
        "print(result5)\n",
        "print(result6)\n",
        "print(result7)\n",
        "print(result8)\n",
        "print(result9)\n",
        "print(result10)"
      ]
    },
    {
      "cell_type": "code",
      "execution_count": null,
      "metadata": {
        "id": "Oi5i8HTUV4jC"
      },
      "outputs": [],
      "source": []
    }
  ],
  "metadata": {
    "colab": {
      "provenance": []
    },
    "kernelspec": {
      "display_name": "Python 3.10.4 64-bit",
      "language": "python",
      "name": "python3"
    },
    "language_info": {
      "codemirror_mode": {
        "name": "ipython",
        "version": 3
      },
      "file_extension": ".py",
      "mimetype": "text/x-python",
      "name": "python",
      "nbconvert_exporter": "python",
      "pygments_lexer": "ipython3",
      "version": "3.11.0"
    },
    "vscode": {
      "interpreter": {
        "hash": "aee8b7b246df8f9039afb4144a1f6fd8d2ca17a180786b69acc140d282b71a49"
      }
    }
  },
  "nbformat": 4,
  "nbformat_minor": 0
}
