{
  "cells": [
    {
      "cell_type": "code",
      "execution_count": null,
      "metadata": {
        "colab": {
          "base_uri": "https://localhost:8080/"
        },
        "id": "3f9NoaN4_Lhg",
        "outputId": "be67fc79-a2b4-4cac-b88e-7944b8aa4b01"
      },
      "outputs": [
        {
          "name": "stdout",
          "output_type": "stream",
          "text": [
            "24, 18, 12, 6, 0, -6"
          ]
        }
      ],
      "source": [
        "#task_01_a\n",
        "count = 24\n",
        "while count>=-6:\n",
        "     if count==-6:\n",
        "         print(count,end = '')\n",
        "     else:\n",
        "         print(count, end = ', ')\n",
        "     count-=6"
      ]
    },
    {
      "cell_type": "code",
      "execution_count": 2,
      "metadata": {
        "colab": {
          "base_uri": "https://localhost:8080/"
        },
        "id": "ZC_3w3NREevN",
        "outputId": "7eb088fd-0619-497f-b2aa-4db7b6718275"
      },
      "outputs": [
        {
          "name": "stdout",
          "output_type": "stream",
          "text": [
            "24,18,12,6,0,-6"
          ]
        }
      ],
      "source": [
        "#another solve\n",
        "count = 24\n",
        "while count>=-6:\n",
        "    if count == -6:\n",
        "        print(count, end = '')\n",
        "    else:\n",
        "        print(count, end =  ',')\n",
        "    count-=6"
      ]
    },
    {
      "cell_type": "code",
      "execution_count": 3,
      "metadata": {
        "colab": {
          "base_uri": "https://localhost:8080/"
        },
        "id": "Xr7GgQwuBYFb",
        "outputId": "0a0c2346-cf22-4381-ffb7-3edcc65768db"
      },
      "outputs": [
        {
          "name": "stdout",
          "output_type": "stream",
          "text": [
            "-10, -5, 0, 5, 10, 15, 20"
          ]
        }
      ],
      "source": [
        "#task_01_b\n",
        "count = -10\n",
        "while count<=20:\n",
        "    if count==20:\n",
        "        print(count, end = '')\n",
        "    else:\n",
        "        print(count, end = ', ')\n",
        "    count+=5"
      ]
    },
    {
      "cell_type": "code",
      "execution_count": null,
      "metadata": {
        "colab": {
          "base_uri": "https://localhost:8080/"
        },
        "id": "ECOEJbF3B6UM",
        "outputId": "0dd4092b-1bcd-4bae-f778-0763f8770a10"
      },
      "outputs": [
        {
          "name": "stdout",
          "output_type": "stream",
          "text": [
            "18, 27, 36, 45, 54, 63"
          ]
        }
      ],
      "source": [
        "#task_01_c\n",
        "count = 18\n",
        "while count<=63:\n",
        "    if count==63:\n",
        "        print(count, end = '')\n",
        "    else:\n",
        "        print(count, end=', ')\n",
        "    count+=9"
      ]
    },
    {
      "cell_type": "code",
      "execution_count": null,
      "metadata": {
        "colab": {
          "base_uri": "https://localhost:8080/"
        },
        "id": "R-lyc8GVIkHR",
        "outputId": "a76e1f0a-e683-4fe2-edb9-3cfc6f32f8ec"
      },
      "outputs": [
        {
          "name": "stdout",
          "output_type": "stream",
          "text": [
            "18,-27,36,-45,54,-63"
          ]
        }
      ],
      "source": [
        "#task_01_d\n",
        "for i in range(18,64,9):\n",
        "    if i%2!=0:\n",
        "        k = i*-1\n",
        "        if k==-63:\n",
        "            print(k, end = '')\n",
        "        else:\n",
        "            print(k, end = ',')\n",
        "    else:\n",
        "        print(i,end = ',')"
      ]
    },
    {
      "cell_type": "code",
      "execution_count": null,
      "metadata": {
        "colab": {
          "base_uri": "https://localhost:8080/"
        },
        "id": "2Dhre65VKL-D",
        "outputId": "9b5656c6-6573-4a26-b5d3-9f46a01aabac"
      },
      "outputs": [
        {
          "name": "stdout",
          "output_type": "stream",
          "text": [
            "please enter your favorite car name: kashem\n",
            "Please enter your number: 4\n",
            "kashem\n",
            "kashem\n",
            "kashem\n"
          ]
        }
      ],
      "source": [
        "#task-02\n",
        "car = input(\"please enter your favorite car name: \")\n",
        "num = int(input(\"Please enter your number: \"))\n",
        "for i in range(1,num+1):\n",
        "    print(car)"
      ]
    },
    {
      "cell_type": "code",
      "execution_count": null,
      "metadata": {
        "colab": {
          "base_uri": "https://localhost:8080/"
        },
        "id": "oLTaexcQLhtr",
        "outputId": "7003c93b-ae39-46a0-b848-e565b5cd22fe"
      },
      "outputs": [
        {
          "name": "stdout",
          "output_type": "stream",
          "text": [
            "2835\n"
          ]
        }
      ],
      "source": [
        "#task-03\n",
        "sum = 0\n",
        "for i in range(63,600):\n",
        "    if i%7==0 and i%9==0:\n",
        "        sum = sum+i\n",
        "print(sum)\n",
        "    "
      ]
    },
    {
      "cell_type": "code",
      "execution_count": null,
      "metadata": {
        "colab": {
          "base_uri": "https://localhost:8080/"
        },
        "id": "i15kM3lwNGzR",
        "outputId": "0439f4fc-7b50-445f-d313-c3298072cf34"
      },
      "outputs": [
        {
          "name": "stdout",
          "output_type": "stream",
          "text": [
            "42649\n"
          ]
        }
      ],
      "source": [
        "#task-04\n",
        "sum = 0\n",
        "for i in range(7,601):\n",
        "    if i%7==0 or i%9==0:\n",
        "        sum+=i\n",
        "\n",
        "print(sum)"
      ]
    },
    {
      "cell_type": "code",
      "execution_count": null,
      "metadata": {
        "colab": {
          "base_uri": "https://localhost:8080/"
        },
        "id": "p0dj7t4bQjf9",
        "outputId": "1544a4e9-a8ca-44d8-a51c-79a6f939addc"
      },
      "outputs": [
        {
          "name": "stdout",
          "output_type": "stream",
          "text": [
            "11 13 15 17 19 21 23 25 27 29 31 33 35 37 39 41 43 45 47 49 "
          ]
        }
      ],
      "source": [
        "#task-05\n",
        "for i in range (10,50):\n",
        "    if i%2!=0:\n",
        "       print(i, end = ' ')"
      ]
    },
    {
      "cell_type": "code",
      "execution_count": null,
      "metadata": {
        "colab": {
          "base_uri": "https://localhost:8080/"
        },
        "id": "vpHqRa7MR4gw",
        "outputId": "8f0851cf-9bd4-4189-9ab0-8eb6bb28b940"
      },
      "outputs": [
        {
          "name": "stdout",
          "output_type": "stream",
          "text": [
            "Please enter your number: 5\n",
            "15\n"
          ]
        }
      ],
      "source": [
        "#task-06\n",
        "num = int(input(\"Please enter your number: \"))\n",
        "even = 0\n",
        "odd = 0\n",
        "for i in range (0,num+1):\n",
        "    if i%2==0:\n",
        "        even = even+i**2\n",
        "    elif i%2!=0:\n",
        "        odd+=i**2\n",
        "sum = odd - even\n",
        "print(sum)"
      ]
    },
    {
      "cell_type": "code",
      "execution_count": null,
      "metadata": {
        "colab": {
          "base_uri": "https://localhost:8080/"
        },
        "id": "kPicmDBCYLzH",
        "outputId": "e87cbddb-2b81-4fed-8ab5-46d172ef4ca0"
      },
      "outputs": [
        {
          "name": "stdout",
          "output_type": "stream",
          "text": [
            "Please neter your number: 10\n",
            "-55\n"
          ]
        }
      ],
      "source": [
        "#another for task-06\n",
        "num = int(input(\"Please neter your number: \"))\n",
        "sum = 0\n",
        "for i in range(1,num+1):\n",
        "    if i%2!=0:\n",
        "        sum = sum + i**2\n",
        "    else:\n",
        "        sum = sum - i**2\n",
        "print(sum)"
      ]
    },
    {
      "cell_type": "markdown",
      "metadata": {
        "id": "iifhinbnQYhV"
      },
      "source": [
        "TASK-07"
      ]
    },
    {
      "cell_type": "code",
      "execution_count": null,
      "metadata": {
        "colab": {
          "base_uri": "https://localhost:8080/"
        },
        "id": "oyJgVp3maptB",
        "outputId": "3f436d32-c1a7-4618-a6fb-39bc9f245a80"
      },
      "outputs": [
        {
          "name": "stdout",
          "output_type": "stream",
          "text": [
            "please neter your number: 1\n",
            "please neter your number: 2\n",
            "please neter your number: 3\n",
            "please neter your number: 4\n",
            "please neter your number: 5\n",
            "please neter your number: 6\n",
            "please neter your number: 7\n",
            "please neter your number: 8\n",
            "please neter your number: 9\n",
            "please neter your number: 10\n",
            "25and 5.0\n"
          ]
        }
      ],
      "source": [
        "sum = 0\n",
        "count = 0\n",
        "for i in range(1,11):\n",
        "    num = int(input(\"please neter your number: \"))\n",
        "    if i%2!=0:\n",
        "       sum = sum+num\n",
        "       count+=1\n",
        "avg = sum/count\n",
        "print(sum, end = '')\n",
        "print('and',avg  )"
      ]
    },
    {
      "cell_type": "code",
      "execution_count": null,
      "metadata": {
        "id": "ReT3Rh4mZrIj"
      },
      "outputs": [],
      "source": [
        "#task-07 anotehr solve\n",
        "sum = 0\n",
        "count = 0\n",
        "for i in range(10):\n",
        "    num = int(input())\n",
        "    if num%2!=0:\n",
        "        sum+=num\n",
        "        count+=1\n",
        "\n",
        "avg = sum/count\n",
        "print(sum)\n",
        "print(avg)\n",
        "        "
      ]
    },
    {
      "cell_type": "markdown",
      "metadata": {
        "id": "8YHMPzaydjEm"
      },
      "source": [
        "TASK-08"
      ]
    },
    {
      "cell_type": "code",
      "execution_count": null,
      "metadata": {
        "colab": {
          "base_uri": "https://localhost:8080/"
        },
        "id": "5li_iJjkdljt",
        "outputId": "b36f7c3f-40eb-4df3-e00e-a12a7bf9c19f"
      },
      "outputs": [
        {
          "name": "stdout",
          "output_type": "stream",
          "text": [
            "Please enter your number: 75\n",
            "385\n"
          ]
        }
      ],
      "source": [
        "num = int(input(\"Please enter your number: \"))\n",
        "count = 7\n",
        "sum = 0\n",
        "while count<num:\n",
        "   sum = sum+count\n",
        "   count+=7\n",
        "print(sum)"
      ]
    },
    {
      "cell_type": "markdown",
      "metadata": {
        "id": "wr0COeXdeQI3"
      },
      "source": [
        "task-08 for loop"
      ]
    },
    {
      "cell_type": "code",
      "execution_count": null,
      "metadata": {
        "colab": {
          "base_uri": "https://localhost:8080/"
        },
        "id": "o8GW-AkqeUm8",
        "outputId": "0863e744-98b0-46c6-9a15-dedb818a3184"
      },
      "outputs": [
        {
          "name": "stdout",
          "output_type": "stream",
          "text": [
            "please enter your number: 75\n",
            "385\n"
          ]
        }
      ],
      "source": [
        "num = int(input(\"please enter your number: \"))\n",
        "sum = 0\n",
        "for i in range(7,num,7):\n",
        "  sum = sum + i\n",
        "print(sum)"
      ]
    },
    {
      "cell_type": "markdown",
      "metadata": {
        "id": "LqBD9iHuf7NR"
      },
      "source": [
        "**task-09**"
      ]
    },
    {
      "cell_type": "code",
      "execution_count": null,
      "metadata": {
        "colab": {
          "base_uri": "https://localhost:8080/"
        },
        "id": "KLfn7WjagDwk",
        "outputId": "27702ce3-d931-4832-d759-9ffd6c6a3938"
      },
      "outputs": [
        {
          "name": "stdout",
          "output_type": "stream",
          "text": [
            "Enter your number: 1\n",
            "1\n",
            "Enter your number: 2\n",
            "3\n",
            "Enter your number: 3\n",
            "6\n",
            "Enter your number: 5\n",
            "11\n",
            "Enter your number: 6\n",
            "17\n"
          ]
        }
      ],
      "source": [
        "sum = 0\n",
        "count = 0\n",
        "for i in range(1,6):\n",
        "    num = int(input(\"Enter your number: \"))\n",
        "    sum = sum+num\n",
        "    print(sum)"
      ]
    },
    {
      "cell_type": "markdown",
      "metadata": {
        "id": "R3Tlv-HeihF8"
      },
      "source": [
        "task-10"
      ]
    },
    {
      "cell_type": "code",
      "execution_count": null,
      "metadata": {
        "colab": {
          "base_uri": "https://localhost:8080/"
        },
        "id": "MQ_psl6BijbU",
        "outputId": "22613a69-2d6b-4d44-db98-7baed86c8146"
      },
      "outputs": [
        {
          "name": "stdout",
          "output_type": "stream",
          "text": [
            "Enter your number: 235\n",
            "5, 3, 2"
          ]
        }
      ],
      "source": [
        " #task-10\n",
        "num = int(input('Enter your number: '))\n",
        "while num!=0:\n",
        "   num1 = num%10\n",
        "   num = num//10\n",
        "   if num%10==0:\n",
        "     print(num1, end= '')\n",
        "   else:\n",
        "     print(num1, end = ', ')\n"
      ]
    },
    {
      "cell_type": "code",
      "execution_count": null,
      "metadata": {
        "colab": {
          "base_uri": "https://localhost:8080/"
        },
        "id": "_AuX2hY-_Nqi",
        "outputId": "3ae190eb-69b2-4f16-ecb1-b88fb0538e2e"
      },
      "outputs": [
        {
          "name": "stdout",
          "output_type": "stream",
          "text": [
            "please neter your number: 1245\n",
            "4 degits\n"
          ]
        }
      ],
      "source": [
        "#task-11\n",
        "count = 0\n",
        "num = int(input(\"please neter your number: \"))\n",
        "\n",
        "while num%10!=0: \n",
        "    num = num//10\n",
        "    count+=1\n",
        "print(count, \"degits\")"
      ]
    },
    {
      "cell_type": "code",
      "execution_count": null,
      "metadata": {
        "colab": {
          "base_uri": "https://localhost:8080/"
        },
        "id": "OOpEkANHAweR",
        "outputId": "6744850a-3e52-4976-c78b-1ce449c1041e"
      },
      "outputs": [
        {
          "name": "stdout",
          "output_type": "stream",
          "text": [
            "1234\n",
            "1,2,3,4"
          ]
        }
      ],
      "source": [
        "#task-12\n",
        "num = int(input())\n",
        "x = num\n",
        "count = 0\n",
        "while num!=0:\n",
        "    num = num//10\n",
        "    count+=1\n",
        "n = 10**(count-1)\n",
        "while count!=0:\n",
        "    d = x//n\n",
        "    if count==1:\n",
        "        print(d, end = '')\n",
        "    else:\n",
        "        print(d, end = ',')\n",
        "    x = x%n\n",
        "    n = n//10\n",
        "    count-=1"
      ]
    },
    {
      "cell_type": "code",
      "execution_count": null,
      "metadata": {
        "colab": {
          "base_uri": "https://localhost:8080/"
        },
        "id": "oxGeZUx7FBoI",
        "outputId": "62debded-1e41-441b-9c53-8aed338f0c17"
      },
      "outputs": [
        {
          "name": "stdout",
          "output_type": "stream",
          "text": [
            "Enter 6\n",
            "1, 2, 3, 6"
          ]
        }
      ],
      "source": [
        " #task-13\n",
        "num = int(input('Enter '))\n",
        "count = 1\n",
        "tp = 0\n",
        "while count<=num:\n",
        "    if num==count:\n",
        "      print(count,end = '')\n",
        "    elif num%count==0:\n",
        "      print(count, end =', ')\n",
        "    count+=1\n",
        "    "
      ]
    },
    {
      "cell_type": "code",
      "execution_count": null,
      "metadata": {
        "colab": {
          "base_uri": "https://localhost:8080/"
        },
        "id": "BRVx5h9fuAtc",
        "outputId": "79a6bb6f-aeb5-4076-f20f-522657455be7"
      },
      "outputs": [
        {
          "name": "stdout",
          "output_type": "stream",
          "text": [
            "please enter your number: 6\n",
            "1, 2, 3, 6 total 4  divisors\n"
          ]
        }
      ],
      "source": [
        "#another solve\n",
        "num = int(input(\"please enter your number: \"))\n",
        "count = 0\n",
        "for start in range(1,num+1):\n",
        "    if num==start:\n",
        "        print(start, end = ' ')\n",
        "        count+=1\n",
        "    elif num%start==0:\n",
        "        print(start, end = ', ' )\n",
        "        count+=1\n",
        "print(\"total\",count,\" divisors\")"
      ]
    },
    {
      "cell_type": "code",
      "execution_count": null,
      "metadata": {
        "colab": {
          "base_uri": "https://localhost:8080/"
        },
        "id": "K69ae39hIJ1u",
        "outputId": "ab375f09-c685-426d-ec97-bbf2ae4af433"
      },
      "outputs": [
        {
          "name": "stdout",
          "output_type": "stream",
          "text": [
            "Enter your number: 33\n",
            "33 is not a perfect number\n"
          ]
        }
      ],
      "source": [
        "#task-14\n",
        "\n",
        "num = int(input('Enter your number: '))\n",
        "sum = 0\n",
        "for i in range(1,num):\n",
        "  if num%i==0:\n",
        "    sum+=i\n",
        "if num == sum:\n",
        "  print(num,\"is a perfect number\")\n",
        "else:\n",
        "  print(num,\"is not a perfect number\")\n"
      ]
    },
    {
      "cell_type": "code",
      "execution_count": null,
      "metadata": {
        "colab": {
          "base_uri": "https://localhost:8080/"
        },
        "id": "TdxyiC33Qj6L",
        "outputId": "3a30e8ae-8750-4ba3-cff0-71607dd03ce3"
      },
      "outputs": [
        {
          "name": "stdout",
          "output_type": "stream",
          "text": [
            "Enter your number: 11\n",
            "11  is a prime number\n"
          ]
        }
      ],
      "source": [
        "#task-15\n",
        "\n",
        "num = int(input('Enter your number: '))\n",
        "if num>1:\n",
        "    for i in range(2,num):\n",
        "        if num%i==0:\n",
        "            print(num,\" is not a prime number\")\n",
        "            break\n",
        "        else:\n",
        "            print(num,\" is a prime number\")\n",
        "            break\n",
        "else:\n",
        "    print(num,\"is not prime number\")"
      ]
    },
    {
      "cell_type": "code",
      "execution_count": null,
      "metadata": {
        "id": "Y7mZT1MYwsw0"
      },
      "outputs": [],
      "source": [
        "#task-15 another solve\n",
        "num = int(input())\n",
        "count = 0\n",
        "for i in range(1,num):\n",
        "    if num%i==0:\n",
        "        count+=1\n",
        "if count<2:\n",
        "    print(\"prime\")\n",
        "else:\n",
        "    print(\"not\")"
      ]
    },
    {
      "cell_type": "code",
      "execution_count": null,
      "metadata": {
        "colab": {
          "base_uri": "https://localhost:8080/"
        },
        "id": "qyqeLt53UcyK",
        "outputId": "ab757f52-2431-44eb-f585-00cacb1ea10a"
      },
      "outputs": [
        {
          "ename": "KeyboardInterrupt",
          "evalue": "ignored",
          "output_type": "error",
          "traceback": [
            "\u001b[0;31m---------------------------------------------------------------------------\u001b[0m",
            "\u001b[0;31mKeyboardInterrupt\u001b[0m                         Traceback (most recent call last)",
            "\u001b[0;32m/usr/local/lib/python3.7/dist-packages/ipykernel/kernelbase.py\u001b[0m in \u001b[0;36m_input_request\u001b[0;34m(self, prompt, ident, parent, password)\u001b[0m\n\u001b[1;32m    728\u001b[0m             \u001b[0;32mtry\u001b[0m\u001b[0;34m:\u001b[0m\u001b[0;34m\u001b[0m\u001b[0;34m\u001b[0m\u001b[0m\n\u001b[0;32m--> 729\u001b[0;31m                 \u001b[0mident\u001b[0m\u001b[0;34m,\u001b[0m \u001b[0mreply\u001b[0m \u001b[0;34m=\u001b[0m \u001b[0mself\u001b[0m\u001b[0;34m.\u001b[0m\u001b[0msession\u001b[0m\u001b[0;34m.\u001b[0m\u001b[0mrecv\u001b[0m\u001b[0;34m(\u001b[0m\u001b[0mself\u001b[0m\u001b[0;34m.\u001b[0m\u001b[0mstdin_socket\u001b[0m\u001b[0;34m,\u001b[0m \u001b[0;36m0\u001b[0m\u001b[0;34m)\u001b[0m\u001b[0;34m\u001b[0m\u001b[0;34m\u001b[0m\u001b[0m\n\u001b[0m\u001b[1;32m    730\u001b[0m             \u001b[0;32mexcept\u001b[0m \u001b[0mException\u001b[0m\u001b[0;34m:\u001b[0m\u001b[0;34m\u001b[0m\u001b[0;34m\u001b[0m\u001b[0m\n",
            "\u001b[0;32m/usr/local/lib/python3.7/dist-packages/jupyter_client/session.py\u001b[0m in \u001b[0;36mrecv\u001b[0;34m(self, socket, mode, content, copy)\u001b[0m\n\u001b[1;32m    802\u001b[0m         \u001b[0;32mtry\u001b[0m\u001b[0;34m:\u001b[0m\u001b[0;34m\u001b[0m\u001b[0;34m\u001b[0m\u001b[0m\n\u001b[0;32m--> 803\u001b[0;31m             \u001b[0mmsg_list\u001b[0m \u001b[0;34m=\u001b[0m \u001b[0msocket\u001b[0m\u001b[0;34m.\u001b[0m\u001b[0mrecv_multipart\u001b[0m\u001b[0;34m(\u001b[0m\u001b[0mmode\u001b[0m\u001b[0;34m,\u001b[0m \u001b[0mcopy\u001b[0m\u001b[0;34m=\u001b[0m\u001b[0mcopy\u001b[0m\u001b[0;34m)\u001b[0m\u001b[0;34m\u001b[0m\u001b[0;34m\u001b[0m\u001b[0m\n\u001b[0m\u001b[1;32m    804\u001b[0m         \u001b[0;32mexcept\u001b[0m \u001b[0mzmq\u001b[0m\u001b[0;34m.\u001b[0m\u001b[0mZMQError\u001b[0m \u001b[0;32mas\u001b[0m \u001b[0me\u001b[0m\u001b[0;34m:\u001b[0m\u001b[0;34m\u001b[0m\u001b[0;34m\u001b[0m\u001b[0m\n",
            "\u001b[0;32m/usr/local/lib/python3.7/dist-packages/zmq/sugar/socket.py\u001b[0m in \u001b[0;36mrecv_multipart\u001b[0;34m(self, flags, copy, track)\u001b[0m\n\u001b[1;32m    726\u001b[0m         \"\"\"\n\u001b[0;32m--> 727\u001b[0;31m         \u001b[0mparts\u001b[0m \u001b[0;34m=\u001b[0m \u001b[0;34m[\u001b[0m\u001b[0mself\u001b[0m\u001b[0;34m.\u001b[0m\u001b[0mrecv\u001b[0m\u001b[0;34m(\u001b[0m\u001b[0mflags\u001b[0m\u001b[0;34m,\u001b[0m \u001b[0mcopy\u001b[0m\u001b[0;34m=\u001b[0m\u001b[0mcopy\u001b[0m\u001b[0;34m,\u001b[0m \u001b[0mtrack\u001b[0m\u001b[0;34m=\u001b[0m\u001b[0mtrack\u001b[0m\u001b[0;34m)\u001b[0m\u001b[0;34m]\u001b[0m\u001b[0;34m\u001b[0m\u001b[0;34m\u001b[0m\u001b[0m\n\u001b[0m\u001b[1;32m    728\u001b[0m         \u001b[0;31m# have first part already, only loop while more to receive\u001b[0m\u001b[0;34m\u001b[0m\u001b[0;34m\u001b[0m\u001b[0;34m\u001b[0m\u001b[0m\n",
            "\u001b[0;32mzmq/backend/cython/socket.pyx\u001b[0m in \u001b[0;36mzmq.backend.cython.socket.Socket.recv\u001b[0;34m()\u001b[0m\n",
            "\u001b[0;32mzmq/backend/cython/socket.pyx\u001b[0m in \u001b[0;36mzmq.backend.cython.socket.Socket.recv\u001b[0;34m()\u001b[0m\n",
            "\u001b[0;32mzmq/backend/cython/socket.pyx\u001b[0m in \u001b[0;36mzmq.backend.cython.socket._recv_copy\u001b[0;34m()\u001b[0m\n",
            "\u001b[0;32m/usr/local/lib/python3.7/dist-packages/zmq/backend/cython/checkrc.pxd\u001b[0m in \u001b[0;36mzmq.backend.cython.checkrc._check_rc\u001b[0;34m()\u001b[0m\n",
            "\u001b[0;31mKeyboardInterrupt\u001b[0m: ",
            "\nDuring handling of the above exception, another exception occurred:\n",
            "\u001b[0;31mKeyboardInterrupt\u001b[0m                         Traceback (most recent call last)",
            "\u001b[0;32m<ipython-input-1-97d66b16761a>\u001b[0m in \u001b[0;36m<module>\u001b[0;34m()\u001b[0m\n\u001b[1;32m      1\u001b[0m \u001b[0;31m#task-16\u001b[0m\u001b[0;34m\u001b[0m\u001b[0;34m\u001b[0m\u001b[0;34m\u001b[0m\u001b[0m\n\u001b[0;32m----> 2\u001b[0;31m \u001b[0mnum\u001b[0m\u001b[0;34m=\u001b[0m\u001b[0mint\u001b[0m\u001b[0;34m(\u001b[0m\u001b[0minput\u001b[0m\u001b[0;34m(\u001b[0m\u001b[0;34m'Enter a quantity number : '\u001b[0m\u001b[0;34m)\u001b[0m\u001b[0;34m)\u001b[0m\u001b[0;34m\u001b[0m\u001b[0;34m\u001b[0m\u001b[0m\n\u001b[0m\u001b[1;32m      3\u001b[0m \u001b[0mnum1\u001b[0m\u001b[0;34m=\u001b[0m\u001b[0mint\u001b[0m\u001b[0;34m(\u001b[0m\u001b[0minput\u001b[0m\u001b[0;34m(\u001b[0m\u001b[0;34m'Enter a number: '\u001b[0m\u001b[0;34m)\u001b[0m\u001b[0;34m)\u001b[0m\u001b[0;34m\u001b[0m\u001b[0;34m\u001b[0m\u001b[0m\n\u001b[1;32m      4\u001b[0m \u001b[0mmax\u001b[0m\u001b[0;34m=\u001b[0m\u001b[0mnum1\u001b[0m\u001b[0;34m\u001b[0m\u001b[0;34m\u001b[0m\u001b[0m\n\u001b[1;32m      5\u001b[0m \u001b[0mmin\u001b[0m\u001b[0;34m=\u001b[0m\u001b[0mnum\u001b[0m\u001b[0;34m\u001b[0m\u001b[0;34m\u001b[0m\u001b[0m\n",
            "\u001b[0;32m/usr/local/lib/python3.7/dist-packages/ipykernel/kernelbase.py\u001b[0m in \u001b[0;36mraw_input\u001b[0;34m(self, prompt)\u001b[0m\n\u001b[1;32m    702\u001b[0m             \u001b[0mself\u001b[0m\u001b[0;34m.\u001b[0m\u001b[0m_parent_ident\u001b[0m\u001b[0;34m,\u001b[0m\u001b[0;34m\u001b[0m\u001b[0;34m\u001b[0m\u001b[0m\n\u001b[1;32m    703\u001b[0m             \u001b[0mself\u001b[0m\u001b[0;34m.\u001b[0m\u001b[0m_parent_header\u001b[0m\u001b[0;34m,\u001b[0m\u001b[0;34m\u001b[0m\u001b[0;34m\u001b[0m\u001b[0m\n\u001b[0;32m--> 704\u001b[0;31m             \u001b[0mpassword\u001b[0m\u001b[0;34m=\u001b[0m\u001b[0;32mFalse\u001b[0m\u001b[0;34m,\u001b[0m\u001b[0;34m\u001b[0m\u001b[0;34m\u001b[0m\u001b[0m\n\u001b[0m\u001b[1;32m    705\u001b[0m         )\n\u001b[1;32m    706\u001b[0m \u001b[0;34m\u001b[0m\u001b[0m\n",
            "\u001b[0;32m/usr/local/lib/python3.7/dist-packages/ipykernel/kernelbase.py\u001b[0m in \u001b[0;36m_input_request\u001b[0;34m(self, prompt, ident, parent, password)\u001b[0m\n\u001b[1;32m    732\u001b[0m             \u001b[0;32mexcept\u001b[0m \u001b[0mKeyboardInterrupt\u001b[0m\u001b[0;34m:\u001b[0m\u001b[0;34m\u001b[0m\u001b[0;34m\u001b[0m\u001b[0m\n\u001b[1;32m    733\u001b[0m                 \u001b[0;31m# re-raise KeyboardInterrupt, to truncate traceback\u001b[0m\u001b[0;34m\u001b[0m\u001b[0;34m\u001b[0m\u001b[0;34m\u001b[0m\u001b[0m\n\u001b[0;32m--> 734\u001b[0;31m                 \u001b[0;32mraise\u001b[0m \u001b[0mKeyboardInterrupt\u001b[0m\u001b[0;34m\u001b[0m\u001b[0;34m\u001b[0m\u001b[0m\n\u001b[0m\u001b[1;32m    735\u001b[0m             \u001b[0;32melse\u001b[0m\u001b[0;34m:\u001b[0m\u001b[0;34m\u001b[0m\u001b[0;34m\u001b[0m\u001b[0m\n\u001b[1;32m    736\u001b[0m                 \u001b[0;32mbreak\u001b[0m\u001b[0;34m\u001b[0m\u001b[0;34m\u001b[0m\u001b[0m\n",
            "\u001b[0;31mKeyboardInterrupt\u001b[0m: "
          ]
        }
      ],
      "source": [
        "#task-16\n",
        "num=int(input('Enter a quantity number : '))\n",
        "num1=int(input('Enter a number: '))\n",
        "max=num1\n",
        "min=num\n",
        "sum=0\n",
        "\n",
        "for start in range (num-1):\n",
        "  num2=int(input('Enter your number : '))\n",
        "  sum = sum+num2\n",
        "  if num2>max:\n",
        "    max=num2\n",
        "    \n",
        "  elif num2<min:\n",
        "      min=num2\n",
        "sum = sum+num1\n",
        "print(sum)\n",
        "print(\"maximun\", max)\n",
        "print(\"minimum\", min)\n",
        "print(\"avarage\",sum/num)"
      ]
    },
    {
      "cell_type": "code",
      "execution_count": null,
      "metadata": {
        "colab": {
          "base_uri": "https://localhost:8080/"
        },
        "id": "COHcSuCSxGQ3",
        "outputId": "7312adeb-c5ce-4868-d411-a8279109a864"
      },
      "outputs": [
        {
          "name": "stdout",
          "output_type": "stream",
          "text": [
            "3\n",
            "12\n",
            "11\n",
            "10\n",
            "the max number 10\n",
            "3\n",
            "33\n"
          ]
        }
      ],
      "source": [
        "#erihuioegr\n",
        "maxx = -999\n",
        "qun = int(input())\n",
        "sumi = 0\n",
        "for i in range(qun):\n",
        "    num = int(input())\n",
        "    sumi+=num\n",
        "if maxx<num:\n",
        "        print(\"the max number\",num)\n",
        "elif maxx>num:\n",
        "        print(num)\n",
        "avgg = sumi/3\n",
        "print(qun)\n",
        "print(sumi)"
      ]
    },
    {
      "cell_type": "code",
      "execution_count": null,
      "metadata": {
        "colab": {
          "base_uri": "https://localhost:8080/"
        },
        "id": "mATPJ4SNy6Sy",
        "outputId": "3e019961-d54f-453d-fc3e-7147e95bc405"
      },
      "outputs": [
        {
          "name": "stdout",
          "output_type": "stream",
          "text": [
            "please enter your number: 5\n",
            "+++++\n",
            "+++++\n",
            "+++++\n",
            "+++++\n",
            "+++++\n"
          ]
        }
      ],
      "source": [
        "#task-17\n",
        "num = int(input(\"please enter your number: \"))\n",
        "for i in range(1,num+1):\n",
        "    print(\"+\"*num)"
      ]
    },
    {
      "cell_type": "code",
      "execution_count": null,
      "metadata": {
        "colab": {
          "base_uri": "https://localhost:8080/"
        },
        "id": "9PBkyMHs1ATa",
        "outputId": "05e8f7d2-c789-4720-a393-c6d32af33d01"
      },
      "outputs": [
        {
          "name": "stdout",
          "output_type": "stream",
          "text": [
            "m: 4\n",
            "n: 6\n",
            "123456\n",
            "123456\n",
            "123456\n",
            "123456\n"
          ]
        }
      ],
      "source": [
        "#task-18\n",
        "m = int(input(\"m: \"))\n",
        "n = int(input(\"n: \"))\n",
        "for i in range(1,m+1):\n",
        "\n",
        "  for i in range(1,n+1):\n",
        "    print(i,end = '')\n",
        "  print()"
      ]
    },
    {
      "cell_type": "code",
      "execution_count": null,
      "metadata": {
        "colab": {
          "base_uri": "https://localhost:8080/"
        },
        "id": "ZLBwtc_q32d9",
        "outputId": "dad30805-eb43-41d3-f215-fd554e5fe4e5"
      },
      "outputs": [
        {
          "name": "stdout",
          "output_type": "stream",
          "text": [
            "please enter your number: 5\n",
            "1 \n",
            "1 2 \n",
            "1 2 3 \n",
            "1 2 3 4 \n",
            "1 2 3 4 5 \n"
          ]
        }
      ],
      "source": [
        "#task_19\n",
        "rows = int(input(\"please enter your number: \"))\n",
        "for start in range(1,rows+1):\n",
        "  for i in range(1,start+1):\n",
        "    print( i,end = \" \")\n",
        "  print()"
      ]
    },
    {
      "cell_type": "code",
      "execution_count": null,
      "metadata": {
        "id": "VyTI8K0uD4z9"
      },
      "outputs": [],
      "source": [
        "n = int(input())\n",
        "for i in range(1,n+1):\n",
        "  for j in range(1,i+1):\n",
        "    print(j, end = )"
      ]
    }
  ],
  "metadata": {
    "colab": {
      "provenance": []
    },
    "kernelspec": {
      "display_name": "Python 3.10.4 64-bit",
      "language": "python",
      "name": "python3"
    },
    "language_info": {
      "codemirror_mode": {
        "name": "ipython",
        "version": 3
      },
      "file_extension": ".py",
      "mimetype": "text/x-python",
      "name": "python",
      "nbconvert_exporter": "python",
      "pygments_lexer": "ipython3",
      "version": "3.10.4"
    },
    "vscode": {
      "interpreter": {
        "hash": "7e1998ff7f8aa20ada591c520b972326324e5ea05489af9e422744c7c09f6dad"
      }
    }
  },
  "nbformat": 4,
  "nbformat_minor": 0
}
