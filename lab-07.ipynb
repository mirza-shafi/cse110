{
 "cells": [
  {
   "cell_type": "code",
   "execution_count": 1,
   "metadata": {},
   "outputs": [
    {
     "name": "stdout",
     "output_type": "stream",
     "text": [
      "[1, 2, 2, 3, 5, 6, 10, 11, 12, 14, 15, 17, 18, 20, 29]\n"
     ]
    }
   ],
   "source": [
    "#task-01\n",
    "def bubble_sorted(lst):\n",
    "    for i in range(len(lst)-1):\n",
    "        for j in range(len(lst)-i-1):\n",
    "            if lst[j]>lst[j+1]:\n",
    "                temp = lst[j]\n",
    "                lst[j] = lst[j+1]\n",
    "                lst[j+1] = temp \n",
    "lst = [10, 1, 20, 3, 6, 2, 5, 11, 15, 2, 12, 14, 17, 18, 29]\n",
    "bubble_sorted(lst)\n",
    "print(lst)\n",
    "#output [1, 2, 2, 3, 5, 6, 10, 11, 12, 14, 15, 17, 18, 20, 29]"
   ]
  },
  {
   "cell_type": "code",
   "execution_count": 1,
   "metadata": {},
   "outputs": [
    {
     "name": "stdout",
     "output_type": "stream",
     "text": [
      "hello\n"
     ]
    }
   ],
   "source": [
    "print(\"hello\")"
   ]
  },
  {
   "cell_type": "code",
   "execution_count": 4,
   "metadata": {},
   "outputs": [
    {
     "name": "stdout",
     "output_type": "stream",
     "text": [
      "[1, 2, 2, 3, 5, 6, 10, 11, 12, 14, 15, 17, 18, 20, 29]\n"
     ]
    }
   ],
   "source": [
    "#tssk-02\n",
    "def selection_sorted(lst):\n",
    "    for i in range(len(lst)):\n",
    "        min = lst[i]\n",
    "        min_index = i\n",
    "        for j in range(i+1,len(lst)):\n",
    "            if min>lst[j]:\n",
    "                min = lst[j]\n",
    "                min_index = j\n",
    "        lst[min_index],lst[i] = lst[i],lst[min_index]\n",
    "    return lst\n",
    "lst = [10, 1, 20, 3, 6, 2, 5, 11, 15, 2, 12, 14, 17, 18, 29]\n",
    "print(selection_sorted(lst))\n",
    "\n",
    "\n",
    "#output [1, 2, 2, 3, 5, 6, 10, 11, 12, 14, 15, 17, 18, 20, 29]"
   ]
  },
  {
   "cell_type": "code",
   "execution_count": 32,
   "metadata": {},
   "outputs": [
    {
     "name": "stdout",
     "output_type": "stream",
     "text": [
      "[1, 2, 2, 3, 5, 6, 10, 11, 12, 14, 15, 17, 18, 20, 29]\n"
     ]
    }
   ],
   "source": [
    "def selection_sorted(lst):\n",
    "    for i in range(len(lst)):\n",
    "        min = lst[i]\n",
    "        min_index = i\n",
    "        for j in range(i+1,len(lst)):\n",
    "            if min>lst[j]:\n",
    "                min = lst[j]\n",
    "                min_index = j\n",
    "        lst[min_index],lst[i] = lst[i],lst[min_index]\n",
    "    print(lst)\n",
    "lst = [10, 1, 20, 3, 6, 2, 5, 11, 15, 2, 12, 14, 17, 18, 29]\n",
    "selection_sorted(lst)"
   ]
  },
  {
   "cell_type": "code",
   "execution_count": 5,
   "metadata": {},
   "outputs": [
    {
     "name": "stdout",
     "output_type": "stream",
     "text": [
      "[29, 20, 18, 17, 15, 14, 12, 11, 10, 6, 5, 3, 2, 2, 1]\n"
     ]
    }
   ],
   "source": [
    "#task-03\n",
    "def bubble_sorted(lst):\n",
    "    for i in range(len(lst)-1):\n",
    "        for j in range(len(lst)-i-1):\n",
    "            if lst[j]<lst[j+1]:\n",
    "                temp = lst[j]\n",
    "                lst[j] = lst[j+1]\n",
    "                lst[j+1] = temp \n",
    "lst = [10, 1, 20, 3, 6, 2, 5, 11, 15, 2, 12, 14, 17, 18, 29]\n",
    "bubble_sorted(lst)\n",
    "print(lst)"
   ]
  },
  {
   "cell_type": "code",
   "execution_count": 27,
   "metadata": {},
   "outputs": [
    {
     "name": "stdout",
     "output_type": "stream",
     "text": [
      "[10, 100, 11, 80, 12, 70, 20, 56, 22, 30, 58, 16, 70, 15]\n"
     ]
    }
   ],
   "source": [
    "#task-04\n",
    "def funtion(lst):\n",
    "    for i in range(len(lst)-1):\n",
    "        if i%2!=0:\n",
    "          for j in range(len(lst)-i-2):\n",
    "             if lst[j]>lst[j+2]:\n",
    "                temp = lst[j]\n",
    "                lst[j] = lst[j+2]\n",
    "                lst[j+2] = temp\n",
    "        elif i%2==0:\n",
    "          for j in range(len(lst)-i-2):\n",
    "             if lst[j]<lst[j+2]:\n",
    "                temp = lst[j]\n",
    "                lst[j] = lst[j+2]\n",
    "                lst[j+2] = temp\n",
    "lst = [10,30,20,70,11,15,22,16,58,100,12,56,70,80]\n",
    "funtion(lst)\n",
    "print(lst)\n",
    "#ourput[10, 100, 11, 80, 12, 70, 20, 56, 22, 30, 58, 16, 70, 15]\n",
    "# solved but indexing confused"
   ]
  },
  {
   "cell_type": "code",
   "execution_count": 26,
   "metadata": {},
   "outputs": [
    {
     "name": "stdout",
     "output_type": "stream",
     "text": [
      "[10, 100, 11, 80, 12, 70, 20, 56, 22, 30, 58, 16, 70, 15]\n"
     ]
    }
   ],
   "source": [
    "#task-04 solved\n",
    "def funtion(lst):\n",
    "        for i in range(len(lst)-1):\n",
    "            for j in range(len(lst)-i-2):\n",
    "                if j%2==0:\n",
    "                    if lst[j]>lst[j+2]:\n",
    "                        temp = lst[j]\n",
    "                        lst[j]  = lst[j+2]\n",
    "                        lst[j+2] = temp\n",
    "                else:\n",
    "                    if lst[j]<lst[j+2]:\n",
    "                        temp = lst[j]\n",
    "                        lst[j] = lst[j+2]\n",
    "                        lst[j+2] = temp\n",
    "lst = [10,30,20,70,11,15,22,16,58,100,12,56,70,80]\n",
    "funtion(lst)\n",
    "print(lst)"
   ]
  },
  {
   "cell_type": "code",
   "execution_count": 29,
   "metadata": {},
   "outputs": [
    {
     "name": "stdout",
     "output_type": "stream",
     "text": [
      "Alan\n",
      "Turing\n",
      "Elon\n",
      "Musk\n"
     ]
    }
   ],
   "source": [
    "#task-05\n",
    "course=input('Please enter your course name: ')\n",
    "lst = [ [\"Alan\", 95, 87, 91], [\"Turing\", 92, 90, 83], [\"Elon\", 87, 92, 80], [\"Musk\", 85, 94, 90] ]\n",
    "def sorting(lst,course):\n",
    "    stu_name = []\n",
    "    marks =[]\n",
    "    if (course == \"CSE110\"):\n",
    "        for i in range(len(lst)):\n",
    "            stu_name.append(lst[i][0])\n",
    "            marks.append(lst[i][1])\n",
    "    if (course == \"PHY111\"):\n",
    "        for i in range(len(lst)):\n",
    "            stu_name.append(lst[i][0])\n",
    "            marks.append(lst[i][2])\n",
    "    if (course == \"MAT110\"):\n",
    "        for i in range(len(lst)):\n",
    "            stu_name.append(lst[i][0])\n",
    "            marks.append(lst[i][3])\n",
    "    for i in range(len(marks)):\n",
    "        for j in range(len(marks)-i-1):\n",
    "            if marks[j] < marks[j+1]:\n",
    "                marks[j],marks[j+1] = marks[j+1],marks[j]\n",
    "                stu_name[j],stu_name[j+1] = stu_name[j+1],stu_name[j]\n",
    "    for j in stu_name:\n",
    "        print(j)\n",
    "sorting(lst,course)"
   ]
  },
  {
   "cell_type": "code",
   "execution_count": 34,
   "metadata": {},
   "outputs": [
    {
     "name": "stdout",
     "output_type": "stream",
     "text": [
      "[10, 20, 11, 22, 58, 12, 70]\n"
     ]
    }
   ],
   "source": [
    "lst = [10,30,20,70,11,15,22,16,58,100,12,56,70,80]\n",
    "lst1 = []\n",
    "for i in range(len(lst)):\n",
    "    if i%2==0:\n",
    "      lst1.append(lst[i])\n",
    "print(lst1)"
   ]
  },
  {
   "cell_type": "code",
   "execution_count": 7,
   "metadata": {},
   "outputs": [
    {
     "ename": "TypeError",
     "evalue": "'int' object is not subscriptable",
     "output_type": "error",
     "traceback": [
      "\u001b[0;31m---------------------------------------------------------------------------\u001b[0m",
      "\u001b[0;31mTypeError\u001b[0m                                 Traceback (most recent call last)",
      "\u001b[1;32m/Users/mirzashafi/VS-code/lab-07.ipynb Cell 7\u001b[0m in \u001b[0;36m<cell line: 15>\u001b[0;34m()\u001b[0m\n\u001b[1;32m     <a href='vscode-notebook-cell:/Users/mirzashafi/VS-code/lab-07.ipynb#W6sZmlsZQ%3D%3D?line=12'>13</a>\u001b[0m course_name \u001b[39m=\u001b[39m \u001b[39minput\u001b[39m()\n\u001b[1;32m     <a href='vscode-notebook-cell:/Users/mirzashafi/VS-code/lab-07.ipynb#W6sZmlsZQ%3D%3D?line=13'>14</a>\u001b[0m lst \u001b[39m=\u001b[39m [ [\u001b[39m\"\u001b[39m\u001b[39mAlan\u001b[39m\u001b[39m\"\u001b[39m, \u001b[39m95\u001b[39m, \u001b[39m87\u001b[39m, \u001b[39m91\u001b[39m], [\u001b[39m\"\u001b[39m\u001b[39mTuring\u001b[39m\u001b[39m\"\u001b[39m, \u001b[39m92\u001b[39m, \u001b[39m90\u001b[39m, \u001b[39m83\u001b[39m], [\u001b[39m\"\u001b[39m\u001b[39mElon\u001b[39m\u001b[39m\"\u001b[39m, \u001b[39m87\u001b[39m, \u001b[39m92\u001b[39m, \u001b[39m80\u001b[39m], [\u001b[39m\"\u001b[39m\u001b[39mMusk\u001b[39m\u001b[39m\"\u001b[39m, \u001b[39m85\u001b[39m, \u001b[39m94\u001b[39m, \u001b[39m90\u001b[39m] ]\n\u001b[0;32m---> <a href='vscode-notebook-cell:/Users/mirzashafi/VS-code/lab-07.ipynb#W6sZmlsZQ%3D%3D?line=14'>15</a>\u001b[0m funtion(lst,course_name)\n\u001b[1;32m     <a href='vscode-notebook-cell:/Users/mirzashafi/VS-code/lab-07.ipynb#W6sZmlsZQ%3D%3D?line=15'>16</a>\u001b[0m \u001b[39mprint\u001b[39m(lst)\n",
      "\u001b[1;32m/Users/mirzashafi/VS-code/lab-07.ipynb Cell 7\u001b[0m in \u001b[0;36mfuntion\u001b[0;34m(lst, course_name)\u001b[0m\n\u001b[1;32m      <a href='vscode-notebook-cell:/Users/mirzashafi/VS-code/lab-07.ipynb#W6sZmlsZQ%3D%3D?line=5'>6</a>\u001b[0m temp \u001b[39m=\u001b[39m lst[j][\u001b[39m1\u001b[39m]\n\u001b[1;32m      <a href='vscode-notebook-cell:/Users/mirzashafi/VS-code/lab-07.ipynb#W6sZmlsZQ%3D%3D?line=6'>7</a>\u001b[0m lst \u001b[39m=\u001b[39m lst[j\u001b[39m+\u001b[39m\u001b[39m1\u001b[39m][\u001b[39m1\u001b[39m]\n\u001b[0;32m----> <a href='vscode-notebook-cell:/Users/mirzashafi/VS-code/lab-07.ipynb#W6sZmlsZQ%3D%3D?line=7'>8</a>\u001b[0m lst[j\u001b[39m+\u001b[39;49m\u001b[39m1\u001b[39;49m][\u001b[39m1\u001b[39m] \u001b[39m=\u001b[39m temp\n",
      "\u001b[0;31mTypeError\u001b[0m: 'int' object is not subscriptable"
     ]
    }
   ],
   "source": [
    "def funtion(lst,course_name):\n",
    "    if course_name == 'CSE110':\n",
    "        for i in range(len(lst)):\n",
    "            for j in range(len(lst)):\n",
    "                if lst[j][1]>lst[j+1][1]:\n",
    "                    temp = lst[j][1]\n",
    "                    lst = lst[j+1][1]\n",
    "                    lst[j+1][1] = temp        \n",
    "\n",
    "\n",
    "\n",
    "\n",
    "course_name = input()\n",
    "lst = [ [\"Alan\", 95, 87, 91], [\"Turing\", 92, 90, 83], [\"Elon\", 87, 92, 80], [\"Musk\", 85, 94, 90] ]\n",
    "funtion(lst,course_name)\n",
    "print(lst)"
   ]
  },
  {
   "cell_type": "code",
   "execution_count": 50,
   "metadata": {},
   "outputs": [
    {
     "ename": "IndexError",
     "evalue": "list index out of range",
     "output_type": "error",
     "traceback": [
      "\u001b[0;31m---------------------------------------------------------------------------\u001b[0m",
      "\u001b[0;31mIndexError\u001b[0m                                Traceback (most recent call last)",
      "\u001b[1;32m/Users/mirzashafi/VS-code/lab-07.ipynb Cell 8\u001b[0m in \u001b[0;36m<cell line: 3>\u001b[0;34m()\u001b[0m\n\u001b[1;32m      <a href='vscode-notebook-cell:/Users/mirzashafi/VS-code/lab-07.ipynb#X11sZmlsZQ%3D%3D?line=7'>8</a>\u001b[0m         lst[i][\u001b[39m1\u001b[39m]  \u001b[39m=\u001b[39m lst[i\u001b[39m+\u001b[39m\u001b[39m1\u001b[39m][\u001b[39m1\u001b[39m]\n\u001b[1;32m      <a href='vscode-notebook-cell:/Users/mirzashafi/VS-code/lab-07.ipynb#X11sZmlsZQ%3D%3D?line=8'>9</a>\u001b[0m         lst[i\u001b[39m+\u001b[39m\u001b[39m1\u001b[39m][\u001b[39m1\u001b[39m] \u001b[39m=\u001b[39m temp\n\u001b[0;32m---> <a href='vscode-notebook-cell:/Users/mirzashafi/VS-code/lab-07.ipynb#X11sZmlsZQ%3D%3D?line=9'>10</a>\u001b[0m funtion(lst)\n\u001b[1;32m     <a href='vscode-notebook-cell:/Users/mirzashafi/VS-code/lab-07.ipynb#X11sZmlsZQ%3D%3D?line=10'>11</a>\u001b[0m \u001b[39mprint\u001b[39m(lst)\n",
      "\u001b[1;32m/Users/mirzashafi/VS-code/lab-07.ipynb Cell 8\u001b[0m in \u001b[0;36mfuntion\u001b[0;34m(lst)\u001b[0m\n\u001b[1;32m      <a href='vscode-notebook-cell:/Users/mirzashafi/VS-code/lab-07.ipynb#X11sZmlsZQ%3D%3D?line=3'>4</a>\u001b[0m \u001b[39mdef\u001b[39;00m \u001b[39mfuntion\u001b[39m(lst):\n\u001b[1;32m      <a href='vscode-notebook-cell:/Users/mirzashafi/VS-code/lab-07.ipynb#X11sZmlsZQ%3D%3D?line=4'>5</a>\u001b[0m     \u001b[39mfor\u001b[39;00m i \u001b[39min\u001b[39;00m \u001b[39mrange\u001b[39m(\u001b[39mlen\u001b[39m(lst)):\n\u001b[0;32m----> <a href='vscode-notebook-cell:/Users/mirzashafi/VS-code/lab-07.ipynb#X11sZmlsZQ%3D%3D?line=5'>6</a>\u001b[0m      \u001b[39mif\u001b[39;00m lst[i][\u001b[39m1\u001b[39m]\u001b[39m>\u001b[39mlst[i\u001b[39m+\u001b[39;49m\u001b[39m1\u001b[39;49m][\u001b[39m1\u001b[39m]:\n\u001b[1;32m      <a href='vscode-notebook-cell:/Users/mirzashafi/VS-code/lab-07.ipynb#X11sZmlsZQ%3D%3D?line=6'>7</a>\u001b[0m         temp \u001b[39m=\u001b[39m lst[i][\u001b[39m1\u001b[39m]\n\u001b[1;32m      <a href='vscode-notebook-cell:/Users/mirzashafi/VS-code/lab-07.ipynb#X11sZmlsZQ%3D%3D?line=7'>8</a>\u001b[0m         lst[i][\u001b[39m1\u001b[39m]  \u001b[39m=\u001b[39m lst[i\u001b[39m+\u001b[39m\u001b[39m1\u001b[39m][\u001b[39m1\u001b[39m]\n",
      "\u001b[0;31mIndexError\u001b[0m: list index out of range"
     ]
    }
   ],
   "source": [
    "lst = [ [\"Alan\", 95, 87, 91], [\"Turing\", 92, 90, 83], [\"Elon\", 87, 92, 80], [\"Musk\", 85, 94, 90] ]\n",
    "course_name = input()\n",
    "if 'CSE110' in course_name:\n",
    "    def funtion(lst):\n",
    "        for i in range(len(lst)):\n",
    "         if lst[i][1]>lst[i+1][1]:\n",
    "            temp = lst[i][1]\n",
    "            lst[i][1]  = lst[i+1][1]\n",
    "            lst[i+1][1] = temp\n",
    "    funtion(lst)\n",
    "    print(lst)"
   ]
  },
  {
   "cell_type": "code",
   "execution_count": 6,
   "metadata": {},
   "outputs": [
    {
     "name": "stdout",
     "output_type": "stream",
     "text": [
      "95\n",
      "92\n",
      "87\n",
      "85\n"
     ]
    }
   ],
   "source": [
    "#\n",
    "lst = [ [\"Alan\", 95, 87, 91], [\"Turing\", 92, 90, 83], [\"Elon\", 87, 92, 80], [\"Musk\", 85, 94, 90] ]\n",
    "n =  input()\n",
    "if \"CSE110\" == n:\n",
    "    for i in range(len(lst)):\n",
    "        print(lst[i][1])"
   ]
  },
  {
   "cell_type": "code",
   "execution_count": 36,
   "metadata": {},
   "outputs": [
    {
     "name": "stdout",
     "output_type": "stream",
     "text": [
      "4\n"
     ]
    }
   ],
   "source": [
    "#task-06\n",
    "def count_1(mylist, b):\n",
    "    count_2 = 0\n",
    "    for i,j in zip(lst,b):\n",
    "        if i != j:\n",
    "            count_2 += 1\n",
    "    return count_2\n",
    "lst = [4,2,3,1,6,5]\n",
    "b = sorted(lst)\n",
    "print(count_1(lst,b))\n",
    "#The zip() function returns a zip object, \n",
    "# which is an iterator of tuples where the first item in each passed iterator is paired together, \n",
    "# and then the second item in each passed iterator are paired together etc.\n",
    "\n"
   ]
  },
  {
   "cell_type": "code",
   "execution_count": 31,
   "metadata": {},
   "outputs": [
    {
     "name": "stdout",
     "output_type": "stream",
     "text": [
      "4\n"
     ]
    }
   ],
   "source": [
    "def count_1(mylist, b):\n",
    "    count_2 = 0\n",
    "    for i,j in zip(lst,b):\n",
    "        if i != j:\n",
    "            count_2 += 1\n",
    "    print(count_2)\n",
    "lst = [4,2,3,1,6,5]\n",
    "b = sorted(lst)\n",
    "count_1(lst,b)"
   ]
  },
  {
   "cell_type": "code",
   "execution_count": 29,
   "metadata": {},
   "outputs": [
    {
     "ename": "ValueError",
     "evalue": "invalid literal for int() with base 10: '[1, 2, 1, 4]'",
     "output_type": "error",
     "traceback": [
      "\u001b[0;31m---------------------------------------------------------------------------\u001b[0m",
      "\u001b[0;31mValueError\u001b[0m                                Traceback (most recent call last)",
      "\u001b[1;32m/Users/mirzashafi/VS-code/lab-07.ipynb Cell 12\u001b[0m in \u001b[0;36m<cell line: 2>\u001b[0;34m()\u001b[0m\n\u001b[1;32m      <a href='vscode-notebook-cell:/Users/mirzashafi/VS-code/lab-07.ipynb#X14sZmlsZQ%3D%3D?line=0'>1</a>\u001b[0m \u001b[39m#task-07\u001b[39;00m\n\u001b[0;32m----> <a href='vscode-notebook-cell:/Users/mirzashafi/VS-code/lab-07.ipynb#X14sZmlsZQ%3D%3D?line=1'>2</a>\u001b[0m lst1 \u001b[39m=\u001b[39m \u001b[39mint\u001b[39;49m(\u001b[39minput\u001b[39;49m())\u001b[39m.\u001b[39mlst1[\u001b[39m2\u001b[39m:\u001b[39m-\u001b[39m\u001b[39m2\u001b[39m]\u001b[39m.\u001b[39msplit(\u001b[39m'\u001b[39m\u001b[39m, \u001b[39m\u001b[39m'\u001b[39m)\n\u001b[1;32m      <a href='vscode-notebook-cell:/Users/mirzashafi/VS-code/lab-07.ipynb#X14sZmlsZQ%3D%3D?line=2'>3</a>\u001b[0m \u001b[39mprint\u001b[39m(lst1)\n",
      "\u001b[0;31mValueError\u001b[0m: invalid literal for int() with base 10: '[1, 2, 1, 4]'"
     ]
    }
   ],
   "source": [
    "#task-07\n",
    "lst1 = int(input()).lst1[2:-2].split(', ')\n",
    "print(lst1)"
   ]
  },
  {
   "cell_type": "code",
   "execution_count": 2,
   "metadata": {},
   "outputs": [
    {
     "name": "stdout",
     "output_type": "stream",
     "text": [
      "[10, 20, 24, 25, 26, 35, 70]\n"
     ]
    }
   ],
   "source": [
    "#\n",
    "lst1 = input()\n",
    "lst1 = lst1[1:-1]\n",
    "lst1 = lst1.split(',')\n",
    "lst1 = list(map(int, lst1))\n",
    "print(lst1)"
   ]
  },
  {
   "cell_type": "code",
   "execution_count": 21,
   "metadata": {},
   "outputs": [
    {
     "name": "stdout",
     "output_type": "stream",
     "text": [
      "[1, 2, 3, 3, 3, 4, 4, 4, 6, 7]\n"
     ]
    }
   ],
   "source": [
    "#task-07\n",
    "lst1 = input()\n",
    "lst1 = lst1[1:-1]\n",
    "lst1 = lst1.split(',')\n",
    "lst1 = list(map(int, lst1))\n",
    "lst2 = input()\n",
    "lst2 = lst2[1:-1]\n",
    "lst2 = lst2.split(',')\n",
    "lst2 = list(map(int, lst2))\n",
    "lst = lst1+lst2\n",
    "#lst.sort()\n",
    "def funtion(lst):\n",
    "    for i in range(len(lst)-1):\n",
    "        for j in range(len(lst)-i-1):\n",
    "            if lst[j]>lst[j+1]:\n",
    "                temp = lst[j]\n",
    "                lst[j] = lst[j+1]\n",
    "                lst[j+1] = temp \n",
    "funtion(lst)\n",
    "print(lst)\n"
   ]
  },
  {
   "cell_type": "code",
   "execution_count": 42,
   "metadata": {},
   "outputs": [
    {
     "name": "stdout",
     "output_type": "stream",
     "text": [
      "Sorted List=  [1, 3, 3, 4, 4, 5, 5, 6, 6, 7, 43]\n",
      "Median= 5\n"
     ]
    }
   ],
   "source": [
    "#task-07 another solve\n",
    "lst1 = [int(i) for i in input()[1:-1].split(',')]\n",
    "lst2 = [int(i) for i in input()[1:-1].split(',')]\n",
    "lst = lst1+lst2\n",
    "for i in range(len(lst)):\n",
    "        for j in range(len(lst)-i-1):\n",
    "            if lst[j] > lst[j+1]:\n",
    "                    lst[j],lst[j+1] = lst[j+1],lst[j]\n",
    "\n",
    "print('Sorted List= ',lst)\n",
    "a=len(lst)//2\n",
    "\n",
    "if len(lst)%2==0:\n",
    "    print('Median=',(lst[a]+lst[a-1])/2)\n",
    "else:\n",
    "    print('Median=',lst[a])"
   ]
  },
  {
   "cell_type": "code",
   "execution_count": 44,
   "metadata": {},
   "outputs": [
    {
     "name": "stdout",
     "output_type": "stream",
     "text": [
      "Sorted List =  [1, 2, 2, 2, 2, 5, 5, 5]\n",
      "Median =  2.0\n"
     ]
    }
   ],
   "source": [
    "#task-07\n",
    "lst1 = [int(i) for i in input()[1:-1].split(',')]\n",
    "lst2 = [int(i) for i in input()[1:-1].split(',')]\n",
    "lst = lst1+lst2\n",
    "def funtion(lst):\n",
    "    for i in range(len(lst)-1):\n",
    "        for j in range(len(lst)-i-1):\n",
    "            if lst[j]>lst[j+1]:\n",
    "                temp = lst[j]\n",
    "                lst[j] = lst[j+1]\n",
    "                lst[j+1] = temp\n",
    "funtion(lst)\n",
    "print('Sorted List = ', lst)\n",
    "a  = len(lst)//2\n",
    "if len(lst)%2==0:\n",
    "    print('Median = ',(lst[a]+lst[a-1])/2)\n",
    "else:\n",
    "    print('Median = ', a)"
   ]
  },
  {
   "cell_type": "code",
   "execution_count": 47,
   "metadata": {},
   "outputs": [
    {
     "name": "stdout",
     "output_type": "stream",
     "text": [
      "\n",
      "Two pairs which have the smallest sum = 4 and -4\n"
     ]
    }
   ],
   "source": [
    "#task-08\n",
    "list_one = [int(i) for i in input()[1:-1].split(',')]\n",
    "def funtion(list_one):\n",
    "    for i in range(len(list_one)-1):\n",
    "        for j in range(len(list_one)-i-1):\n",
    "            if list_one[j]>list_one[j+1]:\n",
    "                temp = list_one[j]\n",
    "                list_one[j] = list_one[j+1]\n",
    "                list_one[j+1] = temp\n",
    "funtion(list_one)\n",
    "count=0\n",
    "count1=len(list_one)-1\n",
    "a=count\n",
    "b=count1\n",
    "closer=list_one[count]+list_one[count1]\n",
    "\n",
    "while count<count1:\n",
    "    summ=list_one[count]+list_one[count1]\n",
    "    if abs(summ)<abs(closer):\n",
    "        closer=summ\n",
    "        a=count\n",
    "        b=count1\n",
    "    if summ<0:\n",
    "        count+=1\n",
    "    elif summ>0:\n",
    "        count1-=1\n",
    "    else:\n",
    "        break\n",
    "print()\n",
    "print(\"Two pairs which have the smallest sum = {0} and {1}\".format(list_one[b],list_one[a]))"
   ]
  },
  {
   "cell_type": "code",
   "execution_count": 37,
   "metadata": {},
   "outputs": [
    {
     "name": "stdout",
     "output_type": "stream",
     "text": [
      "Minimum distance =  5.0\n",
      "Here the closest point is (-3, -4) which has a distance of 5.0 from the origin.\n"
     ]
    }
   ],
   "source": [
    "#task-09\n",
    "import math\n",
    "lst = [(5,3), (2,9), (-2,7), (-3,-4), (0,6), (7,-2)]\n",
    "lst1 = []\n",
    "for i in range(len(lst)):\n",
    "    x = lst[i][0]\n",
    "    y = lst[i][1]\n",
    "    dis = math.sqrt(((x**2)+(y**2)))\n",
    "    lst1.append(dis)\n",
    "min_index = 0\n",
    "min = lst1[min_index]\n",
    "for i in range(1,len(lst1)):\n",
    "    if min>lst1[i]:\n",
    "        min = lst1[i]\n",
    "        min_index = i\n",
    "print('Minimum distance = ', min)\n",
    "print(f'Here the closest point is {lst[min_index]} which has a distance of {min} from the origin.')"
   ]
  }
 ],
 "metadata": {
  "kernelspec": {
   "display_name": "Python 3.10.4 64-bit",
   "language": "python",
   "name": "python3"
  },
  "language_info": {
   "codemirror_mode": {
    "name": "ipython",
    "version": 3
   },
   "file_extension": ".py",
   "mimetype": "text/x-python",
   "name": "python",
   "nbconvert_exporter": "python",
   "pygments_lexer": "ipython3",
   "version": "3.10.4"
  },
  "orig_nbformat": 4,
  "vscode": {
   "interpreter": {
    "hash": "aee8b7b246df8f9039afb4144a1f6fd8d2ca17a180786b69acc140d282b71a49"
   }
  }
 },
 "nbformat": 4,
 "nbformat_minor": 2
}
