{
 "cells": [
  {
   "cell_type": "code",
   "execution_count": 10,
   "id": "819df416",
   "metadata": {},
   "outputs": [
    {
     "name": "stdout",
     "output_type": "stream",
     "text": [
      "please enter your number: 11\n",
      "natural number\n"
     ]
    }
   ],
   "source": [
    "num = int(input(\"please enter your number: \"))\n",
    "count = 0\n",
    "odd = 0\n",
    "even = 0\n",
    "for i in range(1,num):\n",
    "    if num%i==0:\n",
    "        if i%2==0:\n",
    "            even+=count\n",
    "        else:\n",
    "            odd+=count\n",
    "    count+=1\n",
    "if even>odd:\n",
    "    print(\"even number ok\")\n",
    "elif even<odd:\n",
    "    print(\"odd number ok\")\n",
    "elif even == odd:\n",
    "    print(\"natural number\")"
   ]
  },
  {
   "cell_type": "code",
   "execution_count": null,
   "id": "e0ced5d1",
   "metadata": {},
   "outputs": [],
   "source": []
  }
 ],
 "metadata": {
  "kernelspec": {
   "display_name": "Python 3 (ipykernel)",
   "language": "python",
   "name": "python3"
  },
  "language_info": {
   "codemirror_mode": {
    "name": "ipython",
    "version": 3
   },
   "file_extension": ".py",
   "mimetype": "text/x-python",
   "name": "python",
   "nbconvert_exporter": "python",
   "pygments_lexer": "ipython3",
   "version": "3.9.12"
  }
 },
 "nbformat": 4,
 "nbformat_minor": 5
}
