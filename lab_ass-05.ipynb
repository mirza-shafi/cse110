{
 "cells": [
  {
   "cell_type": "code",
   "execution_count": 1,
   "metadata": {},
   "outputs": [
    {
     "name": "stdout",
     "output_type": "stream",
     "text": [
      "400\n"
     ]
    }
   ],
   "source": [
    "#task-01\n",
    "tup = (\"The Institute\", (\"Best Mystery & Thriller\", \"The Silent Patient\", 68821), 75717, [1, 2, 3, 400, 5, 6, 7], (\"Best Fiction\", \"The Testaments\", 98291))\n",
    "print(tup[3][3])"
   ]
  },
  {
   "cell_type": "code",
   "execution_count": 1,
   "metadata": {},
   "outputs": [
    {
     "name": "stdout",
     "output_type": "stream",
     "text": [
      "(24, 25, 26)\n"
     ]
    }
   ],
   "source": [
    "#task-02\n",
    "x = (10, 20, 24, 25, 26, 35, 70)\n",
    "print(x[2:-2])"
   ]
  },
  {
   "cell_type": "code",
   "execution_count": 13,
   "metadata": {},
   "outputs": [
    {
     "name": "stdout",
     "output_type": "stream",
     "text": [
      "('Best Mystery & Thriller', 'The Silent Patient', 68, 821)\n",
      "('Best Horror', 'The Institute', 75, 717)\n",
      "('Best History & Biography', 'The five', 31, 783)\n",
      "('Best Fiction', 'The Testaments', 98, 291)\n",
      "Size of the tuple :  4\n"
     ]
    }
   ],
   "source": [
    "#task-03\n",
    "book_info = (\n",
    "(\"Best Mystery & Thriller\",\"The Silent Patient\",68,821), (\"Best Horror\",\"The Institute\",75,717),\n",
    "(\"Best History & Biography\",\"The five\",31,783 ),\n",
    "(\"Best Fiction\",\"The Testaments\",98,291)\n",
    ")\n",
    "count = 0\n",
    "for i in book_info:\n",
    "    count+=1\n",
    "    print(i)\n",
    "print(\"Size of the tuple : \",count)\n",
    "\n"
   ]
  },
  {
   "cell_type": "code",
   "execution_count": 1,
   "metadata": {},
   "outputs": [
    {
     "name": "stdout",
     "output_type": "stream",
     "text": [
      "4\n",
      "('Best Mystery & Thriller', 'The Silent Patient', 68, 821)\n",
      "('Best Horror', 'The Institute', 75, 717)\n",
      "('Best History & Biography', 'The five', 31, 783)\n",
      "('Best Fiction', 'The Testaments', 98, 291)\n"
     ]
    }
   ],
   "source": [
    "#another 3\n",
    "book_info = (\n",
    "(\"Best Mystery & Thriller\",\"The Silent Patient\",68,821), (\"Best Horror\",\"The Institute\",75,717),\n",
    "(\"Best History & Biography\",\"The five\",31,783 ),\n",
    "(\"Best Fiction\",\"The Testaments\",98,291)\n",
    ")\n",
    "print(len(book_info))\n",
    "for x in book_info:\n",
    "    print(x)"
   ]
  },
  {
   "cell_type": "code",
   "execution_count": 2,
   "metadata": {},
   "outputs": [
    {
     "name": "stdout",
     "output_type": "stream",
     "text": [
      "The Silent Patient won the Best Mystery & Thriller catagory with 68821 votes.\n",
      "The Institute won the Best Horror catagory with 75717 votes.\n",
      "The five won the Best History & Biography catagory with 31783 votes.\n",
      "The Testaments won the Best Fiction catagory with 98291 votes.\n"
     ]
    }
   ],
   "source": [
    "#task-04\n",
    "book_info = (\n",
    "(\"Best Mystery & Thriller\",\"The Silent Patient\",68821), (\"Best Horror\",\"The Institute\",75717),\n",
    "(\"Best History & Biography\",\"The five\",31783 ),\n",
    "(\"Best Fiction\",\"The Testaments\",98291)\n",
    ")\n",
    "for i in range(len(book_info)):\n",
    "    #print(\"{} won the {} catagory with {} votes.\".format(book_info[i][1],book_info[i][0],book_info[i][2]))\n",
    "\n",
    "    print(f\"{book_info[i][1]} won the {book_info[i][0]} catagory with {book_info[i][2]} votes.\")"
   ]
  },
  {
   "cell_type": "code",
   "execution_count": 2,
   "metadata": {},
   "outputs": [
    {
     "name": "stdout",
     "output_type": "stream",
     "text": [
      "8 appears 4 times in the tuple.\n"
     ]
    }
   ],
   "source": [
    "\n",
    "#task-05\n",
    "gtuple =  (10, 8, 5, 2, 10, 15, 10, 8, 5, 8, 8, 2)\n",
    "x = int(input())\n",
    "count = 0\n",
    "for i in gtuple:\n",
    "    if i==x:\n",
    "        count+=1\n",
    "print(x, 'appears',count,'times in the tuple.')"
   ]
  },
  {
   "cell_type": "code",
   "execution_count": 3,
   "metadata": {},
   "outputs": [
    {
     "name": "stdout",
     "output_type": "stream",
     "text": [
      "8\n",
      "('h', 'g', 'f', 'e', 'd', 'c', 'b', 'a')\n"
     ]
    }
   ],
   "source": [
    "#task-06\n",
    "tup = ('a', 'b', 'c', 'd', 'e', 'f', 'g', 'h')\n",
    "lst = []\n",
    "for i in tup:\n",
    "    lst.append(i)\n",
    "n = len(lst)\n",
    "print(n)\n",
    "k = lst[-1:-n-1:-1]\n",
    "print(tuple(k))\n",
    "\n",
    "\n",
    "#problem how to convert tuple."
   ]
  },
  {
   "cell_type": "code",
   "execution_count": 9,
   "metadata": {},
   "outputs": [
    {
     "name": "stdout",
     "output_type": "stream",
     "text": [
      "('h', 'g', 'f', 'e', 'd', 'c', 'b', 'a')\n"
     ]
    }
   ],
   "source": [
    "#anotehr solve\n",
    "tup = ('a', 'b', 'c', 'd', 'e', 'f', 'g', 'h')\n",
    "l = []\n",
    "for i in range(len(tup)-1,-1,-1):\n",
    "    l.append(tup[i])\n",
    "print(tuple(l))\n",
    "\n"
   ]
  },
  {
   "cell_type": "code",
   "execution_count": 25,
   "metadata": {},
   "outputs": [
    {
     "name": "stdout",
     "output_type": "stream",
     "text": [
      "{'Harry': 15, 'Draco': 8, 'Nevil': 19, 'Ginie': 18, 'Luna': 14}\n"
     ]
    }
   ],
   "source": [
    "#task-07\n",
    "tup1 = {'Harry':15, 'Draco':8, 'Nevil':19}\n",
    "tup2 = {'Ginie':18, 'Luna': 14}\n",
    "tup3 = {}\n",
    "tup3.update(tup1)\n",
    "tup3.update(tup2)\n",
    "print(tup3)"
   ]
  },
  {
   "cell_type": "code",
   "execution_count": null,
   "metadata": {},
   "outputs": [],
   "source": [
    "#task-08\n",
    "d = {'Jon': 100, 'Dan':200, 'Rob':300}\n",
    "sum = 0\n",
    "count = 0\n",
    "for k,v in d.items():\n",
    "    sum+=v\n",
    "    count+=1\n",
    "print(sum//count)"
   ]
  },
  {
   "cell_type": "code",
   "execution_count": 1,
   "metadata": {},
   "outputs": [
    {
     "name": "stdout",
     "output_type": "stream",
     "text": [
      "{'Jon': 100, 'Dan': 200, 'Rob': 300}\n",
      "200.0\n"
     ]
    }
   ],
   "source": [
    "#task-08\n",
    "#x = input()\n",
    "#x=x[1:-1]\n",
    "#x=x.split(', ')\n",
    "\n",
    "x = [i for i in input()[1:-1].split(', ')]\n",
    "dic={}\n",
    "\n",
    "for i in x:\n",
    "    k,v=i.split(':')\n",
    "    dic[k[1:-1]]=int(v)\n",
    "\n",
    "print(dic)\n",
    "\n",
    "#dic = {'Jon': 100, 'Dan':200, 'Rob':300}\n",
    "sum = 0\n",
    "count = 0\n",
    "for i in dic:\n",
    "    x = dic[i]\n",
    "    sum+=x\n",
    "    count+=1\n",
    "print(sum/count)\n",
    "#solved"
   ]
  },
  {
   "cell_type": "code",
   "execution_count": null,
   "metadata": {},
   "outputs": [],
   "source": [
    "#another solve\n",
    "l = input()[1:-1].split(', ')\n",
    "dic = {}\n",
    "for i in l:\n",
    "    k,v = i.split(':')\n",
    "    dic[k[1:-1]] = int(v)\n",
    "print(dic)\n",
    "sum = 0\n",
    "count = 0\n",
    "for key,value in dic.items():\n",
    "    sum+=value\n",
    "    count+=1\n",
    "print('Average is ', sum/count)"
   ]
  },
  {
   "cell_type": "code",
   "execution_count": 2,
   "metadata": {},
   "outputs": [
    {
     "name": "stdout",
     "output_type": "stream",
     "text": [
      "{'Cierra Vega': 175, 'Alden Cantrell': 200, 'Pierre Cox': 190}\n"
     ]
    }
   ],
   "source": [
    "#another solve\n",
    "e = {'Cierra Vega': 175, 'Alden Cantrell': 200, 'Kierra Gentry': 165, 'Pierre Cox': 190}\n",
    "u = int(input())\n",
    "n = {}\n",
    "for k,v in e.items():\n",
    "    if v>u:\n",
    "        n[k] = v\n",
    "print(n)"
   ]
  },
  {
   "cell_type": "code",
   "execution_count": 4,
   "metadata": {},
   "outputs": [
    {
     "name": "stdout",
     "output_type": "stream",
     "text": [
      "{'Cierra Vega': 175, 'Alden Cantrell': 200, 'Pierre Cox': 190}\n"
     ]
    }
   ],
   "source": [
    "#task-09\n",
    "dic = {'Cierra Vega': 175, 'Alden Cantrell': 200, 'Pierre Cox': 190}\n",
    "dict = {}\n",
    "#k = []\n",
    "num = int(input())\n",
    "for key,value in dic.items():\n",
    "    if value>num:\n",
    "        k = key,value\n",
    "        dict.update({key:value})\n",
    "print(dict)\n",
    "        "
   ]
  },
  {
   "cell_type": "code",
   "execution_count": 2,
   "metadata": {},
   "outputs": [
    {
     "name": "stdout",
     "output_type": "stream",
     "text": [
      "{'Alden Cantrell': 200, 'Pierre Cox': 190}\n"
     ]
    }
   ],
   "source": [
    "#another solve\n",
    "dic = {'Cierra Vega': 175, 'Alden Cantrell': 200, 'Pierre Cox': 190}\n",
    "n = int(input())\n",
    "d = {}\n",
    "for key,value in dic.items():\n",
    "    if n<value:\n",
    "        d.update({key:value})\n",
    "print(d)"
   ]
  },
  {
   "cell_type": "code",
   "execution_count": 2,
   "metadata": {},
   "outputs": [
    {
     "name": "stdout",
     "output_type": "stream",
     "text": [
      "{'Alden Cantrell': 200, 'Pierre Cox': 190}\n"
     ]
    }
   ],
   "source": [
    "#another-09\n",
    "dic = {'Cierra Vega': 175, 'Alden Cantrell': 200, 'Pierre Cox': 190}\n",
    "dict = {}\n",
    "#k = []\n",
    "num = int(input())\n",
    "for key,value in dic.items():\n",
    "    if value>num:\n",
    "        dict[key]=value\n",
    "print(dict)"
   ]
  },
  {
   "cell_type": "code",
   "execution_count": 71,
   "metadata": {},
   "outputs": [
    {
     "name": "stdout",
     "output_type": "stream",
     "text": [
      "{'Cierra Vega': 175, 'Alden Cantrell': 200, 'Pierre Cox': 190}\n"
     ]
    }
   ],
   "source": [
    "#another two\n",
    "exam_marks = {'Cierra Vega': 175, 'Alden Cantrell': 200, 'Kierra Gentry': 165, 'Pierre Cox': 190}\n",
    "number=int(input(\"Enter a number:\"))\n",
    "dict_1={}\n",
    "for i in exam_marks.keys():\n",
    "    if exam_marks[i]>=number:\n",
    "        dict_1[i]=exam_marks[i]\n",
    "print(dict_1)    \n"
   ]
  },
  {
   "cell_type": "code",
   "execution_count": 4,
   "metadata": {},
   "outputs": [
    {
     "name": "stdout",
     "output_type": "stream",
     "text": [
      "The highest selling book genre is 'mystery' and the number of books sold are 15.\n"
     ]
    }
   ],
   "source": [
    "#task-10\n",
    "dic = {'sci fi': 12, 'mystery': 15, 'horror': 8, 'mythology': 10, 'young_adult': 4, 'adventure':14}\n",
    "max = 0\n",
    "#k = {}\n",
    "for i in dic:\n",
    "    x = dic[i]\n",
    "    if max<x:\n",
    "        max = x\n",
    "        k = i\n",
    "print(f\"The highest selling book genre is '{k}' and the number of books sold are {max}.\")"
   ]
  },
  {
   "cell_type": "code",
   "execution_count": 5,
   "metadata": {},
   "outputs": [
    {
     "name": "stdout",
     "output_type": "stream",
     "text": [
      "The highest selling book genre is 'mystery' and the number of books sold are 15.\n"
     ]
    }
   ],
   "source": [
    "#another solve task-10\n",
    "dic = {'sci fi': 12, 'mystery': 15, 'horror': 8, 'mythology': 10, 'young_adult': 4, 'adventure':14}\n",
    "max = 0\n",
    "#book = ()\n",
    "for key,value in dic.items():\n",
    "    if max<value:\n",
    "        max=value\n",
    "        book = key\n",
    "#print('The highest selling book genre is', book, 'and the number of books sold are ', max)\n",
    "print(f\"The highest selling book genre is '{book}' and the number of books sold are {max}.\")\n",
    "\n",
    "\n",
    "#solved"
   ]
  },
  {
   "cell_type": "code",
   "execution_count": 6,
   "metadata": {},
   "outputs": [
    {
     "name": "stdout",
     "output_type": "stream",
     "text": [
      "pythonprogrammingisfun\n",
      "{'p': 2, 'y': 1, 't': 1, 'h': 1, 'o': 2, 'n': 3, 'r': 2, 'g': 2, 'a': 1, 'm': 2, 'i': 2, 's': 1, 'f': 1, 'u': 1}\n"
     ]
    }
   ],
   "source": [
    "#task-11\n",
    "n  = input()[1:-1].lower().replace(' ','')\n",
    "print(n)\n",
    "dict =  {}\n",
    "for i in n:\n",
    "    dict[i]=0\n",
    "for i in n:\n",
    "    if i in n:\n",
    "        dict[i]+=1\n",
    "print(dict)"
   ]
  },
  {
   "cell_type": "code",
   "execution_count": 10,
   "metadata": {},
   "outputs": [
    {
     "name": "stdout",
     "output_type": "stream",
     "text": [
      "[1, 2, 3, '1', '2', 4, 5, 6, 7]\n",
      "9\n"
     ]
    }
   ],
   "source": [
    "#task-12\n",
    "dict_1 = {'A': [1, 2, 3], 'b': ['1', '2'], \"c\": [4, 5, 6, 7]}\n",
    "lst = []\n",
    "for key,value in dict_1.items():\n",
    "    lst+=value\n",
    "print(lst)\n",
    "count = 0\n",
    "for i in lst:\n",
    "    count+=1\n",
    "print(count)"
   ]
  },
  {
   "cell_type": "code",
   "execution_count": null,
   "metadata": {},
   "outputs": [],
   "source": [
    "#task-13\n",
    "lst  = [(\"a\", 1), (\"b\", 2), (\"a\", 3), (\"b\", 1), (\"a\", 2), (\"c\", 1)]"
   ]
  },
  {
   "cell_type": "code",
   "execution_count": 31,
   "metadata": {},
   "outputs": [
    {
     "name": "stdout",
     "output_type": "stream",
     "text": [
      "55.0\n",
      "114\n",
      "118.0\n",
      "-4\n",
      "-6.0\n",
      "-10\n",
      "-19.0\n",
      "9\n",
      "8.666666666666668\n",
      "17\n",
      "8\n",
      "a -> 17\n",
      "-86.0\n",
      "-168\n",
      "-179.0\n",
      "11\n",
      "10.0\n",
      "21\n",
      "12.0\n",
      "9\n",
      "10.333333333333334\n",
      "19\n",
      "10\n",
      "b -> 19\n",
      "1.0\n",
      "6\n",
      "-8.0\n",
      "14\n",
      "12.0\n",
      "26\n",
      "23.0\n",
      "3\n",
      "2.666666666666667\n",
      "5\n",
      "2\n",
      "c -> 5\n",
      "-85.0\n",
      "-166\n",
      "-174.0\n",
      "8\n",
      "7.333333333333334\n",
      "15\n",
      "22.0\n",
      "-7\n",
      "-7.0\n",
      "-14\n",
      "-7\n",
      "d -> -14\n",
      "49.0\n",
      "102\n",
      "88.0\n",
      "14\n",
      "12.0\n",
      "26\n",
      "23.0\n",
      "3\n",
      "2.666666666666667\n",
      "5\n",
      "2\n",
      "e -> 5\n"
     ]
    }
   ],
   "source": [
    "#task-14\n",
    "dict1 = {'a':59 , 'b':-82 , 'c':5 , 'd':-81 , 'e':53}\n",
    "for i in dict1: \n",
    "    j=0\n",
    "    k=22 \n",
    "    while j<5:\n",
    "      if j % 2 == 0:\n",
    "        k = dict1[i] + j - (8 + k % 6) / 3\n",
    "        dict1[i] = dict1[i]+ int(k)\n",
    "        print(k)\n",
    "        print(dict1[i])\n",
    "      else:\n",
    "        k = dict1[i] + j - (6 - k % 8) * 3\n",
    "        dict1[i] = dict1[i] - int(k)\n",
    "        print(k)\n",
    "        print(dict1[i])\n",
    "      j += 1\n",
    "    print(int(k))\n",
    "    print(i + \" -> \" + str(dict1[i]))"
   ]
  },
  {
   "cell_type": "code",
   "execution_count": 6,
   "metadata": {},
   "outputs": [
    {
     "name": "stdout",
     "output_type": "stream",
     "text": [
      "pythonprogrammingisfun\n",
      "{'p': 2, 'y': 1, 't': 1, 'h': 1, 'o': 2, 'n': 3, 'r': 2, 'g': 2, 'a': 1, 'm': 2, 'i': 2, 's': 1, 'f': 1, 'u': 1}\n"
     ]
    }
   ],
   "source": [
    "#11\n",
    "n  = input()\n",
    "n = n.lower()\n",
    "n = n.replace(' ','')\n",
    "n = n[1:-1]\n",
    "print(n)\n",
    "dict =  {}\n",
    "for i in n:\n",
    "    dict[i]=0\n",
    "for i in n:\n",
    "    if i in n:\n",
    "        dict[i]+=1\n",
    "print(dict)\n",
    "#i can't"
   ]
  },
  {
   "cell_type": "code",
   "execution_count": 9,
   "metadata": {},
   "outputs": [
    {
     "name": "stdout",
     "output_type": "stream",
     "text": [
      "{'a': [1, 3, 2], 'b': [2, 1], 'c': [1]}\n"
     ]
    }
   ],
   "source": [
    "#13\n",
    "list_1 = [(\"a\", 1), (\"b\", 2), (\"a\", 3), (\"b\", 1), (\"a\", 2), (\"c\", 1)]\n",
    "dictionary={}\n",
    "for k,v in list_1:\n",
    "    if k not in dictionary.keys():\n",
    "        dictionary[k]=[v]\n",
    "    else:\n",
    "        dictionary[k]+=[v]\n",
    "print(dictionary) "
   ]
  },
  {
   "cell_type": "code",
   "execution_count": 1,
   "metadata": {},
   "outputs": [
    {
     "name": "stdout",
     "output_type": "stream",
     "text": [
      "{'a': [1, 3, 2], 'b': [2, 1], 'c': [1]}\n"
     ]
    }
   ],
   "source": [
    "#task-13\n",
    "lis = [(\"a\", 1), (\"b\", 2), (\"a\", 3), (\"b\", 1), (\"a\", 2), (\"c\", 1)]\n",
    "dict = {}\n",
    "for key,value in lis:\n",
    "    if key not in dict.keys():\n",
    "        dict[key] = [value]\n",
    "    else:\n",
    "        dict[key]+=[value]\n",
    "print(dict) "
   ]
  },
  {
   "cell_type": "code",
   "execution_count": null,
   "metadata": {},
   "outputs": [],
   "source": []
  }
 ],
 "metadata": {
  "kernelspec": {
   "display_name": "Python 3.10.4 64-bit",
   "language": "python",
   "name": "python3"
  },
  "language_info": {
   "codemirror_mode": {
    "name": "ipython",
    "version": 3
   },
   "file_extension": ".py",
   "mimetype": "text/x-python",
   "name": "python",
   "nbconvert_exporter": "python",
   "pygments_lexer": "ipython3",
   "version": "3.10.4 (v3.10.4:9d38120e33, Mar 23 2022, 17:29:05) [Clang 13.0.0 (clang-1300.0.29.30)]"
  },
  "orig_nbformat": 4,
  "vscode": {
   "interpreter": {
    "hash": "7e1998ff7f8aa20ada591c520b972326324e5ea05489af9e422744c7c09f6dad"
   }
  }
 },
 "nbformat": 4,
 "nbformat_minor": 2
}
