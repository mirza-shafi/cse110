{
 "cells": [
  {
   "cell_type": "code",
   "execution_count": 1,
   "metadata": {},
   "outputs": [
    {
     "name": "stdout",
     "output_type": "stream",
     "text": [
      "hello\n"
     ]
    }
   ],
   "source": [
    "print(\"hello\")"
   ]
  },
  {
   "cell_type": "code",
   "execution_count": 9,
   "metadata": {},
   "outputs": [
    {
     "name": "stdout",
     "output_type": "stream",
     "text": [
      "messi, 10, fcb\n"
     ]
    }
   ],
   "source": [
    "tup = ('messi','10','fcb')\n",
    "count = 0\n",
    "while count<len(tup):\n",
    "    if count == len(tup)-1:\n",
    "        print(tup[count])\n",
    "    else:\n",
    "        print(tup[count],end = ', ')\n",
    "    count+=1"
   ]
  },
  {
   "cell_type": "code",
   "execution_count": 12,
   "metadata": {},
   "outputs": [
    {
     "name": "stdout",
     "output_type": "stream",
     "text": [
      "('messi', '10', ['argentina', 'fcb', 'all star'])\n"
     ]
    }
   ],
   "source": [
    "tup = ('messi','10',['argentina','fcb'])\n",
    "tup[2].append('all star')\n",
    "print(tup)"
   ]
  },
  {
   "cell_type": "code",
   "execution_count": 13,
   "metadata": {},
   "outputs": [
    {
     "name": "stdout",
     "output_type": "stream",
     "text": [
      "('messi', '10', ['argentina'])\n"
     ]
    }
   ],
   "source": [
    "tup = ('messi','10',['argentina','fcb'])\n",
    "tup[2].remove('fcb')\n",
    "print(tup)"
   ]
  },
  {
   "cell_type": "code",
   "execution_count": 23,
   "metadata": {},
   "outputs": [
    {
     "name": "stdout",
     "output_type": "stream",
     "text": [
      "('sadman sakib', 3, 'sadman sakib', 3, 'sadman sakib', 3)\n"
     ]
    }
   ],
   "source": [
    "tup = ('sadman sakib',3)\n",
    "print(tup*3)"
   ]
  },
  {
   "cell_type": "code",
   "execution_count": 10,
   "metadata": {},
   "outputs": [
    {
     "name": "stdout",
     "output_type": "stream",
     "text": [
      "(1, 2, 4, [3, 4, 5])\n"
     ]
    }
   ],
   "source": [
    "tup = 1,2,4,[3,4,5,]\n",
    "print(tup)"
   ]
  },
  {
   "cell_type": "code",
   "execution_count": 21,
   "metadata": {},
   "outputs": [
    {
     "name": "stdout",
     "output_type": "stream",
     "text": [
      "not found\n"
     ]
    }
   ],
   "source": [
    "dic = {'n':'3','m':'5'}\n",
    "print(dic.get('t','not found'))"
   ]
  },
  {
   "cell_type": "code",
   "execution_count": 27,
   "metadata": {},
   "outputs": [
    {
     "name": "stdout",
     "output_type": "stream",
     "text": [
      "{'n': '3', 'm': '5', 'k': 'bangladesh'}\n"
     ]
    }
   ],
   "source": [
    "dic = {'n':'3','m':'5'}\n",
    "dic['k'] = 'bangladesh'\n",
    "print(dic)"
   ]
  },
  {
   "cell_type": "code",
   "execution_count": 4,
   "metadata": {},
   "outputs": [
    {
     "name": "stdout",
     "output_type": "stream",
     "text": [
      "n  is  3\n",
      "m  is  5\n"
     ]
    }
   ],
   "source": [
    "dic = {'n':'3','m':'5'}\n",
    "for key,value in dic.items():\n",
    "    print(key ,' is ' ,value)"
   ]
  },
  {
   "cell_type": "code",
   "execution_count": 9,
   "metadata": {},
   "outputs": [
    {
     "name": "stdout",
     "output_type": "stream",
     "text": [
      "['3', '5']\n"
     ]
    }
   ],
   "source": [
    "dic = {'n':'3','M':'5'}\n",
    "print(sorted(dic.values()))"
   ]
  },
  {
   "cell_type": "code",
   "execution_count": 8,
   "metadata": {},
   "outputs": [
    {
     "name": "stdout",
     "output_type": "stream",
     "text": [
      "5\n"
     ]
    }
   ],
   "source": [
    "dic = {'n':'3','M':'5'}\n",
    "print(max(dic.values()))"
   ]
  },
  {
   "cell_type": "code",
   "execution_count": 10,
   "metadata": {},
   "outputs": [
    {
     "name": "stdout",
     "output_type": "stream",
     "text": [
      "(1, 3, 4)\n"
     ]
    }
   ],
   "source": [
    "tup = (1,3,4)\n",
    "print(tup)"
   ]
  },
  {
   "cell_type": "code",
   "execution_count": 13,
   "metadata": {},
   "outputs": [
    {
     "name": "stdout",
     "output_type": "stream",
     "text": [
      "messi\t10\tFCB\t"
     ]
    }
   ],
   "source": [
    "dic = ('messi','10','FCB')\n",
    "for i in dic:\n",
    "    print(i, end = '\\t')"
   ]
  },
  {
   "cell_type": "code",
   "execution_count": 17,
   "metadata": {},
   "outputs": [
    {
     "name": "stdout",
     "output_type": "stream",
     "text": [
      "messi, 10, FCB\n"
     ]
    }
   ],
   "source": [
    "dic = ('messi','10','FCB')\n",
    "count = 0\n",
    "while count<len(dic):\n",
    "    if count == len(dic)-1:\n",
    "        print(dic[count])\n",
    "    else:\n",
    "        print(dic[count], end = ', ')\n",
    "    count+=1"
   ]
  },
  {
   "cell_type": "code",
   "execution_count": 22,
   "metadata": {},
   "outputs": [
    {
     "name": "stdout",
     "output_type": "stream",
     "text": [
      "('messi', 10, ['Argenrina'])\n"
     ]
    }
   ],
   "source": [
    "player = ('messi',10,['Argenrina','FCB'])\n",
    "player[2].remove('FCB')\n",
    "print(player)"
   ]
  },
  {
   "cell_type": "code",
   "execution_count": 23,
   "metadata": {},
   "outputs": [
    {
     "ename": "NameError",
     "evalue": "name 'player' is not defined",
     "output_type": "error",
     "traceback": [
      "\u001b[0;31m---------------------------------------------------------------------------\u001b[0m",
      "\u001b[0;31mNameError\u001b[0m                                 Traceback (most recent call last)",
      "\u001b[1;32m/Users/mirzashafi/VS-code/week-7.ipynb Cell 16\u001b[0m in \u001b[0;36m<cell line: 3>\u001b[0;34m()\u001b[0m\n\u001b[1;32m      <a href='vscode-notebook-cell:/Users/mirzashafi/VS-code/week-7.ipynb#X25sZmlsZQ%3D%3D?line=0'>1</a>\u001b[0m player \u001b[39m=\u001b[39m (\u001b[39m'\u001b[39m\u001b[39mmessi\u001b[39m\u001b[39m'\u001b[39m,\u001b[39m10\u001b[39m,[\u001b[39m'\u001b[39m\u001b[39mArgenrina\u001b[39m\u001b[39m'\u001b[39m,\u001b[39m'\u001b[39m\u001b[39mFCB\u001b[39m\u001b[39m'\u001b[39m])\n\u001b[1;32m      <a href='vscode-notebook-cell:/Users/mirzashafi/VS-code/week-7.ipynb#X25sZmlsZQ%3D%3D?line=1'>2</a>\u001b[0m \u001b[39mdel\u001b[39;00m player\n\u001b[0;32m----> <a href='vscode-notebook-cell:/Users/mirzashafi/VS-code/week-7.ipynb#X25sZmlsZQ%3D%3D?line=2'>3</a>\u001b[0m \u001b[39mprint\u001b[39m(player)\n",
      "\u001b[0;31mNameError\u001b[0m: name 'player' is not defined"
     ]
    }
   ],
   "source": [
    "player = ('messi',10,['Argenrina','FCB'])\n",
    "del player\n",
    "print(player)\n"
   ]
  },
  {
   "cell_type": "code",
   "execution_count": 5,
   "metadata": {},
   "outputs": [
    {
     "data": {
      "text/plain": [
       "4"
      ]
     },
     "execution_count": 5,
     "metadata": {},
     "output_type": "execute_result"
    }
   ],
   "source": [
    "112%6"
   ]
  },
  {
   "cell_type": "code",
   "execution_count": 18,
   "metadata": {},
   "outputs": [
    {
     "name": "stdout",
     "output_type": "stream",
     "text": [
      "(12, 4, 4, [23, 3, 4])\n"
     ]
    }
   ],
   "source": [
    "tup = 12,4,4,[23,3,4]\n",
    "print(tup)"
   ]
  },
  {
   "cell_type": "code",
   "execution_count": 11,
   "metadata": {},
   "outputs": [
    {
     "name": "stdout",
     "output_type": "stream",
     "text": [
      "{'n': '3', 'M': '5'} \t\n",
      "{'n': '3', 'M': '5'} \t\n"
     ]
    }
   ],
   "source": [
    "dic = {'n':'3','M':'5'}\n",
    "for i in dic:\n",
    "    print(dic, '\\t')"
   ]
  },
  {
   "cell_type": "code",
   "execution_count": 6,
   "metadata": {},
   "outputs": [
    {
     "ename": "SyntaxError",
     "evalue": "invalid syntax (3509266263.py, line 2)",
     "output_type": "error",
     "traceback": [
      "\u001b[0;36m  Input \u001b[0;32mIn [6]\u001b[0;36m\u001b[0m\n\u001b[0;31m    dic.update('p':'9')\u001b[0m\n\u001b[0m                  ^\u001b[0m\n\u001b[0;31mSyntaxError\u001b[0m\u001b[0;31m:\u001b[0m invalid syntax\n"
     ]
    }
   ],
   "source": [
    "dic = {'n':'3','M':'5'}\n",
    "dic.update('p':'9')\n",
    "print(dic)"
   ]
  },
  {
   "cell_type": "code",
   "execution_count": 26,
   "metadata": {},
   "outputs": [
    {
     "name": "stdout",
     "output_type": "stream",
     "text": [
      "{'n': 'hello', 'm': '5'}\n"
     ]
    }
   ],
   "source": [
    "dic = {'n':'3','m':'5'}\n",
    "dic['n']='hello'\n",
    "print(dic)"
   ]
  }
 ],
 "metadata": {
  "kernelspec": {
   "display_name": "Python 3.10.4 64-bit",
   "language": "python",
   "name": "python3"
  },
  "language_info": {
   "codemirror_mode": {
    "name": "ipython",
    "version": 3
   },
   "file_extension": ".py",
   "mimetype": "text/x-python",
   "name": "python",
   "nbconvert_exporter": "python",
   "pygments_lexer": "ipython3",
   "version": "3.10.4"
  },
  "orig_nbformat": 4,
  "vscode": {
   "interpreter": {
    "hash": "aee8b7b246df8f9039afb4144a1f6fd8d2ca17a180786b69acc140d282b71a49"
   }
  }
 },
 "nbformat": 4,
 "nbformat_minor": 2
}
